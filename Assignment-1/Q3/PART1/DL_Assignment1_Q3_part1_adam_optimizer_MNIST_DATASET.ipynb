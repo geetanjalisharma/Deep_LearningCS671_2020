{
 "cells": [
  {
   "cell_type": "code",
   "execution_count": 1,
   "metadata": {},
   "outputs": [],
   "source": [
    "import numpy as np\n",
    "\n",
    "import matplotlib.pyplot as plt\n",
    "\n",
    "#%tensorflow_version 2.x\n",
    "\n",
    "import tensorflow as tf\n",
    "\n",
    "from tensorflow.keras.models import Model\n",
    "\n",
    "from tensorflow.keras.layers import Dense , Conv2D, Flatten, MaxPooling2D, BatchNormalization\n",
    "\n",
    "from tensorflow.keras import utils\n",
    "\n",
    "from tensorflow.keras.datasets import mnist"
   ]
  },
  {
   "cell_type": "code",
   "execution_count": 2,
   "metadata": {},
   "outputs": [],
   "source": [
    "(x_train, y_train), (x_test, y_test)=mnist.load_data()"
   ]
  },
  {
   "cell_type": "code",
   "execution_count": 3,
   "metadata": {},
   "outputs": [
    {
     "name": "stdout",
     "output_type": "stream",
     "text": [
      "dataset shape (70000, 28, 28)\n",
      "labels shape (70000,)\n",
      "training data (42000, 28, 28)\n",
      "training labels (42000,)\n",
      "testing data (28000, 28, 28)\n",
      "testing labels (28000,)\n"
     ]
    },
    {
     "name": "stderr",
     "output_type": "stream",
     "text": [
      "/home/gitanjali/anaconda3/envs/intel_python/lib/python3.6/site-packages/sklearn/model_selection/_split.py:2179: FutureWarning: From version 0.21, test_size will always complement train_size unless both are specified.\n",
      "  FutureWarning)\n"
     ]
    }
   ],
   "source": [
    "from sklearn.model_selection import train_test_split\n",
    "x=np.concatenate((x_train, x_test))\n",
    "y=np.concatenate((y_train, y_test))\n",
    "print(\"dataset shape\",x.shape)\n",
    "print(\"labels shape\",y.shape)\n",
    "train_size=0.6\n",
    "x_train, x_test, y_train, y_test = train_test_split(x,y, train_size=train_size)\n",
    "print(\"training data\",x_train.shape)\n",
    "print(\"training labels\",y_train.shape)\n",
    "print(\"testing data\",x_test.shape)\n",
    "print(\"testing labels\",y_test.shape)"
   ]
  },
  {
   "cell_type": "code",
   "execution_count": 4,
   "metadata": {},
   "outputs": [
    {
     "data": {
      "text/plain": [
       "<matplotlib.image.AxesImage at 0x7f3d25b4beb8>"
      ]
     },
     "execution_count": 4,
     "metadata": {},
     "output_type": "execute_result"
    },
    {
     "data": {
      "image/png": "[encoded data removed]",
      "text/plain": [
       "<Figure size 432x288 with 2 Axes>"
      ]
     },
     "metadata": {
      "needs_background": "light"
     },
     "output_type": "display_data"
    }
   ],
   "source": [
    "# plot 4 images as gray scale\n",
    "plt.subplot(221)\n",
    "plt.imshow(x_train[0], cmap=plt.get_cmap('gray'))\n",
    "plt.subplot(222)\n",
    "plt.imshow(x_train[1], cmap=plt.get_cmap('gray'))"
   ]
  },
  {
   "cell_type": "code",
   "execution_count": 5,
   "metadata": {},
   "outputs": [
    {
     "name": "stdout",
     "output_type": "stream",
     "text": [
      "input_shape (28, 28, 1)\n",
      "normalize training data (42000, 28, 28, 1)\n",
      "normalize testing data (28000, 28, 28, 1)\n",
      "training labels (42000,)\n",
      "testing labels (28000,)\n"
     ]
    }
   ],
   "source": [
    "x_train=np.expand_dims(x_train, axis=3)\n",
    "x_test=np.expand_dims(x_test, axis=3)\n",
    "\n",
    "input_shape=(x_train.shape[1], x_train.shape[2], x_train.shape[3])\n",
    "print(\"input_shape\",input_shape)\n",
    "\n",
    "# precise the pixel value to be 32 bit\n",
    "x_train = x_train.astype(\"float32\")\n",
    "x_test = x_test.astype(\"float32\")\n",
    "\n",
    "# normalize input from 0-255 to 0-1\n",
    "x_train = x_train / 255.\n",
    "x_test = x_test / 255.\n",
    "\n",
    "print(\"normalize training data\", x_train.shape)\n",
    "print(\"normalize testing data\", x_test.shape)\n",
    "print(\"training labels\", y_train.shape)\n",
    "print(\"testing labels\", y_test.shape)"
   ]
  },
  {
   "cell_type": "code",
   "execution_count": 15,
   "metadata": {},
   "outputs": [],
   "source": [
    "model = tf.keras.models.Sequential([\n",
    "    tf.keras.Input(shape=input_shape),\n",
    "    tf.keras.layers.Conv2D(32, 7, strides=(1,1), activation='relu'),\n",
    "    tf.keras.layers.BatchNormalization(axis=2),\n",
    "    tf.keras.layers.MaxPooling2D(pool_size=(2,2), strides=2),\n",
    "    tf.keras.layers.Flatten(),\n",
    "    tf.keras.layers.Dense(1024, activation='relu'),\n",
    "    #tf.keras.layers.Dropout(0.5),\n",
    "    tf.keras.layers.Dense(10, activation='softmax')\n",
    "    ])\n"
   ]
  },
  {
   "cell_type": "code",
   "execution_count": 16,
   "metadata": {},
   "outputs": [
    {
     "name": "stdout",
     "output_type": "stream",
     "text": [
      "Model: \"sequential_1\"\n",
      "_________________________________________________________________\n",
      "Layer (type)                 Output Shape              Param #   \n",
      "=================================================================\n",
      "conv2d_1 (Conv2D)            (None, 22, 22, 32)        1600      \n",
      "_________________________________________________________________\n",
      "batch_normalization_1 (Batch (None, 22, 22, 32)        88        \n",
      "_________________________________________________________________\n",
      "max_pooling2d_1 (MaxPooling2 (None, 11, 11, 32)        0         \n",
      "_________________________________________________________________\n",
      "flatten_1 (Flatten)          (None, 3872)              0         \n",
      "_________________________________________________________________\n",
      "dense_2 (Dense)              (None, 1024)              3965952   \n",
      "_________________________________________________________________\n",
      "dense_3 (Dense)              (None, 10)                10250     \n",
      "=================================================================\n",
      "Total params: 3,977,890\n",
      "Trainable params: 3,977,846\n",
      "Non-trainable params: 44\n",
      "_________________________________________________________________\n"
     ]
    }
   ],
   "source": [
    "model.summary()"
   ]
  },
  {
   "cell_type": "code",
   "execution_count": 17,
   "metadata": {},
   "outputs": [
    {
     "data": {
      "text/plain": [
       "<tensorflow.python.keras.losses.SparseCategoricalCrossentropy at 0x7f3d0cdd4ba8>"
      ]
     },
     "execution_count": 17,
     "metadata": {},
     "output_type": "execute_result"
    }
   ],
   "source": [
    "loss_fn = tf.keras.losses.SparseCategoricalCrossentropy(from_logits=True)\n",
    "loss_fn"
   ]
  },
  {
   "cell_type": "code",
   "execution_count": 18,
   "metadata": {},
   "outputs": [],
   "source": [
    "model.compile(optimizer='adam',\n",
    "              loss=loss_fn,\n",
    "              metrics=['accuracy'])"
   ]
  },
  {
   "cell_type": "code",
   "execution_count": 19,
   "metadata": {},
   "outputs": [
    {
     "name": "stdout",
     "output_type": "stream",
     "text": [
      "Train on 42000 samples, validate on 28000 samples\n",
      "Epoch 1/20\n",
      "42000/42000 [==============================] - 84s 2ms/sample - loss: 1.5422 - accuracy: 0.9187 - val_loss: 1.5228 - val_accuracy: 0.9451\n",
      "Epoch 2/20\n",
      "42000/42000 [==============================] - 79s 2ms/sample - loss: 1.4966 - accuracy: 0.9644 - val_loss: 1.4958 - val_accuracy: 0.9655\n",
      "Epoch 3/20\n",
      "42000/42000 [==============================] - 79s 2ms/sample - loss: 1.4905 - accuracy: 0.9705 - val_loss: 1.4903 - val_accuracy: 0.9705\n",
      "Epoch 4/20\n",
      "42000/42000 [==============================] - 79s 2ms/sample - loss: 1.4880 - accuracy: 0.9730 - val_loss: 1.4869 - val_accuracy: 0.9742\n",
      "Epoch 5/20\n",
      "42000/42000 [==============================] - 78s 2ms/sample - loss: 1.4865 - accuracy: 0.9745 - val_loss: 1.4901 - val_accuracy: 0.9709\n",
      "Epoch 6/20\n",
      "42000/42000 [==============================] - 78s 2ms/sample - loss: 1.4842 - accuracy: 0.9768 - val_loss: 1.4852 - val_accuracy: 0.9759\n",
      "Epoch 7/20\n",
      "42000/42000 [==============================] - 78s 2ms/sample - loss: 1.4912 - accuracy: 0.9699 - val_loss: 1.4901 - val_accuracy: 0.9710\n",
      "Epoch 8/20\n",
      "42000/42000 [==============================] - 79s 2ms/sample - loss: 1.4869 - accuracy: 0.9742 - val_loss: 1.4886 - val_accuracy: 0.9726\n",
      "Epoch 9/20\n",
      "42000/42000 [==============================] - 79s 2ms/sample - loss: 1.4843 - accuracy: 0.9769 - val_loss: 1.5012 - val_accuracy: 0.9599\n",
      "Epoch 10/20\n",
      "42000/42000 [==============================] - 79s 2ms/sample - loss: 1.4844 - accuracy: 0.9768 - val_loss: 1.4866 - val_accuracy: 0.9744\n",
      "Epoch 11/20\n",
      "42000/42000 [==============================] - 79s 2ms/sample - loss: 1.4865 - accuracy: 0.9745 - val_loss: 1.4887 - val_accuracy: 0.9724\n",
      "Epoch 12/20\n",
      "42000/42000 [==============================] - 78s 2ms/sample - loss: 1.4868 - accuracy: 0.9743 - val_loss: 1.4863 - val_accuracy: 0.9747\n",
      "Epoch 13/20\n",
      "42000/42000 [==============================] - 79s 2ms/sample - loss: 1.4831 - accuracy: 0.9780 - val_loss: 1.4833 - val_accuracy: 0.9780\n",
      "Epoch 14/20\n",
      "42000/42000 [==============================] - 78s 2ms/sample - loss: 1.4828 - accuracy: 0.9783 - val_loss: 1.4859 - val_accuracy: 0.9751\n",
      "Epoch 15/20\n",
      "42000/42000 [==============================] - 79s 2ms/sample - loss: 1.4817 - accuracy: 0.9794 - val_loss: 1.4849 - val_accuracy: 0.9762\n",
      "Epoch 16/20\n",
      "42000/42000 [==============================] - 79s 2ms/sample - loss: 1.4840 - accuracy: 0.9772 - val_loss: 1.4850 - val_accuracy: 0.9762\n",
      "Epoch 17/20\n",
      "42000/42000 [==============================] - 83s 2ms/sample - loss: 1.4823 - accuracy: 0.9789 - val_loss: 1.4890 - val_accuracy: 0.9721\n",
      "Epoch 18/20\n",
      "42000/42000 [==============================] - 81s 2ms/sample - loss: 1.4854 - accuracy: 0.9758 - val_loss: 1.4907 - val_accuracy: 0.9704\n",
      "Epoch 19/20\n",
      "42000/42000 [==============================] - 81s 2ms/sample - loss: 1.4821 - accuracy: 0.9790 - val_loss: 1.4840 - val_accuracy: 0.9771\n",
      "Epoch 20/20\n",
      "42000/42000 [==============================] - 81s 2ms/sample - loss: 1.4803 - accuracy: 0.9809 - val_loss: 1.4822 - val_accuracy: 0.9789\n"
     ]
    }
   ],
   "source": [
    "history = model.fit(x_train, y_train, validation_data=(x_test, y_test), epochs=20, batch_size=128)\n"
   ]
  },
  {
   "cell_type": "code",
   "execution_count": 20,
   "metadata": {},
   "outputs": [
    {
     "name": "stdout",
     "output_type": "stream",
     "text": [
      "Saved model to disk\n"
     ]
    }
   ],
   "source": [
    "from keras.models import model_from_json\n",
    "# save trained model\n",
    "# serialize model to JSON\n",
    "model_json = model.to_json()\n",
    "with open(\"Q3_part1_mnist_dataset.json\", \"w\") as json_file:\n",
    "    json_file.write(model_json)\n",
    "# serialize weights to HDF5 and saving the weights\n",
    "model.save_weights(\"Q3_part1_mnist_dataset.h5\")\n",
    "print(\"Saved model to disk\")"
   ]
  },
  {
   "cell_type": "code",
   "execution_count": 21,
   "metadata": {},
   "outputs": [
    {
     "name": "stdout",
     "output_type": "stream",
     "text": [
      "dict_keys(['loss', 'accuracy', 'val_loss', 'val_accuracy'])\n"
     ]
    },
    {
     "data": {
      "image/png": "[encoded data removed]",
      "text/plain": [
       "<Figure size 432x288 with 1 Axes>"
      ]
     },
     "metadata": {
      "needs_background": "light"
     },
     "output_type": "display_data"
    }
   ],
   "source": [
    "print(history.history.keys())\n",
    "# summarize history for accuracy\n",
    "plt.plot(history.history['accuracy'])\n",
    "plt.plot(history.history['val_accuracy'])\n",
    "plt.title('model accuracy')\n",
    "plt.ylabel('accuracy')\n",
    "plt.xlabel('epoch')\n",
    "plt.legend(['train', 'test'], loc='upper left')\n",
    "plt.show()"
   ]
  },
  {
   "cell_type": "code",
   "execution_count": 22,
   "metadata": {},
   "outputs": [
    {
     "data": {
      "image/png": "[encoded data removed]",
      "text/plain": [
       "<Figure size 432x288 with 1 Axes>"
      ]
     },
     "metadata": {
      "needs_background": "light"
     },
     "output_type": "display_data"
    }
   ],
   "source": [
    "# summarize history for loss\n",
    "plt.plot(history.history['loss'])\n",
    "plt.plot(history.history['val_loss'])\n",
    "plt.title('model loss')\n",
    "plt.ylabel('loss')\n",
    "plt.xlabel('epoch')\n",
    "plt.legend(['train', 'test'], loc='upper left')\n",
    "plt.show()"
   ]
  },
  {
   "cell_type": "code",
   "execution_count": 23,
   "metadata": {},
   "outputs": [
    {
     "name": "stdout",
     "output_type": "stream",
     "text": [
      "28000/28000 [==============================] - 17s 607us/sample - loss: 1.4822 - accuracy: 0.9789\n",
      "Accuracy : 97.89%\n",
      "Baseline Error: 2.11%\n"
     ]
    }
   ],
   "source": [
    "# Final evaluation of the model\n",
    "\n",
    "scores = model.evaluate(x_test, y_test)\n",
    "\n",
    "print(\"Accuracy : %.2f%%\" % (scores[1]*100))\n",
    "print(\"Baseline Error: %.2f%%\" % (100-scores[1]*100))"
   ]
  },
  {
   "cell_type": "code",
   "execution_count": 24,
   "metadata": {},
   "outputs": [
    {
     "name": "stdout",
     "output_type": "stream",
     "text": [
      "(28000, 10)\n",
      "(28000,)\n",
      "tf.Tensor(\n",
      "[[2665    1    0    0    6    2   15    1   15    7]\n",
      " [   0 3118    5    2    5    2    0    4    2    0]\n",
      " [   6   15 2765   28    6    0    0   13   22    5]\n",
      " [   1    4    6 2726    1   34    0   14   12   10]\n",
      " [   1    4    0    0 2739    0    4    4    6   14]\n",
      " [   2    1    2    5    0 2466   20    0   12    7]\n",
      " [   4    7    0    0   11    6 2730    0   10    0]\n",
      " [   1   13   20    3    6    1    0 2835    9   23]\n",
      " [   7   10    3    6    8   10    6    3 2613   14]\n",
      " [   5    6    0    3   43    7    1    7   13 2751]], shape=(10, 10), dtype=int32)\n"
     ]
    }
   ],
   "source": [
    "import tensorflow as tf\n",
    "y= model.predict(x_test)\n",
    "print(y.shape)\n",
    "y_pred = np.argmax(y, axis=1)\n",
    "print(y_pred.shape)\n",
    "\n",
    "#target=target_names = ['class0','class 1', 'class 2', 'class 3', 'class 4', 'class 5', 'class 6', 'class 7', 'class 8', 'class 9'] \n",
    "\n",
    "con = tf.math.confusion_matrix(labels=y_test, predictions=y_pred)\n",
    "print(con)"
   ]
  },
  {
   "cell_type": "code",
   "execution_count": 25,
   "metadata": {},
   "outputs": [
    {
     "name": "stdout",
     "output_type": "stream",
     "text": [
      "              precision    recall  f1-score   support\n",
      "\n",
      "           0       0.99      0.98      0.99      2712\n",
      "           1       0.98      0.99      0.99      3138\n",
      "           2       0.99      0.97      0.98      2860\n",
      "           3       0.98      0.97      0.98      2808\n",
      "           4       0.97      0.99      0.98      2772\n",
      "           5       0.98      0.98      0.98      2515\n",
      "           6       0.98      0.99      0.98      2768\n",
      "           7       0.98      0.97      0.98      2911\n",
      "           8       0.96      0.97      0.97      2680\n",
      "           9       0.97      0.97      0.97      2836\n",
      "\n",
      "   micro avg       0.98      0.98      0.98     28000\n",
      "   macro avg       0.98      0.98      0.98     28000\n",
      "weighted avg       0.98      0.98      0.98     28000\n",
      "\n"
     ]
    }
   ],
   "source": [
    "from sklearn.metrics import classification_report\n",
    "print(classification_report(y_test, y_pred))"
   ]
  },
  {
   "cell_type": "code",
   "execution_count": null,
   "metadata": {},
   "outputs": [],
   "source": []
  },
  {
   "cell_type": "markdown",
   "metadata": {},
   "source": [
    "# Visualization of activation map and convnet filters"
   ]
  },
  {
   "cell_type": "code",
   "execution_count": null,
   "metadata": {},
   "outputs": [],
   "source": [
    "model.load_weights(\"Q3_part1_mnist_trained_model_adam.h5\")\n",
    "model.summary()"
   ]
  },
  {
   "cell_type": "code",
   "execution_count": null,
   "metadata": {},
   "outputs": [],
   "source": [
    "model = Model(inputs=model.inputs, outputs=model.layers[1].output)\n",
    "print(model.inputs)"
   ]
  },
  {
   "cell_type": "code",
   "execution_count": null,
   "metadata": {},
   "outputs": [],
   "source": [
    "img = x_test[10].reshape(1,28,28,1)\n",
    "print(img.shape)\n",
    "figure = plt.figure(figsize=(5,5))\n",
    "plt.imshow (img[0,:,:,0],cmap=\"gray\")\n",
    "plt.axis('off')"
   ]
  },
  {
   "cell_type": "code",
   "execution_count": null,
   "metadata": {},
   "outputs": [],
   "source": [
    "feature_maps = model.predict(img)\n",
    "\n",
    "# plot all 64 maps in an 8x8 squares\n",
    "square1 = 1\n",
    "square2 = 1\n",
    "ix = 1\n",
    "for _ in range(square1):\n",
    "\tfor _ in range(square2):\n",
    "\t\t# specify subplot and turn of axis\n",
    "\t\tax = plt.subplot(square1, square2, ix)\n",
    "\t\tax.set_xticks([])\n",
    "\t\t#ax.set_yticks([])\n",
    "\t\t# plot filter channel in grayscale\n",
    "\t\tplt.imshow(feature_maps[0, :, :, ix-9], cmap='viridis')\n",
    "\t\tix += 1\n",
    "# show the figure\n",
    "plt.savefig('featuremap_disp_filter.pngQ3_part1.png')"
   ]
  },
  {
   "cell_type": "code",
   "execution_count": null,
   "metadata": {},
   "outputs": [],
   "source": [
    "for layer in model.layers:\n",
    "    if 'conv' not in layer.name:\n",
    "        continue\n",
    "    #filters, biases = layer.get_weights()\n",
    "    #print(layer.name, filters.shape)\n",
    "    \n",
    "filters, biases = model.layers[1].get_weights()\n",
    "filters1 = filters\n",
    "f_min, f_max = filters.min(), filters.max()\n",
    "filters = (filters - f_min)/(f_max - f_min)\n",
    "#print(filters.shape, biases.shape)\n",
    "print(filters1.shape)\n",
    "#plt.imshow(filters[1, :, :, 0], cmap='viridis')\n",
    "#plt.show()\n",
    "# plot all 64 maps in an 8x8 squares\n",
    "n_filters = 1\n",
    "ix = 1\n",
    "\n",
    "for i in range(n_filters):\n",
    "    f = filters[:, :, :, 30]\n",
    "    #plot each channel seperately\n",
    "    for j in range(1):\n",
    "\t\t# specify subplot and turn of axis\n",
    "        ax = plt.subplot(n_filters, 1, ix)\n",
    "        ax.set_xticks([])\n",
    "        ax.set_yticks([])\n",
    "        # plot filter channel in grayscale\n",
    "        plt.imshow(f[:, :, j], cmap='viridis') \n",
    "        ix += 1\n",
    "# show the figure\n",
    "plt.savefig('featuremap_disp_filter.png')\n",
    "plt.show()"
   ]
  },
  {
   "cell_type": "code",
   "execution_count": null,
   "metadata": {},
   "outputs": [],
   "source": []
  },
  {
   "cell_type": "code",
   "execution_count": null,
   "metadata": {},
   "outputs": [],
   "source": []
  },
  {
   "cell_type": "code",
   "execution_count": null,
   "metadata": {},
   "outputs": [],
   "source": []
  }
 ],
 "metadata": {
  "kernelspec": {
   "display_name": "Python 3",
   "language": "python",
   "name": "python3"
  },
  "language_info": {
   "codemirror_mode": {
    "name": "ipython",
    "version": 3
   },
   "file_extension": ".py",
   "mimetype": "text/x-python",
   "name": "python",
   "nbconvert_exporter": "python",
   "pygments_lexer": "ipython3",
   "version": "3.6.8"
  }
 },
 "nbformat": 4,
 "nbformat_minor": 2
}
