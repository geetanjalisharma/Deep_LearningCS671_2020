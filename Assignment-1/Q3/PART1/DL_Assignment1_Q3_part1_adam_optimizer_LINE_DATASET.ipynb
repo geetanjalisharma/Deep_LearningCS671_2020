{
 "cells": [
  {
   "cell_type": "code",
   "execution_count": 1,
   "metadata": {},
   "outputs": [],
   "source": [
    "import numpy as np\n",
    "\n",
    "import matplotlib.pyplot as plt\n",
    "\n",
    "#%tensorflow_version 2.x\n",
    "\n",
    "import tensorflow as tf\n",
    "\n",
    "from tensorflow.keras.models import Model\n",
    "\n",
    "from tensorflow.keras.layers import Dense , Conv2D, Flatten, MaxPooling2D, BatchNormalization\n",
    "\n",
    "from tensorflow.keras import utils\n",
    "\n",
    "from tensorflow.keras.datasets import mnist"
   ]
  },
  {
   "cell_type": "code",
   "execution_count": 2,
   "metadata": {},
   "outputs": [
    {
     "name": "stdout",
     "output_type": "stream",
     "text": [
      "['Class91', 'Class21', 'Class14', 'Class29', 'Class60', 'Class39', 'Class45', 'Class2', 'Class17', 'Class84', 'Class76', 'Class71', 'Class92', 'Class96', 'Class82', 'Class73', 'Class46', 'Class37', 'Class6', 'Class54', 'Class43', 'Class41', 'Class65', 'Class83', 'Class57', 'Class38', 'Class77', 'Class10', 'Class61', 'Class16', 'Class26', 'Class94', 'Class22', 'Class18', 'Class20', 'Class66', 'Class78', 'Class55', 'Class9', 'Class24', 'Class36', 'Class67', 'Class75', 'Class34', 'Class59', 'Class88', 'Class44', 'Class90', 'Class8', 'Class13', 'Class11', 'Class85', 'Class79', 'Class56', 'Class32', 'Class62', 'Class25', 'Class42', 'Class89', 'Class33', 'Class81', 'Class53', 'Class51', 'Class30', 'Class69', 'Class35', 'Class19', 'Class4', 'Class47', 'Class23', 'Class40', 'Class95', 'Class50', 'Class58', 'Class27', 'Class49', 'Class7', 'Class31', 'Class52', 'Class1', 'Class48', 'Class68', 'Class72', 'Class5', 'Class86', 'Class3', 'Class15', 'Class87', 'Class70', 'Class93', 'Class28', 'Class74', 'Class80', 'Class64', 'Class63', 'Class12']\n",
      "96\n",
      "[array([[ 0.,  1.,  0., ...,  0.,  0.,  0.],\n",
      "       [ 0.,  0.,  0., ...,  4.,  0.,  0.],\n",
      "       [ 0.,  4.,  0., ...,  0.,  0.,  0.],\n",
      "       ...,\n",
      "       [ 0.,  3.,  2., ...,  0.,  0.,  0.],\n",
      "       [ 0.,  0.,  0., ...,  3.,  0.,  2.],\n",
      "       [ 3.,  0., 14., ...,  0.,  0.,  0.]], dtype=float32), array([37, 67, 38, ..., 95, 72, 89])]\n",
      "number of classes 96\n"
     ]
    }
   ],
   "source": [
    "from sklearn.utils import shuffle\n",
    "from sklearn.model_selection import train_test_split\n",
    "import os\n",
    "from numpy import array\n",
    "from PIL import Image\n",
    "import numpy\n",
    "import numpy as np\n",
    "\n",
    "# input image dimensions\n",
    "img_rows, img_cols = 28, 28\n",
    "\n",
    "\n",
    "# number of channels\n",
    "img_channels = 3\n",
    "\n",
    "# number of epochs\n",
    "epochs=20\n",
    "#batch Size\n",
    "batch_size=32\n",
    "\n",
    "target_names = ['class 1', 'class 2', 'class 3', 'class 4', 'class 5', 'class 6', 'class 7', 'class 8', 'class 9', 'class10', \n",
    "                'class 11', 'class 12', 'class 13', 'class 14', 'class 15', 'class 16', 'class 17', 'class 18', 'class 19', 'class 20',\n",
    "                'class 21', 'class 22', 'class 23', 'class 24', 'class 25', 'class 26', 'class 27', 'class 28', 'class 29', 'class 30',\n",
    "                'class 31', 'class 32', 'class 33', 'class 34', 'class 35', 'class 36', 'class 37', 'class 38', 'class 39', 'class 40',\n",
    "                'class 41', 'class 42', 'class 43', 'class 44', 'class 45', 'class 46', 'class 47', 'class 48', 'class 49', 'class 50',\n",
    "                'class 51', 'class 52', 'class 53', 'class 54', 'class 55', 'class 56', 'class 57', 'class 58', 'class 59', 'class 60',\n",
    "                'class 61', 'class 62', 'class 63', 'class 64', 'class 65', 'class 66', 'class 67', 'class 68', 'class 69', 'class 70',\n",
    "                'class 71', 'class 72', 'class 73', 'class 74', 'class 75', 'class 76', 'class 77', 'class 78', 'class 79', 'class 80',\n",
    "                'class 81', 'class 82', 'class 83', 'class 84', 'class 85', 'class 86', 'class 87', 'class 88', 'class 89', 'class 90',\n",
    "                'class 91', 'class 92', 'class 93', 'class 94', 'class 95', 'class 96']\n",
    "\n",
    "# Path to the folder that is containing all the folders correspond to different class\n",
    "path = '/home/gitanjali/Desktop/Deep_learning/DL_2020/assignment1/line_data'\n",
    "\n",
    "\n",
    "list_files = os.listdir(path) # List_Files contains names of different folders inside \n",
    "print (list_files)\n",
    "number_class = len(list_files) # Number of classes\n",
    "print (number_class) \n",
    "num_samples = 0\n",
    "#Processing images for each class\n",
    "global combine_matrix # declaration of variable\n",
    "n_da_per_class = [] # create list for containing size(total number of images) of each class\n",
    "check_first = 1\n",
    "\n",
    "for class_n in list_files:\n",
    "    class_list = os.listdir(path + '/'+ class_n)\n",
    "    #print(\"class list\", class_list)\n",
    "    class_im = array(Image.open(path + '/'+ class_n + '/' + class_list[0])) # open one image to get size\n",
    "    image_m,image_n = class_im.shape[0:2] # get the size of the one image in Class\n",
    "    class_imnbr = len(class_list) # get the number of images corresponding to each class\n",
    "    n_da_per_class.append(class_imnbr) # append size of folder in n_da_per_class list\n",
    "    num_samples = num_samples + class_imnbr\n",
    "    class_immatrix_n = array([array(Image.open(path + '/'+ class_n + '/' + class_im2)).flatten()\n",
    "                            for class_im2 in class_list],'f')\n",
    "    \n",
    "    #print (os.path.getsize(class_immatrix_n))\n",
    "    if check_first == 1:\n",
    "        check_first = 0\n",
    "        combine_matrix = class_immatrix_n\n",
    "    else:\n",
    "        combine_matrix  = numpy.concatenate((combine_matrix, class_immatrix_n), axis=0)  # Combining each matrix\n",
    "    \n",
    "\n",
    "label=numpy.ones((num_samples,),dtype = int) # number of elements in label = number of samples\n",
    "class_ind = 0; # initializing class label\n",
    "number = 0\n",
    "sum_number = 0\n",
    "for data_p_c in n_da_per_class:  # for each image, label is assigned\n",
    "    number = number + int(data_p_c)\n",
    "    for i in range(sum_number, number):\n",
    "        label[i] = class_ind\n",
    "    class_ind = class_ind + 1\n",
    "    sum_number = sum_number + int(data_p_c)\n",
    "\n",
    "data,Label = shuffle(combine_matrix,label, random_state=2)\n",
    "train_data = [data,Label]\n",
    "print ((train_data)) \n",
    "(x, y) = (train_data[0],train_data[1])\n",
    "# number of output classes\n",
    "nb_classes = number_class\n",
    "print(\"number of classes\",nb_classes)\n"
   ]
  },
  {
   "cell_type": "code",
   "execution_count": null,
   "metadata": {},
   "outputs": [],
   "source": []
  },
  {
   "cell_type": "code",
   "execution_count": 4,
   "metadata": {},
   "outputs": [
    {
     "name": "stdout",
     "output_type": "stream",
     "text": [
      "training data (57600, 28, 28, 3)\n",
      "training labels (57600,)\n",
      "testing data (38400, 28, 28, 3)\n",
      "testing labels (38400,)\n"
     ]
    }
   ],
   "source": [
    "img_rows = 28\n",
    "img_cols = 28\n",
    "\n",
    "x_train, x_test, y_train, y_test = train_test_split(x, y, test_size=0.4, random_state=2)\n",
    "x_train = x_train.reshape(x_train.shape[0], img_rows, img_cols, 3)\n",
    "x_test = x_test.reshape(x_test.shape[0], img_rows, img_cols, 3)\n",
    "print(\"training data\",x_train.shape)\n",
    "print(\"training labels\",y_train.shape)\n",
    "print(\"testing data\",x_test.shape)\n",
    "print(\"testing labels\",y_test.shape)"
   ]
  },
  {
   "cell_type": "code",
   "execution_count": 5,
   "metadata": {},
   "outputs": [
    {
     "name": "stderr",
     "output_type": "stream",
     "text": [
      "Clipping input data to the valid range for imshow with RGB data ([0..1] for floats or [0..255] for integers).\n",
      "Clipping input data to the valid range for imshow with RGB data ([0..1] for floats or [0..255] for integers).\n"
     ]
    },
    {
     "data": {
      "text/plain": [
       "<matplotlib.image.AxesImage at 0x7fe4532e9128>"
      ]
     },
     "execution_count": 5,
     "metadata": {},
     "output_type": "execute_result"
    },
    {
     "data": {
      "image/png": "[encoded data removed]",
      "text/plain": [
       "<Figure size 432x288 with 2 Axes>"
      ]
     },
     "metadata": {
      "needs_background": "light"
     },
     "output_type": "display_data"
    }
   ],
   "source": [
    "# plot 2 images\n",
    "plt.subplot(221)\n",
    "plt.imshow(x_train[0])\n",
    "plt.subplot(222)\n",
    "plt.imshow(x_train[1])"
   ]
  },
  {
   "cell_type": "code",
   "execution_count": 6,
   "metadata": {},
   "outputs": [
    {
     "name": "stdout",
     "output_type": "stream",
     "text": [
      "normalize training data (57600, 28, 28, 3)\n",
      "normalize testing data (38400, 28, 28, 3)\n",
      "training labels (57600,)\n",
      "testing labels (38400,)\n"
     ]
    }
   ],
   "source": [
    "# precise the pixel value to be 32 bit\n",
    "x_train = x_train.astype(\"float32\")\n",
    "x_test = x_test.astype(\"float32\")\n",
    "\n",
    "# normalize input from 0-255 to 0-1\n",
    "x_train = x_train / 255.\n",
    "x_test = x_test / 255.\n",
    "\n",
    "print(\"normalize training data\", x_train.shape)\n",
    "print(\"normalize testing data\", x_test.shape)\n",
    "print(\"training labels\", y_train.shape)\n",
    "print(\"testing labels\", y_test.shape)"
   ]
  },
  {
   "cell_type": "code",
   "execution_count": 7,
   "metadata": {},
   "outputs": [],
   "source": [
    "model = tf.keras.models.Sequential([\n",
    "    tf.keras.Input(shape=(28,28,3)),\n",
    "    tf.keras.layers.Conv2D(32, 7, strides=(1,1), activation='relu'),\n",
    "    tf.keras.layers.BatchNormalization(),\n",
    "    tf.keras.layers.MaxPooling2D(pool_size=(2,2), strides=2),\n",
    "    tf.keras.layers.Flatten(),\n",
    "    tf.keras.layers.Dense(1024, activation='relu'),\n",
    "    tf.keras.layers.Dense(96, activation='softmax')\n",
    "    ])\n"
   ]
  },
  {
   "cell_type": "code",
   "execution_count": 15,
   "metadata": {},
   "outputs": [
    {
     "name": "stdout",
     "output_type": "stream",
     "text": [
      "Model: \"sequential\"\n",
      "_________________________________________________________________\n",
      "Layer (type)                 Output Shape              Param #   \n",
      "=================================================================\n",
      "conv2d (Conv2D)              (None, 22, 22, 32)        4736      \n",
      "_________________________________________________________________\n",
      "batch_normalization (BatchNo (None, 22, 22, 32)        128       \n",
      "_________________________________________________________________\n",
      "max_pooling2d (MaxPooling2D) (None, 11, 11, 32)        0         \n",
      "_________________________________________________________________\n",
      "flatten (Flatten)            (None, 3872)              0         \n",
      "_________________________________________________________________\n",
      "dense (Dense)                (None, 1024)              3965952   \n",
      "_________________________________________________________________\n",
      "dense_1 (Dense)              (None, 96)                98400     \n",
      "=================================================================\n",
      "Total params: 4,069,216\n",
      "Trainable params: 4,069,152\n",
      "Non-trainable params: 64\n",
      "_________________________________________________________________\n"
     ]
    }
   ],
   "source": [
    "model.summary()"
   ]
  },
  {
   "cell_type": "code",
   "execution_count": 8,
   "metadata": {},
   "outputs": [
    {
     "data": {
      "text/plain": [
       "<tensorflow.python.keras.losses.SparseCategoricalCrossentropy at 0x7fe45327a470>"
      ]
     },
     "execution_count": 8,
     "metadata": {},
     "output_type": "execute_result"
    }
   ],
   "source": [
    "loss_fn = tf.keras.losses.SparseCategoricalCrossentropy(from_logits=True)\n",
    "loss_fn"
   ]
  },
  {
   "cell_type": "code",
   "execution_count": 9,
   "metadata": {},
   "outputs": [],
   "source": [
    "model.compile(optimizer='adam',\n",
    "              loss=loss_fn,\n",
    "              metrics=['accuracy'])"
   ]
  },
  {
   "cell_type": "code",
   "execution_count": 18,
   "metadata": {},
   "outputs": [
    {
     "name": "stdout",
     "output_type": "stream",
     "text": [
      "Train on 57600 samples, validate on 38400 samples\n",
      "Epoch 1/20\n",
      "57600/57600 [==============================] - 201s 3ms/sample - loss: 4.4630 - accuracy: 0.1189 - val_loss: 4.4744 - val_accuracy: 0.1470\n",
      "Epoch 2/20\n",
      "57600/57600 [==============================] - 113s 2ms/sample - loss: 4.3808 - accuracy: 0.2017 - val_loss: 4.3602 - val_accuracy: 0.2238\n",
      "Epoch 3/20\n",
      "57600/57600 [==============================] - 106s 2ms/sample - loss: 4.3257 - accuracy: 0.2564 - val_loss: 4.3219 - val_accuracy: 0.2606\n",
      "Epoch 4/20\n",
      "57600/57600 [==============================] - 106s 2ms/sample - loss: 4.3061 - accuracy: 0.2761 - val_loss: 4.3058 - val_accuracy: 0.2766\n",
      "Epoch 5/20\n",
      "57600/57600 [==============================] - 106s 2ms/sample - loss: 4.2977 - accuracy: 0.2845 - val_loss: 4.3051 - val_accuracy: 0.2772\n",
      "Epoch 6/20\n",
      "57600/57600 [==============================] - 106s 2ms/sample - loss: 4.2922 - accuracy: 0.2897 - val_loss: 4.2932 - val_accuracy: 0.2890\n",
      "Epoch 7/20\n",
      "57600/57600 [==============================] - 106s 2ms/sample - loss: 4.2890 - accuracy: 0.2931 - val_loss: 4.2947 - val_accuracy: 0.2874\n",
      "Epoch 8/20\n",
      "57600/57600 [==============================] - 106s 2ms/sample - loss: 4.2839 - accuracy: 0.2981 - val_loss: 4.2942 - val_accuracy: 0.2879\n",
      "Epoch 9/20\n",
      "57600/57600 [==============================] - 107s 2ms/sample - loss: 4.2769 - accuracy: 0.3052 - val_loss: 4.2889 - val_accuracy: 0.2935\n",
      "Epoch 10/20\n",
      "57600/57600 [==============================] - 106s 2ms/sample - loss: 4.2748 - accuracy: 0.3072 - val_loss: 4.2796 - val_accuracy: 0.3023\n",
      "Epoch 11/20\n",
      "57600/57600 [==============================] - 106s 2ms/sample - loss: 4.2676 - accuracy: 0.3143 - val_loss: 4.2669 - val_accuracy: 0.3151\n",
      "Epoch 12/20\n",
      "57600/57600 [==============================] - 106s 2ms/sample - loss: 4.2617 - accuracy: 0.3202 - val_loss: 4.2666 - val_accuracy: 0.3153\n",
      "Epoch 13/20\n",
      "57600/57600 [==============================] - 110s 2ms/sample - loss: 4.2618 - accuracy: 0.3202 - val_loss: 4.2673 - val_accuracy: 0.3147\n",
      "Epoch 14/20\n",
      "57600/57600 [==============================] - 109s 2ms/sample - loss: 4.2638 - accuracy: 0.3181 - val_loss: 4.2750 - val_accuracy: 0.3071\n",
      "Epoch 15/20\n",
      "57600/57600 [==============================] - 109s 2ms/sample - loss: 4.2648 - accuracy: 0.3172 - val_loss: 4.2695 - val_accuracy: 0.3125\n",
      "Epoch 16/20\n",
      "57600/57600 [==============================] - 109s 2ms/sample - loss: 4.2645 - accuracy: 0.3175 - val_loss: 4.2691 - val_accuracy: 0.3130\n",
      "Epoch 17/20\n",
      "57600/57600 [==============================] - 108s 2ms/sample - loss: 4.2630 - accuracy: 0.3189 - val_loss: 4.2659 - val_accuracy: 0.3164\n",
      "Epoch 18/20\n",
      "57600/57600 [==============================] - 108s 2ms/sample - loss: 4.2609 - accuracy: 0.3211 - val_loss: 4.2646 - val_accuracy: 0.3174\n",
      "Epoch 19/20\n",
      "57600/57600 [==============================] - 108s 2ms/sample - loss: 4.2579 - accuracy: 0.3240 - val_loss: 4.2625 - val_accuracy: 0.3194\n",
      "Epoch 20/20\n",
      "57600/57600 [==============================] - 109s 2ms/sample - loss: 4.2565 - accuracy: 0.3255 - val_loss: 4.2642 - val_accuracy: 0.3178\n"
     ]
    }
   ],
   "source": [
    "history = model.fit(x_train, y_train, validation_data=(x_test, y_test), epochs=20, batch_size=200)\n"
   ]
  },
  {
   "cell_type": "code",
   "execution_count": 19,
   "metadata": {},
   "outputs": [
    {
     "name": "stderr",
     "output_type": "stream",
     "text": [
      "Using TensorFlow backend.\n"
     ]
    },
    {
     "name": "stdout",
     "output_type": "stream",
     "text": [
      "Saved model to disk\n"
     ]
    }
   ],
   "source": [
    "from keras.models import model_from_json\n",
    "# save trained model\n",
    "# serialize model to JSON\n",
    "model_json = model.to_json()\n",
    "with open(\"Q3_part1_LINE_trained_model_adam.json\", \"w\") as json_file:\n",
    "    json_file.write(model_json)\n",
    "# serialize weights to HDF5 and saving the weights\n",
    "model.save_weights(\"Q3_part1_LINE_trained_model_adam.h5\")\n",
    "print(\"Saved model to disk\")"
   ]
  },
  {
   "cell_type": "code",
   "execution_count": 20,
   "metadata": {},
   "outputs": [
    {
     "name": "stdout",
     "output_type": "stream",
     "text": [
      "dict_keys(['loss', 'accuracy', 'val_loss', 'val_accuracy'])\n"
     ]
    },
    {
     "data": {
      "image/png": "[encoded data removed]",
      "text/plain": [
       "<Figure size 432x288 with 1 Axes>"
      ]
     },
     "metadata": {
      "needs_background": "light"
     },
     "output_type": "display_data"
    }
   ],
   "source": [
    "print(history.history.keys())\n",
    "# summarize history for accuracy\n",
    "plt.plot(history.history['accuracy'])\n",
    "plt.plot(history.history['val_accuracy'])\n",
    "plt.title('model accuracy')\n",
    "plt.ylabel('accuracy')\n",
    "plt.xlabel('epoch')\n",
    "plt.legend(['train', 'test'], loc='upper left')\n",
    "plt.show()"
   ]
  },
  {
   "cell_type": "code",
   "execution_count": 21,
   "metadata": {},
   "outputs": [
    {
     "data": {
      "image/png": "[encoded data removed]",
      "text/plain": [
       "<Figure size 432x288 with 1 Axes>"
      ]
     },
     "metadata": {
      "needs_background": "light"
     },
     "output_type": "display_data"
    }
   ],
   "source": [
    "# summarize history for loss\n",
    "plt.plot(history.history['loss'])\n",
    "plt.plot(history.history['val_loss'])\n",
    "plt.title('model loss')\n",
    "plt.ylabel('loss')\n",
    "plt.xlabel('epoch')\n",
    "plt.legend(['train', 'test'], loc='upper left')\n",
    "plt.show()"
   ]
  },
  {
   "cell_type": "code",
   "execution_count": 22,
   "metadata": {},
   "outputs": [
    {
     "name": "stdout",
     "output_type": "stream",
     "text": [
      "38400/38400 [==============================] - 40s 1ms/sample - loss: 4.2642 - accuracy: 0.3178\n",
      "Accuracy : 31.78%\n",
      "Baseline Error: 68.22%\n"
     ]
    }
   ],
   "source": [
    "# Final evaluation of the model\n",
    "\n",
    "scores = model.evaluate(x_test, y_test)\n",
    "\n",
    "print(\"Accuracy : %.2f%%\" % (scores[1]*100))\n",
    "print(\"Baseline Error: %.2f%%\" % (100-scores[1]*100))"
   ]
  },
  {
   "cell_type": "code",
   "execution_count": 11,
   "metadata": {},
   "outputs": [
    {
     "name": "stdout",
     "output_type": "stream",
     "text": [
      "(38400, 96)\n",
      "(38400,)\n",
      "tf.Tensor(\n",
      "[[  0   0   0 ...   0  71   0]\n",
      " [  0   0   0 ...   0   0   0]\n",
      " [  0   0   0 ...   0   0   0]\n",
      " ...\n",
      " [  0   0   0 ...   0 386   0]\n",
      " [  0   0   0 ...   0 390   0]\n",
      " [  0   0   0 ...   0   0   0]], shape=(96, 96), dtype=int32)\n"
     ]
    }
   ],
   "source": [
    "import tensorflow as tf\n",
    "y= model.predict(x_test)\n",
    "print(y.shape)\n",
    "y_pred = np.argmax(y, axis=1)\n",
    "print(y_pred.shape)\n",
    "\n",
    "#target=target_names = ['class0','class 1', 'class 2', 'class 3', 'class 4', 'class 5', 'class 6', 'class 7', 'class 8', 'class 9'] \n",
    "\n",
    "con = tf.math.confusion_matrix(labels=y_test, predictions=y_pred)\n",
    "print(con)"
   ]
  },
  {
   "cell_type": "code",
   "execution_count": 12,
   "metadata": {},
   "outputs": [
    {
     "name": "stdout",
     "output_type": "stream",
     "text": [
      "              precision    recall  f1-score   support\n",
      "\n",
      "           0       0.00      0.00      0.00       383\n",
      "           1       0.00      0.00      0.00       415\n",
      "           2       0.00      0.00      0.00       404\n",
      "           3       0.21      1.00      0.35       398\n",
      "           4       0.00      0.00      0.00       411\n",
      "           5       0.00      0.00      0.00       394\n",
      "           6       0.15      1.00      0.27       394\n",
      "           7       0.66      0.30      0.41       397\n",
      "           8       0.00      0.00      0.00       394\n",
      "           9       0.00      0.00      0.00       385\n",
      "          10       0.00      0.00      0.00       409\n",
      "          11       0.00      0.00      0.00       405\n",
      "          12       0.00      0.00      0.00       389\n",
      "          13       0.00      0.00      0.00       386\n",
      "          14       0.24      1.00      0.38       333\n",
      "          15       0.00      0.00      0.00       419\n",
      "          16       0.00      0.00      0.00       418\n",
      "          17       0.00      0.00      0.00       397\n",
      "          18       1.00      1.00      1.00       416\n",
      "          19       0.87      0.84      0.85       423\n",
      "          20       0.00      0.00      0.00       425\n",
      "          21       0.00      0.00      0.00       421\n",
      "          22       0.00      0.00      0.00       418\n",
      "          23       0.00      0.00      0.00       383\n",
      "          24       0.00      0.00      0.00       421\n",
      "          25       0.58      1.00      0.73       376\n",
      "          26       0.00      0.00      0.00       418\n",
      "          27       1.00      1.00      1.00       392\n",
      "          28       0.00      0.00      0.00       402\n",
      "          29       0.00      0.00      0.00       421\n",
      "          30       0.72      1.00      0.84       392\n",
      "          31       0.88      1.00      0.94       417\n",
      "          32       0.00      0.00      0.00       387\n",
      "          33       0.50      1.00      0.66       389\n",
      "          34       0.00      0.00      0.00       384\n",
      "          35       0.00      0.00      0.00       406\n",
      "          36       0.00      0.00      0.00       382\n",
      "          37       0.00      0.00      0.00       385\n",
      "          38       0.99      1.00      0.99       392\n",
      "          39       0.00      0.00      0.00       407\n",
      "          40       0.00      0.00      0.00       381\n",
      "          41       0.00      0.00      0.00       425\n",
      "          42       0.00      0.00      0.00       393\n",
      "          43       0.00      0.00      0.00       434\n",
      "          44       0.00      0.00      0.00       407\n",
      "          45       0.00      0.00      0.00       425\n",
      "          46       0.00      0.00      0.00       398\n",
      "          47       0.87      0.99      0.92       398\n",
      "          48       0.81      0.99      0.89       417\n",
      "          49       0.39      1.00      0.56       414\n",
      "          50       0.43      0.96      0.59       371\n",
      "          51       0.00      0.00      0.00       392\n",
      "          52       0.00      0.00      0.00       378\n",
      "          53       0.00      0.00      0.00       383\n",
      "          54       0.00      0.00      0.00       427\n",
      "          55       0.47      1.00      0.64       400\n",
      "          56       0.00      0.00      0.00       410\n",
      "          57       0.00      0.00      0.00       406\n",
      "          58       0.26      1.00      0.42       407\n",
      "          59       0.00      0.00      0.00       386\n",
      "          60       0.46      1.00      0.63       397\n",
      "          61       0.22      1.00      0.36       387\n",
      "          62       0.00      0.00      0.00       410\n",
      "          63       0.00      0.00      0.00       365\n",
      "          64       0.26      0.99      0.41       424\n",
      "          65       0.00      0.00      0.00       396\n",
      "          66       0.15      1.00      0.26       386\n",
      "          67       0.00      0.00      0.00       393\n",
      "          68       0.00      0.00      0.00       406\n",
      "          69       0.00      0.00      0.00       394\n",
      "          70       0.29      1.00      0.45       399\n",
      "          71       0.00      0.00      0.00       406\n",
      "          72       0.86      0.85      0.86       399\n",
      "          73       0.00      0.00      0.00       401\n",
      "          74       0.23      0.12      0.16       409\n",
      "          75       0.00      0.00      0.00       404\n",
      "          76       0.00      0.00      0.00       413\n",
      "          77       0.24      0.90      0.38       409\n",
      "          78       0.15      1.00      0.27       387\n",
      "          79       0.00      0.00      0.00       434\n",
      "          80       0.00      0.00      0.00       424\n",
      "          81       0.00      0.00      0.00       396\n",
      "          82       0.15      1.00      0.26       402\n",
      "          83       0.86      1.00      0.92       389\n",
      "          84       0.00      0.00      0.00       383\n",
      "          85       0.17      0.94      0.29       402\n",
      "          86       0.00      0.00      0.00       379\n",
      "          87       0.00      0.00      0.00       386\n",
      "          88       0.32      1.00      0.49       409\n",
      "          89       0.00      0.00      0.00       392\n",
      "          90       0.95      0.87      0.91       404\n",
      "          91       0.00      0.00      0.00       403\n",
      "          92       0.00      0.00      0.00       388\n",
      "          93       0.00      0.00      0.00       386\n",
      "          94       0.12      1.00      0.21       390\n",
      "          95       0.00      0.00      0.00       408\n",
      "\n",
      "   micro avg       0.32      0.32      0.32     38400\n",
      "   macro avg       0.17      0.32      0.20     38400\n",
      "weighted avg       0.17      0.32      0.20     38400\n",
      "\n"
     ]
    },
    {
     "name": "stderr",
     "output_type": "stream",
     "text": [
      "/home/gitanjali/anaconda3/envs/intel_python/lib/python3.6/site-packages/sklearn/metrics/classification.py:1143: UndefinedMetricWarning: Precision and F-score are ill-defined and being set to 0.0 in labels with no predicted samples.\n",
      "  'precision', 'predicted', average, warn_for)\n"
     ]
    }
   ],
   "source": [
    "from sklearn.metrics import classification_report\n",
    "print(classification_report(y_test, y_pred))"
   ]
  },
  {
   "cell_type": "code",
   "execution_count": null,
   "metadata": {},
   "outputs": [],
   "source": []
  },
  {
   "cell_type": "markdown",
   "metadata": {},
   "source": [
    "# Visualization of activation map and convnet filters"
   ]
  },
  {
   "cell_type": "code",
   "execution_count": 10,
   "metadata": {},
   "outputs": [
    {
     "name": "stdout",
     "output_type": "stream",
     "text": [
      "Model: \"sequential\"\n",
      "_________________________________________________________________\n",
      "Layer (type)                 Output Shape              Param #   \n",
      "=================================================================\n",
      "conv2d (Conv2D)              (None, 22, 22, 32)        4736      \n",
      "_________________________________________________________________\n",
      "batch_normalization (BatchNo (None, 22, 22, 32)        128       \n",
      "_________________________________________________________________\n",
      "max_pooling2d (MaxPooling2D) (None, 11, 11, 32)        0         \n",
      "_________________________________________________________________\n",
      "flatten (Flatten)            (None, 3872)              0         \n",
      "_________________________________________________________________\n",
      "dense (Dense)                (None, 1024)              3965952   \n",
      "_________________________________________________________________\n",
      "dense_1 (Dense)              (None, 96)                98400     \n",
      "=================================================================\n",
      "Total params: 4,069,216\n",
      "Trainable params: 4,069,152\n",
      "Non-trainable params: 64\n",
      "_________________________________________________________________\n"
     ]
    }
   ],
   "source": [
    "model.load_weights(\"Q3_part1_LINE_trained_model_adam.h5\")\n",
    "model.summary()"
   ]
  },
  {
   "cell_type": "code",
   "execution_count": 13,
   "metadata": {},
   "outputs": [
    {
     "name": "stdout",
     "output_type": "stream",
     "text": [
      "[<tf.Tensor 'input_1:0' shape=(None, 28, 28, 3) dtype=float32>]\n"
     ]
    }
   ],
   "source": [
    "model = Model(inputs=model.inputs, outputs=model.layers[1].output)\n",
    "print(model.inputs)"
   ]
  },
  {
   "cell_type": "code",
   "execution_count": 20,
   "metadata": {},
   "outputs": [
    {
     "name": "stdout",
     "output_type": "stream",
     "text": [
      "(1, 28, 28, 3)\n"
     ]
    },
    {
     "data": {
      "text/plain": [
       "(-0.5, 27.5, 27.5, -0.5)"
      ]
     },
     "execution_count": 20,
     "metadata": {},
     "output_type": "execute_result"
    },
    {
     "data": {
      "image/png": "[encoded data removed]",
      "text/plain": [
       "<Figure size 360x360 with 1 Axes>"
      ]
     },
     "metadata": {
      "needs_background": "light"
     },
     "output_type": "display_data"
    }
   ],
   "source": [
    "img = x_test[110].reshape(1,28,28,3)\n",
    "print(img.shape)\n",
    "figure = plt.figure(figsize=(5,5))\n",
    "plt.imshow (img[0,:,:,0])\n",
    "plt.axis('on')"
   ]
  },
  {
   "cell_type": "code",
   "execution_count": 29,
   "metadata": {},
   "outputs": [
    {
     "data": {
      "image/png": "[encoded data removed]",
      "text/plain": [
       "<Figure size 432x288 with 1 Axes>"
      ]
     },
     "metadata": {
      "needs_background": "light"
     },
     "output_type": "display_data"
    }
   ],
   "source": [
    "feature_maps = model.predict(img)\n",
    "\n",
    "# plot all 64 maps in an 8x8 squares\n",
    "square1 = 1\n",
    "square2 = 1\n",
    "ix = 1\n",
    "for _ in range(square1):\n",
    "\tfor _ in range(square2):\n",
    "\t\t# specify subplot and turn of axis\n",
    "\t\tax = plt.subplot(square1, square2, ix)\n",
    "\t\tax.set_xticks([])\n",
    "\t\t#ax.set_yticks([])\n",
    "\t\t# plot filter channel in grayscale\n",
    "\t\tplt.imshow(feature_maps[0, :, :, ix-27], cmap='viridis')\n",
    "\t\tix += 1\n",
    "# show the figure\n",
    "plt.savefig('featuremap_disp_Q3_part1.png')"
   ]
  },
  {
   "cell_type": "code",
   "execution_count": 32,
   "metadata": {},
   "outputs": [
    {
     "name": "stdout",
     "output_type": "stream",
     "text": [
      "(7, 7, 3, 32)\n"
     ]
    },
    {
     "data": {
      "image/png": "[encoded data removed]",
      "text/plain": [
       "<Figure size 432x288 with 1 Axes>"
      ]
     },
     "metadata": {},
     "output_type": "display_data"
    }
   ],
   "source": [
    "for layer in model.layers:\n",
    "    if 'conv' not in layer.name:\n",
    "        continue\n",
    "    #filters, biases = layer.get_weights()\n",
    "    #print(layer.name, filters.shape)\n",
    "    \n",
    "filters, biases = model.layers[1].get_weights()\n",
    "filters1 = filters\n",
    "f_min, f_max = filters.min(), filters.max()\n",
    "filters = (filters - f_min)/(f_max - f_min)\n",
    "#print(filters.shape, biases.shape)\n",
    "print(filters1.shape)\n",
    "#plt.imshow(filters[1, :, :, 0], cmap='viridis')\n",
    "#plt.show()\n",
    "# plot all 64 maps in an 8x8 squares\n",
    "n_filters = 1\n",
    "ix = 1\n",
    "\n",
    "for i in range(n_filters):\n",
    "    f = filters[:, :, :, 27]\n",
    "    #plot each channel seperately\n",
    "    for j in range(1):\n",
    "\t\t# specify subplot and turn of axis\n",
    "        ax = plt.subplot(n_filters, 1, ix)\n",
    "        ax.set_xticks([])\n",
    "        ax.set_yticks([])\n",
    "        # plot filter channel in grayscale\n",
    "        plt.imshow(f[:, :, j], cmap='viridis') \n",
    "        ix += 1\n",
    "# show the figure\n",
    "plt.savefig('featuremap_disp_filter.png')\n",
    "plt.show()\n",
    "#plt.axis()"
   ]
  },
  {
   "cell_type": "code",
   "execution_count": null,
   "metadata": {},
   "outputs": [],
   "source": []
  },
  {
   "cell_type": "code",
   "execution_count": null,
   "metadata": {},
   "outputs": [],
   "source": []
  },
  {
   "cell_type": "code",
   "execution_count": null,
   "metadata": {},
   "outputs": [],
   "source": []
  }
 ],
 "metadata": {
  "kernelspec": {
   "display_name": "Python 3",
   "language": "python",
   "name": "python3"
  },
  "language_info": {
   "codemirror_mode": {
    "name": "ipython",
    "version": 3
   },
   "file_extension": ".py",
   "mimetype": "text/x-python",
   "name": "python",
   "nbconvert_exporter": "python",
   "pygments_lexer": "ipython3",
   "version": "3.6.8"
  }
 },
 "nbformat": 4,
 "nbformat_minor": 2
}
