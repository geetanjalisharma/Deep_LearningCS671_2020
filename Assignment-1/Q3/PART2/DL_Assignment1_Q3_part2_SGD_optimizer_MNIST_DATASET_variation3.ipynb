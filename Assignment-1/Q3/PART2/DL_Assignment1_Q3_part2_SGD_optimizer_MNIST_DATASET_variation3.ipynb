{
 "cells": [
  {
   "cell_type": "code",
   "execution_count": 1,
   "metadata": {},
   "outputs": [],
   "source": [
    "import numpy as np\n",
    "\n",
    "import matplotlib.pyplot as plt\n",
    "\n",
    "#%tensorflow_version 2.x\n",
    "\n",
    "import tensorflow as tf\n",
    "\n",
    "from tensorflow.keras.models import Model\n",
    "\n",
    "from tensorflow.keras.layers import Dense , Conv2D, Flatten, MaxPooling2D, BatchNormalization\n",
    "\n",
    "from tensorflow.keras import utils\n",
    "\n",
    "from tensorflow.keras.datasets import mnist"
   ]
  },
  {
   "cell_type": "code",
   "execution_count": 2,
   "metadata": {},
   "outputs": [],
   "source": [
    "(x_train, y_train), (x_test, y_test)=mnist.load_data()"
   ]
  },
  {
   "cell_type": "code",
   "execution_count": 3,
   "metadata": {},
   "outputs": [
    {
     "name": "stdout",
     "output_type": "stream",
     "text": [
      "dataset shape (70000, 28, 28)\n",
      "labels shape (70000,)\n",
      "training data (42000, 28, 28)\n",
      "training labels (42000,)\n",
      "testing data (28000, 28, 28)\n",
      "testing labels (28000,)\n"
     ]
    },
    {
     "name": "stderr",
     "output_type": "stream",
     "text": [
      "/home/gitanjali/anaconda3/envs/intel_python/lib/python3.6/site-packages/sklearn/model_selection/_split.py:2179: FutureWarning: From version 0.21, test_size will always complement train_size unless both are specified.\n",
      "  FutureWarning)\n"
     ]
    }
   ],
   "source": [
    "from sklearn.model_selection import train_test_split\n",
    "x=np.concatenate((x_train, x_test))\n",
    "y=np.concatenate((y_train, y_test))\n",
    "print(\"dataset shape\",x.shape)\n",
    "print(\"labels shape\",y.shape)\n",
    "train_size=0.6\n",
    "x_train, x_test, y_train, y_test = train_test_split(x,y, train_size=train_size)\n",
    "print(\"training data\",x_train.shape)\n",
    "print(\"training labels\",y_train.shape)\n",
    "print(\"testing data\",x_test.shape)\n",
    "print(\"testing labels\",y_test.shape)"
   ]
  },
  {
   "cell_type": "code",
   "execution_count": 4,
   "metadata": {},
   "outputs": [
    {
     "data": {
      "text/plain": [
       "<matplotlib.image.AxesImage at 0x7fd2bf9c6ba8>"
      ]
     },
     "execution_count": 4,
     "metadata": {},
     "output_type": "execute_result"
    },
    {
     "data": {
      "image/png": "[encoded data removed]",
      "text/plain": [
       "<Figure size 432x288 with 2 Axes>"
      ]
     },
     "metadata": {
      "needs_background": "light"
     },
     "output_type": "display_data"
    }
   ],
   "source": [
    "# plot 4 images as gray scale\n",
    "plt.subplot(221)\n",
    "plt.imshow(x_train[0], cmap=plt.get_cmap('gray'))\n",
    "plt.subplot(222)\n",
    "plt.imshow(x_train[1], cmap=plt.get_cmap('gray'))"
   ]
  },
  {
   "cell_type": "code",
   "execution_count": 5,
   "metadata": {},
   "outputs": [
    {
     "name": "stdout",
     "output_type": "stream",
     "text": [
      "input_shape (28, 28, 1)\n",
      "normalize training data (42000, 28, 28, 1)\n",
      "normalize testing data (28000, 28, 28, 1)\n",
      "training labels (42000,)\n",
      "testing labels (28000,)\n"
     ]
    }
   ],
   "source": [
    "x_train=np.expand_dims(x_train, axis=3)\n",
    "x_test=np.expand_dims(x_test, axis=3)\n",
    "\n",
    "input_shape=(x_train.shape[1], x_train.shape[2], x_train.shape[3])\n",
    "print(\"input_shape\",input_shape)\n",
    "\n",
    "# precise the pixel value to be 32 bit\n",
    "x_train = x_train.astype(\"float32\")\n",
    "x_test = x_test.astype(\"float32\")\n",
    "\n",
    "# normalize input from 0-255 to 0-1\n",
    "x_train = x_train / 255.\n",
    "x_test = x_test / 255.\n",
    "\n",
    "print(\"normalize training data\", x_train.shape)\n",
    "print(\"normalize testing data\", x_test.shape)\n",
    "print(\"training labels\", y_train.shape)\n",
    "print(\"testing labels\", y_test.shape)"
   ]
  },
  {
   "cell_type": "code",
   "execution_count": 6,
   "metadata": {},
   "outputs": [],
   "source": [
    "model = tf.keras.models.Sequential([\n",
    "    tf.keras.Input(shape=input_shape),\n",
    "                   tf.keras.layers.Conv2D(64, 3, strides=(1,1), activation='relu'),\n",
    "                   tf.keras.layers.BatchNormalization(),\n",
    "                   tf.keras.layers.MaxPooling2D(pool_size=(2,2), strides=2),\n",
    "                   tf.keras.layers.Conv2D(128, 3, strides=(1,1), activation='relu'),\n",
    "                   tf.keras.layers.BatchNormalization(),\n",
    "                   tf.keras.layers.MaxPooling2D(pool_size=(2,2), strides=2),\n",
    "                   tf.keras.layers.Conv2D(256, 3, strides=(1,1), activation='relu'),\n",
    "                   tf.keras.layers.BatchNormalization(),\n",
    "                   tf.keras.layers.MaxPooling2D(pool_size=(2,2), strides=2),\n",
    "                   tf.keras.layers.Flatten(),\n",
    "                   tf.keras.layers.Dropout(0.25),\n",
    "                   tf.keras.layers.Dense(1024, activation='relu'),\n",
    "                   tf.keras.layers.Dropout(0.25),\n",
    "                   tf.keras.layers.Dense(10, activation='softmax')\n",
    "                   ])\n"
   ]
  },
  {
   "cell_type": "code",
   "execution_count": 7,
   "metadata": {},
   "outputs": [],
   "source": [
    "loss_fn = tf.keras.losses.SparseCategoricalCrossentropy(from_logits=True)\n",
    "loss_fn\n",
    "\n",
    "from tensorflow.keras.optimizers import SGD, Adam\n",
    "\n",
    "sgd = SGD(lr = 0.001, momentum = 0.9, decay = 1e-6)"
   ]
  },
  {
   "cell_type": "code",
   "execution_count": 8,
   "metadata": {},
   "outputs": [],
   "source": [
    "model.compile(optimizer=sgd,\n",
    "              loss=loss_fn,\n",
    "              metrics=['accuracy'])"
   ]
  },
  {
   "cell_type": "code",
   "execution_count": 9,
   "metadata": {},
   "outputs": [
    {
     "name": "stdout",
     "output_type": "stream",
     "text": [
      "Train on 42000 samples, validate on 28000 samples\n",
      "Epoch 1/50\n",
      "42000/42000 [==============================] - 163s 4ms/sample - loss: 1.9480 - accuracy: 0.5635 - val_loss: 2.2781 - val_accuracy: 0.1113\n",
      "Epoch 2/50\n",
      "42000/42000 [==============================] - 161s 4ms/sample - loss: 1.6314 - accuracy: 0.8791 - val_loss: 1.9386 - val_accuracy: 0.6420\n",
      "Epoch 3/50\n",
      "42000/42000 [==============================] - 162s 4ms/sample - loss: 1.5595 - accuracy: 0.9289 - val_loss: 1.5496 - val_accuracy: 0.9408\n",
      "Epoch 4/50\n",
      "42000/42000 [==============================] - 161s 4ms/sample - loss: 1.5370 - accuracy: 0.9436 - val_loss: 1.5189 - val_accuracy: 0.9561\n",
      "Epoch 5/50\n",
      "42000/42000 [==============================] - 161s 4ms/sample - loss: 1.5258 - accuracy: 0.9502 - val_loss: 1.5109 - val_accuracy: 0.9602\n",
      "Epoch 6/50\n",
      "42000/42000 [==============================] - 161s 4ms/sample - loss: 1.5176 - accuracy: 0.9556 - val_loss: 1.5052 - val_accuracy: 0.9644\n",
      "Epoch 7/50\n",
      "42000/42000 [==============================] - 161s 4ms/sample - loss: 1.5108 - accuracy: 0.9618 - val_loss: 1.5018 - val_accuracy: 0.9666\n",
      "Epoch 8/50\n",
      "42000/42000 [==============================] - 162s 4ms/sample - loss: 1.5058 - accuracy: 0.9658 - val_loss: 1.4989 - val_accuracy: 0.9686\n",
      "Epoch 9/50\n",
      "42000/42000 [==============================] - 161s 4ms/sample - loss: 1.5025 - accuracy: 0.9676 - val_loss: 1.4965 - val_accuracy: 0.9704\n",
      "Epoch 10/50\n",
      "42000/42000 [==============================] - 161s 4ms/sample - loss: 1.4992 - accuracy: 0.9709 - val_loss: 1.4947 - val_accuracy: 0.9722\n",
      "Epoch 11/50\n",
      "42000/42000 [==============================] - 161s 4ms/sample - loss: 1.4968 - accuracy: 0.9724 - val_loss: 1.4927 - val_accuracy: 0.9734\n",
      "Epoch 12/50\n",
      "42000/42000 [==============================] - 161s 4ms/sample - loss: 1.4943 - accuracy: 0.9744 - val_loss: 1.4918 - val_accuracy: 0.9738\n",
      "Epoch 13/50\n",
      "42000/42000 [==============================] - 161s 4ms/sample - loss: 1.4924 - accuracy: 0.9758 - val_loss: 1.4910 - val_accuracy: 0.9749\n",
      "Epoch 14/50\n",
      "42000/42000 [==============================] - 161s 4ms/sample - loss: 1.4909 - accuracy: 0.9766 - val_loss: 1.4902 - val_accuracy: 0.9744\n",
      "Epoch 15/50\n",
      "42000/42000 [==============================] - 163s 4ms/sample - loss: 1.4892 - accuracy: 0.9783 - val_loss: 1.4890 - val_accuracy: 0.9762\n",
      "Epoch 16/50\n",
      "42000/42000 [==============================] - 161s 4ms/sample - loss: 1.4880 - accuracy: 0.9787 - val_loss: 1.4881 - val_accuracy: 0.9770\n",
      "Epoch 17/50\n",
      "42000/42000 [==============================] - 161s 4ms/sample - loss: 1.4870 - accuracy: 0.9797 - val_loss: 1.4874 - val_accuracy: 0.9773\n",
      "Epoch 18/50\n",
      "42000/42000 [==============================] - 162s 4ms/sample - loss: 1.4858 - accuracy: 0.9803 - val_loss: 1.4871 - val_accuracy: 0.9770\n",
      "Epoch 19/50\n",
      "42000/42000 [==============================] - 161s 4ms/sample - loss: 1.4844 - accuracy: 0.9819 - val_loss: 1.4863 - val_accuracy: 0.9785\n",
      "Epoch 20/50\n",
      "42000/42000 [==============================] - 161s 4ms/sample - loss: 1.4834 - accuracy: 0.9828 - val_loss: 1.4864 - val_accuracy: 0.9780\n",
      "Epoch 21/50\n",
      "42000/42000 [==============================] - 161s 4ms/sample - loss: 1.4833 - accuracy: 0.9830 - val_loss: 1.4855 - val_accuracy: 0.9786\n",
      "Epoch 22/50\n",
      "42000/42000 [==============================] - 161s 4ms/sample - loss: 1.4821 - accuracy: 0.9840 - val_loss: 1.4851 - val_accuracy: 0.9792\n",
      "Epoch 23/50\n",
      "42000/42000 [==============================] - 161s 4ms/sample - loss: 1.4811 - accuracy: 0.9849 - val_loss: 1.4846 - val_accuracy: 0.9796\n",
      "Epoch 24/50\n",
      "42000/42000 [==============================] - 161s 4ms/sample - loss: 1.4804 - accuracy: 0.9852 - val_loss: 1.4842 - val_accuracy: 0.9801\n",
      "Epoch 25/50\n",
      "42000/42000 [==============================] - 161s 4ms/sample - loss: 1.4799 - accuracy: 0.9852 - val_loss: 1.4842 - val_accuracy: 0.9799\n",
      "Epoch 26/50\n",
      "42000/42000 [==============================] - 161s 4ms/sample - loss: 1.4795 - accuracy: 0.9857 - val_loss: 1.4837 - val_accuracy: 0.9799\n",
      "Epoch 27/50\n",
      "42000/42000 [==============================] - 162s 4ms/sample - loss: 1.4782 - accuracy: 0.9870 - val_loss: 1.4834 - val_accuracy: 0.9804\n",
      "Epoch 28/50\n",
      "42000/42000 [==============================] - 162s 4ms/sample - loss: 1.4777 - accuracy: 0.9875 - val_loss: 1.4831 - val_accuracy: 0.9806\n",
      "Epoch 29/50\n",
      "42000/42000 [==============================] - 162s 4ms/sample - loss: 1.4776 - accuracy: 0.9871 - val_loss: 1.4830 - val_accuracy: 0.9805\n",
      "Epoch 30/50\n",
      "42000/42000 [==============================] - 162s 4ms/sample - loss: 1.4775 - accuracy: 0.9873 - val_loss: 1.4824 - val_accuracy: 0.9814\n",
      "Epoch 31/50\n",
      "42000/42000 [==============================] - 162s 4ms/sample - loss: 1.4769 - accuracy: 0.9880 - val_loss: 1.4821 - val_accuracy: 0.9815\n",
      "Epoch 32/50\n",
      "42000/42000 [==============================] - 162s 4ms/sample - loss: 1.4762 - accuracy: 0.9885 - val_loss: 1.4821 - val_accuracy: 0.9813\n",
      "Epoch 33/50\n",
      "42000/42000 [==============================] - 161s 4ms/sample - loss: 1.4758 - accuracy: 0.9890 - val_loss: 1.4820 - val_accuracy: 0.9811\n",
      "Epoch 34/50\n",
      "42000/42000 [==============================] - 162s 4ms/sample - loss: 1.4755 - accuracy: 0.9891 - val_loss: 1.4818 - val_accuracy: 0.9816\n",
      "Epoch 35/50\n",
      "42000/42000 [==============================] - 162s 4ms/sample - loss: 1.4750 - accuracy: 0.9895 - val_loss: 1.4820 - val_accuracy: 0.9810\n",
      "Epoch 36/50\n",
      "42000/42000 [==============================] - 162s 4ms/sample - loss: 1.4750 - accuracy: 0.9894 - val_loss: 1.4822 - val_accuracy: 0.9810\n",
      "Epoch 37/50\n",
      "42000/42000 [==============================] - 164s 4ms/sample - loss: 1.4742 - accuracy: 0.9901 - val_loss: 1.4813 - val_accuracy: 0.9821\n",
      "Epoch 38/50\n",
      "42000/42000 [==============================] - 163s 4ms/sample - loss: 1.4742 - accuracy: 0.9903 - val_loss: 1.4810 - val_accuracy: 0.9823\n",
      "Epoch 39/50\n",
      "42000/42000 [==============================] - 163s 4ms/sample - loss: 1.4738 - accuracy: 0.9906 - val_loss: 1.4813 - val_accuracy: 0.9816\n",
      "Epoch 40/50\n",
      "42000/42000 [==============================] - 163s 4ms/sample - loss: 1.4735 - accuracy: 0.9902 - val_loss: 1.4810 - val_accuracy: 0.9822\n",
      "Epoch 41/50\n",
      "42000/42000 [==============================] - 163s 4ms/sample - loss: 1.4731 - accuracy: 0.9914 - val_loss: 1.4808 - val_accuracy: 0.9817\n",
      "Epoch 42/50\n",
      "42000/42000 [==============================] - 163s 4ms/sample - loss: 1.4733 - accuracy: 0.9909 - val_loss: 1.4808 - val_accuracy: 0.9819\n",
      "Epoch 43/50\n",
      "42000/42000 [==============================] - 163s 4ms/sample - loss: 1.4728 - accuracy: 0.9910 - val_loss: 1.4806 - val_accuracy: 0.9824\n",
      "Epoch 44/50\n",
      "42000/42000 [==============================] - 163s 4ms/sample - loss: 1.4726 - accuracy: 0.9914 - val_loss: 1.4805 - val_accuracy: 0.9829\n",
      "Epoch 45/50\n",
      "42000/42000 [==============================] - 164s 4ms/sample - loss: 1.4718 - accuracy: 0.9924 - val_loss: 1.4806 - val_accuracy: 0.9821\n",
      "Epoch 46/50\n",
      "42000/42000 [==============================] - 163s 4ms/sample - loss: 1.4718 - accuracy: 0.9923 - val_loss: 1.4802 - val_accuracy: 0.9826\n",
      "Epoch 47/50\n",
      "42000/42000 [==============================] - 163s 4ms/sample - loss: 1.4715 - accuracy: 0.9921 - val_loss: 1.4803 - val_accuracy: 0.9824\n",
      "Epoch 48/50\n",
      "42000/42000 [==============================] - 163s 4ms/sample - loss: 1.4711 - accuracy: 0.9928 - val_loss: 1.4803 - val_accuracy: 0.9823\n",
      "Epoch 49/50\n",
      "42000/42000 [==============================] - 163s 4ms/sample - loss: 1.4714 - accuracy: 0.9923 - val_loss: 1.4800 - val_accuracy: 0.9825\n",
      "Epoch 50/50\n",
      "42000/42000 [==============================] - 163s 4ms/sample - loss: 1.4708 - accuracy: 0.9929 - val_loss: 1.4801 - val_accuracy: 0.9828\n"
     ]
    }
   ],
   "source": [
    "history = model.fit(x_train, y_train, validation_data=(x_test, y_test), epochs=50, batch_size=200)\n"
   ]
  },
  {
   "cell_type": "code",
   "execution_count": 10,
   "metadata": {},
   "outputs": [
    {
     "name": "stdout",
     "output_type": "stream",
     "text": [
      "Model: \"sequential\"\n",
      "_________________________________________________________________\n",
      "Layer (type)                 Output Shape              Param #   \n",
      "=================================================================\n",
      "conv2d (Conv2D)              (None, 26, 26, 64)        640       \n",
      "_________________________________________________________________\n",
      "batch_normalization (BatchNo (None, 26, 26, 64)        256       \n",
      "_________________________________________________________________\n",
      "max_pooling2d (MaxPooling2D) (None, 13, 13, 64)        0         \n",
      "_________________________________________________________________\n",
      "conv2d_1 (Conv2D)            (None, 11, 11, 128)       73856     \n",
      "_________________________________________________________________\n",
      "batch_normalization_1 (Batch (None, 11, 11, 128)       512       \n",
      "_________________________________________________________________\n",
      "max_pooling2d_1 (MaxPooling2 (None, 5, 5, 128)         0         \n",
      "_________________________________________________________________\n",
      "conv2d_2 (Conv2D)            (None, 3, 3, 256)         295168    \n",
      "_________________________________________________________________\n",
      "batch_normalization_2 (Batch (None, 3, 3, 256)         1024      \n",
      "_________________________________________________________________\n",
      "max_pooling2d_2 (MaxPooling2 (None, 1, 1, 256)         0         \n",
      "_________________________________________________________________\n",
      "flatten (Flatten)            (None, 256)               0         \n",
      "_________________________________________________________________\n",
      "dropout (Dropout)            (None, 256)               0         \n",
      "_________________________________________________________________\n",
      "dense (Dense)                (None, 1024)              263168    \n",
      "_________________________________________________________________\n",
      "dropout_1 (Dropout)          (None, 1024)              0         \n",
      "_________________________________________________________________\n",
      "dense_1 (Dense)              (None, 10)                10250     \n",
      "=================================================================\n",
      "Total params: 644,874\n",
      "Trainable params: 643,978\n",
      "Non-trainable params: 896\n",
      "_________________________________________________________________\n"
     ]
    }
   ],
   "source": [
    "model.summary()"
   ]
  },
  {
   "cell_type": "code",
   "execution_count": 16,
   "metadata": {},
   "outputs": [
    {
     "name": "stdout",
     "output_type": "stream",
     "text": [
      "Saved model to disk\n"
     ]
    },
    {
     "name": "stderr",
     "output_type": "stream",
     "text": [
      "Using TensorFlow backend.\n"
     ]
    }
   ],
   "source": [
    "from keras.models import model_from_json\n",
    "# save trained model\n",
    "# serialize model to JSON\n",
    "model_json = model.to_json()\n",
    "with open(\"Q3_part2_mnist_trained_model_sgd_50_epochs_variation3.json\", \"w\") as json_file:\n",
    "    json_file.write(model_json)\n",
    "# serialize weights to HDF5 and saving the weights\n",
    "model.save_weights(\"Q3_part2_mnist_trained_model_sgd_50_epochs_variation3.h5\")\n",
    "print(\"Saved model to disk\")"
   ]
  },
  {
   "cell_type": "code",
   "execution_count": null,
   "metadata": {},
   "outputs": [],
   "source": []
  },
  {
   "cell_type": "code",
   "execution_count": 11,
   "metadata": {},
   "outputs": [
    {
     "name": "stdout",
     "output_type": "stream",
     "text": [
      "dict_keys(['loss', 'accuracy', 'val_loss', 'val_accuracy'])\n"
     ]
    },
    {
     "data": {
      "image/png": "[encoded data removed]",
      "text/plain": [
       "<Figure size 432x288 with 1 Axes>"
      ]
     },
     "metadata": {
      "needs_background": "light"
     },
     "output_type": "display_data"
    }
   ],
   "source": [
    "print(history.history.keys())\n",
    "# summarize history for accuracy\n",
    "plt.plot(history.history['accuracy'])\n",
    "plt.plot(history.history['val_accuracy'])\n",
    "plt.title('model accuracy')\n",
    "plt.ylabel('accuracy')\n",
    "plt.xlabel('epoch')\n",
    "plt.legend(['train', 'test'], loc='upper left')\n",
    "plt.show()"
   ]
  },
  {
   "cell_type": "code",
   "execution_count": 12,
   "metadata": {},
   "outputs": [
    {
     "data": {
      "image/png": "[encoded data removed]",
      "text/plain": [
       "<Figure size 432x288 with 1 Axes>"
      ]
     },
     "metadata": {
      "needs_background": "light"
     },
     "output_type": "display_data"
    }
   ],
   "source": [
    "# summarize history for loss\n",
    "plt.plot(history.history['loss'])\n",
    "plt.plot(history.history['val_loss'])\n",
    "plt.title('model loss')\n",
    "plt.ylabel('loss')\n",
    "plt.xlabel('epoch')\n",
    "plt.legend(['train', 'test'], loc='upper left')\n",
    "plt.show()"
   ]
  },
  {
   "cell_type": "code",
   "execution_count": 13,
   "metadata": {},
   "outputs": [
    {
     "name": "stdout",
     "output_type": "stream",
     "text": [
      "28000/28000 [==============================] - 28s 989us/sample - loss: 1.4801 - accuracy: 0.9828\n",
      "Accuracy : 98.28%\n",
      "Baseline Error: 1.72%\n"
     ]
    }
   ],
   "source": [
    "# Final evaluation of the model\n",
    "\n",
    "scores = model.evaluate(x_test, y_test)\n",
    "\n",
    "print(\"Accuracy : %.2f%%\" % (scores[1]*100))\n",
    "print(\"Baseline Error: %.2f%%\" % (100-scores[1]*100))"
   ]
  },
  {
   "cell_type": "code",
   "execution_count": null,
   "metadata": {},
   "outputs": [],
   "source": []
  },
  {
   "cell_type": "markdown",
   "metadata": {},
   "source": [
    "# Model testing and find out confusion matrix, Precision, Recall, F1-score"
   ]
  },
  {
   "cell_type": "code",
   "execution_count": 13,
   "metadata": {},
   "outputs": [
    {
     "name": "stdout",
     "output_type": "stream",
     "text": [
      "(28000, 10)\n",
      "(28000,)\n",
      "tf.Tensor(\n",
      "[[2725    1    0    0    4    2    1    1    2    4]\n",
      " [   1 3076   10    1    1    0    0    6    0    0]\n",
      " [   1    2 2830    5    2    0    2   16    3    1]\n",
      " [   0    0   12 2790    0    9    0    6    2    6]\n",
      " [   2    1    0    0 2779    0    3    1    1    9]\n",
      " [   2    0    1    3    5 2544    3    2    5    0]\n",
      " [   4    4    0    0    3    7 2679    0    2    0]\n",
      " [   0    4   11    2    1    0    0 2863    0    1]\n",
      " [   1    3    3    1    2    4    2    1 2744   11]\n",
      " [   6    1    0    1    8    2    0    6    4 2736]], shape=(10, 10), dtype=int32)\n"
     ]
    }
   ],
   "source": [
    "import tensorflow as tf\n",
    "y= model.predict(x_test)\n",
    "print(y.shape)\n",
    "y_pred = np.argmax(y, axis=1)\n",
    "print(y_pred.shape)\n",
    "\n",
    "target=target_names = ['class0','class 1', 'class 2', 'class 3', 'class 4', 'class 5', 'class 6', 'class 7', 'class 8', 'class 9'] \n",
    "\n",
    "con = tf.math.confusion_matrix(labels=y_test, predictions=y_pred)\n",
    "print(con)"
   ]
  },
  {
   "cell_type": "code",
   "execution_count": 14,
   "metadata": {
    "scrolled": true
   },
   "outputs": [
    {
     "name": "stdout",
     "output_type": "stream",
     "text": [
      "              precision    recall  f1-score   support\n",
      "\n",
      "           0       0.99      0.99      0.99      2740\n",
      "           1       0.99      0.99      0.99      3095\n",
      "           2       0.99      0.99      0.99      2862\n",
      "           3       1.00      0.99      0.99      2825\n",
      "           4       0.99      0.99      0.99      2796\n",
      "           5       0.99      0.99      0.99      2565\n",
      "           6       1.00      0.99      0.99      2699\n",
      "           7       0.99      0.99      0.99      2882\n",
      "           8       0.99      0.99      0.99      2772\n",
      "           9       0.99      0.99      0.99      2764\n",
      "\n",
      "   micro avg       0.99      0.99      0.99     28000\n",
      "   macro avg       0.99      0.99      0.99     28000\n",
      "weighted avg       0.99      0.99      0.99     28000\n",
      "\n"
     ]
    }
   ],
   "source": [
    "from sklearn.metrics import classification_report\n",
    "print(classification_report(y_test, y_pred))"
   ]
  },
  {
   "cell_type": "markdown",
   "metadata": {},
   "source": [
    "# Visualization of activation map and convnet filters"
   ]
  },
  {
   "cell_type": "code",
   "execution_count": 9,
   "metadata": {},
   "outputs": [
    {
     "name": "stdout",
     "output_type": "stream",
     "text": [
      "Model: \"sequential\"\n",
      "_________________________________________________________________\n",
      "Layer (type)                 Output Shape              Param #   \n",
      "=================================================================\n",
      "conv2d (Conv2D)              (None, 26, 26, 64)        640       \n",
      "_________________________________________________________________\n",
      "batch_normalization (BatchNo (None, 26, 26, 64)        256       \n",
      "_________________________________________________________________\n",
      "max_pooling2d (MaxPooling2D) (None, 13, 13, 64)        0         \n",
      "_________________________________________________________________\n",
      "conv2d_1 (Conv2D)            (None, 11, 11, 128)       73856     \n",
      "_________________________________________________________________\n",
      "batch_normalization_1 (Batch (None, 11, 11, 128)       512       \n",
      "_________________________________________________________________\n",
      "max_pooling2d_1 (MaxPooling2 (None, 5, 5, 128)         0         \n",
      "_________________________________________________________________\n",
      "conv2d_2 (Conv2D)            (None, 3, 3, 256)         295168    \n",
      "_________________________________________________________________\n",
      "batch_normalization_2 (Batch (None, 3, 3, 256)         1024      \n",
      "_________________________________________________________________\n",
      "max_pooling2d_2 (MaxPooling2 (None, 1, 1, 256)         0         \n",
      "_________________________________________________________________\n",
      "flatten (Flatten)            (None, 256)               0         \n",
      "_________________________________________________________________\n",
      "dropout (Dropout)            (None, 256)               0         \n",
      "_________________________________________________________________\n",
      "dense (Dense)                (None, 1024)              263168    \n",
      "_________________________________________________________________\n",
      "dropout_1 (Dropout)          (None, 1024)              0         \n",
      "_________________________________________________________________\n",
      "dense_1 (Dense)              (None, 10)                10250     \n",
      "=================================================================\n",
      "Total params: 644,874\n",
      "Trainable params: 643,978\n",
      "Non-trainable params: 896\n",
      "_________________________________________________________________\n"
     ]
    }
   ],
   "source": [
    "model.load_weights(\"Q3_part2_mnist_trained_model_sgd_50_epochs_variation3.h5\")\n",
    "model.summary()\n"
   ]
  },
  {
   "cell_type": "code",
   "execution_count": 10,
   "metadata": {},
   "outputs": [
    {
     "name": "stdout",
     "output_type": "stream",
     "text": [
      "[<tf.Tensor 'input_1:0' shape=(None, 28, 28, 1) dtype=float32>]\n"
     ]
    }
   ],
   "source": [
    "model = Model(inputs=model.inputs, outputs=model.layers[7].output)\n",
    "print(model.inputs)"
   ]
  },
  {
   "cell_type": "code",
   "execution_count": 11,
   "metadata": {},
   "outputs": [
    {
     "name": "stdout",
     "output_type": "stream",
     "text": [
      "(1, 28, 28, 1)\n"
     ]
    },
    {
     "data": {
      "text/plain": [
       "(-0.5, 27.5, 27.5, -0.5)"
      ]
     },
     "execution_count": 11,
     "metadata": {},
     "output_type": "execute_result"
    },
    {
     "data": {
      "image/png": "[encoded data removed]",
      "text/plain": [
       "<Figure size 360x360 with 1 Axes>"
      ]
     },
     "metadata": {
      "needs_background": "light"
     },
     "output_type": "display_data"
    }
   ],
   "source": [
    "img = x_test[110].reshape(1,28,28,1)\n",
    "print(img.shape)\n",
    "figure = plt.figure(figsize=(5,5))\n",
    "plt.imshow (img[0,:,:,0],cmap=\"gray\")\n",
    "plt.axis('off')"
   ]
  },
  {
   "cell_type": "code",
   "execution_count": 15,
   "metadata": {},
   "outputs": [
    {
     "data": {
      "image/png": "[encoded data removed]",
      "text/plain": [
       "<Figure size 432x288 with 1 Axes>"
      ]
     },
     "metadata": {
      "needs_background": "light"
     },
     "output_type": "display_data"
    }
   ],
   "source": [
    "feature_maps = model.predict(img)\n",
    "\n",
    "# plot all 64 maps in an 8x8 squares\n",
    "square1 = 1\n",
    "square2 = 1\n",
    "ix = 1\n",
    "for _ in range(square1):\n",
    "\tfor _ in range(square2):\n",
    "\t\t# specify subplot and turn of axis\n",
    "\t\tax = plt.subplot(square1, square2, ix)\n",
    "\t\tax.set_xticks([])\n",
    "\t\t#ax.set_yticks([])\n",
    "\t\t# plot filter channel in grayscale\n",
    "\t\tplt.imshow(feature_maps[0, :, :, ix-9], cmap='viridis')\n",
    "\t\tix += 1\n",
    "# show the figure\n",
    "plt.savefig('featuremap_disp.png')"
   ]
  },
  {
   "cell_type": "code",
   "execution_count": 24,
   "metadata": {},
   "outputs": [
    {
     "name": "stdout",
     "output_type": "stream",
     "text": [
      "(3, 3, 128, 256)\n"
     ]
    },
    {
     "data": {
      "image/png": "[encoded data removed]",
      "text/plain": [
       "<Figure size 432x288 with 1 Axes>"
      ]
     },
     "metadata": {},
     "output_type": "display_data"
    }
   ],
   "source": [
    "for layer in model.layers:\n",
    "    if 'conv' not in layer.name:\n",
    "        continue\n",
    "    #filters, biases = layer.get_weights()\n",
    "    #print(layer.name, filters.shape)\n",
    "    \n",
    "filters, biases = model.layers[7].get_weights()\n",
    "filters1 = filters\n",
    "f_min, f_max = filters.min(), filters.max()\n",
    "filters = (filters - f_min)/(f_max - f_min)\n",
    "#print(filters.shape, biases.shape)\n",
    "print(filters1.shape)\n",
    "#plt.imshow(filters[1, :, :, 0], cmap='viridis')\n",
    "#plt.show()\n",
    "# plot all 64 maps in an 8x8 squares\n",
    "n_filters = 1\n",
    "ix = 1\n",
    "\n",
    "for i in range(n_filters):\n",
    "    f = filters[:, :, :, 50]\n",
    "    #plot each channel seperately\n",
    "    for j in range(1):\n",
    "\t\t# specify subplot and turn of axis\n",
    "        ax = plt.subplot(n_filters, 1, ix)\n",
    "        ax.set_xticks([])\n",
    "        ax.set_yticks([])\n",
    "        # plot filter channel in grayscale\n",
    "        plt.imshow(f[:, :, j], cmap='viridis') \n",
    "        ix += 1\n",
    "# show the figure\n",
    "plt.savefig('featuremap_disp_filter.png')\n",
    "plt.show()"
   ]
  },
  {
   "cell_type": "code",
   "execution_count": null,
   "metadata": {},
   "outputs": [],
   "source": []
  },
  {
   "cell_type": "code",
   "execution_count": null,
   "metadata": {},
   "outputs": [],
   "source": []
  },
  {
   "cell_type": "code",
   "execution_count": null,
   "metadata": {},
   "outputs": [],
   "source": []
  },
  {
   "cell_type": "code",
   "execution_count": null,
   "metadata": {},
   "outputs": [],
   "source": []
  }
 ],
 "metadata": {
  "kernelspec": {
   "display_name": "Python 3",
   "language": "python",
   "name": "python3"
  },
  "language_info": {
   "codemirror_mode": {
    "name": "ipython",
    "version": 3
   },
   "file_extension": ".py",
   "mimetype": "text/x-python",
   "name": "python",
   "nbconvert_exporter": "python",
   "pygments_lexer": "ipython3",
   "version": "3.6.8"
  }
 },
 "nbformat": 4,
 "nbformat_minor": 2
}
