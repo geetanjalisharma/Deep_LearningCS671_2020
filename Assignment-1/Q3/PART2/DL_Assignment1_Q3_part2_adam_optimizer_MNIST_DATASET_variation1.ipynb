{
 "cells": [
  {
   "cell_type": "code",
   "execution_count": 1,
   "metadata": {},
   "outputs": [],
   "source": [
    "import numpy as np\n",
    "\n",
    "import matplotlib.pyplot as plt\n",
    "\n",
    "#%tensorflow_version 2.x\n",
    "\n",
    "import tensorflow as tf\n",
    "\n",
    "from tensorflow.keras.models import Model\n",
    "\n",
    "from tensorflow.keras.layers import Dense , Conv2D, Flatten, MaxPooling2D, BatchNormalization\n",
    "\n",
    "from tensorflow.keras import utils\n",
    "\n",
    "from tensorflow.keras.datasets import mnist"
   ]
  },
  {
   "cell_type": "code",
   "execution_count": 2,
   "metadata": {},
   "outputs": [],
   "source": [
    "(x_train, y_train), (x_test, y_test)=mnist.load_data()"
   ]
  },
  {
   "cell_type": "code",
   "execution_count": 3,
   "metadata": {},
   "outputs": [
    {
     "name": "stdout",
     "output_type": "stream",
     "text": [
      "dataset shape (70000, 28, 28)\n",
      "labels shape (70000,)\n",
      "training data (42000, 28, 28)\n",
      "training labels (42000,)\n",
      "testing data (28000, 28, 28)\n",
      "testing labels (28000,)\n"
     ]
    },
    {
     "name": "stderr",
     "output_type": "stream",
     "text": [
      "/home/gitanjali/anaconda3/envs/intel_python/lib/python3.6/site-packages/sklearn/model_selection/_split.py:2179: FutureWarning: From version 0.21, test_size will always complement train_size unless both are specified.\n",
      "  FutureWarning)\n"
     ]
    }
   ],
   "source": [
    "from sklearn.model_selection import train_test_split\n",
    "x=np.concatenate((x_train, x_test))\n",
    "y=np.concatenate((y_train, y_test))\n",
    "print(\"dataset shape\",x.shape)\n",
    "print(\"labels shape\",y.shape)\n",
    "train_size=0.6\n",
    "x_train, x_test, y_train, y_test = train_test_split(x,y, train_size=train_size)\n",
    "print(\"training data\",x_train.shape)\n",
    "print(\"training labels\",y_train.shape)\n",
    "print(\"testing data\",x_test.shape)\n",
    "print(\"testing labels\",y_test.shape)"
   ]
  },
  {
   "cell_type": "code",
   "execution_count": 4,
   "metadata": {},
   "outputs": [
    {
     "data": {
      "text/plain": [
       "<matplotlib.image.AxesImage at 0x7fb013f73e10>"
      ]
     },
     "execution_count": 4,
     "metadata": {},
     "output_type": "execute_result"
    },
    {
     "data": {
      "image/png": "[encoded data removed]",
      "text/plain": [
       "<Figure size 432x288 with 2 Axes>"
      ]
     },
     "metadata": {
      "needs_background": "light"
     },
     "output_type": "display_data"
    }
   ],
   "source": [
    "# plot 4 images as gray scale\n",
    "plt.subplot(221)\n",
    "plt.imshow(x_train[0], cmap=plt.get_cmap('gray'))\n",
    "plt.subplot(222)\n",
    "plt.imshow(x_train[1], cmap=plt.get_cmap('gray'))"
   ]
  },
  {
   "cell_type": "code",
   "execution_count": 5,
   "metadata": {},
   "outputs": [
    {
     "name": "stdout",
     "output_type": "stream",
     "text": [
      "input_shape (28, 28, 1)\n",
      "normalize training data (42000, 28, 28, 1)\n",
      "normalize testing data (28000, 28, 28, 1)\n",
      "training labels (42000,)\n",
      "testing labels (28000,)\n"
     ]
    }
   ],
   "source": [
    "x_train=np.expand_dims(x_train, axis=3)\n",
    "x_test=np.expand_dims(x_test, axis=3)\n",
    "\n",
    "input_shape=(x_train.shape[1], x_train.shape[2], x_train.shape[3])\n",
    "print(\"input_shape\",input_shape)\n",
    "\n",
    "# precise the pixel value to be 32 bit\n",
    "x_train = x_train.astype(\"float32\")\n",
    "x_test = x_test.astype(\"float32\")\n",
    "\n",
    "# normalize input from 0-255 to 0-1\n",
    "x_train = x_train / 255.\n",
    "x_test = x_test / 255.\n",
    "\n",
    "print(\"normalize training data\", x_train.shape)\n",
    "print(\"normalize testing data\", x_test.shape)\n",
    "print(\"training labels\", y_train.shape)\n",
    "print(\"testing labels\", y_test.shape)"
   ]
  },
  {
   "cell_type": "code",
   "execution_count": 6,
   "metadata": {},
   "outputs": [],
   "source": [
    "model = tf.keras.models.Sequential([\n",
    "  tf.keras.layers.Conv2D(32, 3, strides=(1,1), activation='relu'),\n",
    "  tf.keras.layers.BatchNormalization(),\n",
    "  tf.keras.layers.MaxPooling2D(pool_size=(2,2), strides=2),\n",
    "  tf.keras.layers.Conv2D(64, 3, strides=(1,1), activation='relu'),\n",
    "  tf.keras.layers.BatchNormalization(),\n",
    "  tf.keras.layers.MaxPooling2D(pool_size=(2,2), strides=2),\n",
    "  tf.keras.layers.Conv2D(128, 3, strides=(1,1), activation='relu'),\n",
    "  tf.keras.layers.BatchNormalization(),\n",
    "  tf.keras.layers.MaxPooling2D(pool_size=(2,2), strides=2),\n",
    "  tf.keras.layers.Flatten(),\n",
    "  tf.keras.layers.Dropout(0.5),\n",
    "  tf.keras.layers.Dense(1024, activation='relu'),\n",
    "  tf.keras.layers.Dropout(0.5),\n",
    "  tf.keras.layers.Dense(10, activation='softmax')\n",
    "])"
   ]
  },
  {
   "cell_type": "code",
   "execution_count": 9,
   "metadata": {},
   "outputs": [],
   "source": [
    "loss_fn = tf.keras.losses.SparseCategoricalCrossentropy(from_logits=True)\n",
    "loss_fn\n",
    "\n",
    "from tensorflow.keras.optimizers import SGD, Adam\n",
    "\n",
    "sgd = SGD(lr = 0.001, momentum = 0.0005, decay = 0.0005)\n",
    "\n",
    "adam = Adam(lr=0.001, beta_1=0.9, beta_2=0.99, decay=0.0005)"
   ]
  },
  {
   "cell_type": "code",
   "execution_count": 8,
   "metadata": {},
   "outputs": [],
   "source": [
    "model.compile(optimizer=adam,\n",
    "              loss=loss_fn,\n",
    "              metrics=['accuracy'])"
   ]
  },
  {
   "cell_type": "code",
   "execution_count": 10,
   "metadata": {},
   "outputs": [
    {
     "name": "stdout",
     "output_type": "stream",
     "text": [
      "Train on 42000 samples, validate on 28000 samples\n",
      "Epoch 1/50\n",
      "42000/42000 [==============================] - 73s 2ms/sample - loss: 1.6116 - accuracy: 0.8565 - val_loss: 2.3277 - val_accuracy: 0.1130\n",
      "Epoch 2/50\n",
      "42000/42000 [==============================] - 68s 2ms/sample - loss: 1.5062 - accuracy: 0.9564 - val_loss: 1.5918 - val_accuracy: 0.8774\n",
      "Epoch 3/50\n",
      "42000/42000 [==============================] - 59s 1ms/sample - loss: 1.4960 - accuracy: 0.9660 - val_loss: 1.4902 - val_accuracy: 0.9719\n",
      "Epoch 4/50\n",
      "42000/42000 [==============================] - 55s 1ms/sample - loss: 1.4903 - accuracy: 0.9715 - val_loss: 1.4823 - val_accuracy: 0.9789\n",
      "Epoch 5/50\n",
      "42000/42000 [==============================] - 58s 1ms/sample - loss: 1.4864 - accuracy: 0.9754 - val_loss: 1.4809 - val_accuracy: 0.9802\n",
      "Epoch 6/50\n",
      "42000/42000 [==============================] - 60s 1ms/sample - loss: 1.4838 - accuracy: 0.9778 - val_loss: 1.4853 - val_accuracy: 0.9761\n",
      "Epoch 7/50\n",
      "42000/42000 [==============================] - 55s 1ms/sample - loss: 1.4833 - accuracy: 0.9780 - val_loss: 1.4796 - val_accuracy: 0.9817\n",
      "Epoch 8/50\n",
      "42000/42000 [==============================] - 54s 1ms/sample - loss: 1.4807 - accuracy: 0.9808 - val_loss: 1.4802 - val_accuracy: 0.9811\n",
      "Epoch 9/50\n",
      "42000/42000 [==============================] - 67s 2ms/sample - loss: 1.4790 - accuracy: 0.9825 - val_loss: 1.4783 - val_accuracy: 0.9831\n",
      "Epoch 10/50\n",
      "42000/42000 [==============================] - 73s 2ms/sample - loss: 1.4776 - accuracy: 0.9837 - val_loss: 1.4767 - val_accuracy: 0.9844\n",
      "Epoch 11/50\n",
      "42000/42000 [==============================] - 55s 1ms/sample - loss: 1.4772 - accuracy: 0.9841 - val_loss: 1.4776 - val_accuracy: 0.9839\n",
      "Epoch 12/50\n",
      "42000/42000 [==============================] - 55s 1ms/sample - loss: 1.4763 - accuracy: 0.9849 - val_loss: 1.4752 - val_accuracy: 0.9861\n",
      "Epoch 13/50\n",
      "42000/42000 [==============================] - 54s 1ms/sample - loss: 1.4745 - accuracy: 0.9869 - val_loss: 1.4748 - val_accuracy: 0.9865\n",
      "Epoch 14/50\n",
      "42000/42000 [==============================] - 54s 1ms/sample - loss: 1.4745 - accuracy: 0.9869 - val_loss: 1.4757 - val_accuracy: 0.9854\n",
      "Epoch 15/50\n",
      "42000/42000 [==============================] - 55s 1ms/sample - loss: 1.4731 - accuracy: 0.9883 - val_loss: 1.4756 - val_accuracy: 0.9855\n",
      "Epoch 16/50\n",
      "42000/42000 [==============================] - 55s 1ms/sample - loss: 1.4730 - accuracy: 0.9883 - val_loss: 1.4748 - val_accuracy: 0.9862\n",
      "Epoch 17/50\n",
      "42000/42000 [==============================] - 55s 1ms/sample - loss: 1.4725 - accuracy: 0.9888 - val_loss: 1.4744 - val_accuracy: 0.9868\n",
      "Epoch 18/50\n",
      "42000/42000 [==============================] - 54s 1ms/sample - loss: 1.4719 - accuracy: 0.9893 - val_loss: 1.4748 - val_accuracy: 0.9862\n",
      "Epoch 19/50\n",
      "42000/42000 [==============================] - 54s 1ms/sample - loss: 1.4716 - accuracy: 0.9897 - val_loss: 1.4745 - val_accuracy: 0.9864\n",
      "Epoch 20/50\n",
      "42000/42000 [==============================] - 54s 1ms/sample - loss: 1.4718 - accuracy: 0.9894 - val_loss: 1.4744 - val_accuracy: 0.9868\n",
      "Epoch 21/50\n",
      "42000/42000 [==============================] - 54s 1ms/sample - loss: 1.4710 - accuracy: 0.9901 - val_loss: 1.4749 - val_accuracy: 0.9861\n",
      "Epoch 22/50\n",
      "42000/42000 [==============================] - 54s 1ms/sample - loss: 1.4707 - accuracy: 0.9906 - val_loss: 1.4736 - val_accuracy: 0.9876\n",
      "Epoch 23/50\n",
      "42000/42000 [==============================] - 55s 1ms/sample - loss: 1.4702 - accuracy: 0.9910 - val_loss: 1.4737 - val_accuracy: 0.9877\n",
      "Epoch 24/50\n",
      "42000/42000 [==============================] - 54s 1ms/sample - loss: 1.4695 - accuracy: 0.9917 - val_loss: 1.4736 - val_accuracy: 0.9874\n",
      "Epoch 25/50\n",
      "42000/42000 [==============================] - 54s 1ms/sample - loss: 1.4693 - accuracy: 0.9918 - val_loss: 1.4747 - val_accuracy: 0.9865\n",
      "Epoch 26/50\n",
      "42000/42000 [==============================] - 54s 1ms/sample - loss: 1.4685 - accuracy: 0.9928 - val_loss: 1.4736 - val_accuracy: 0.9874\n",
      "Epoch 27/50\n",
      "42000/42000 [==============================] - 55s 1ms/sample - loss: 1.4691 - accuracy: 0.9921 - val_loss: 1.4738 - val_accuracy: 0.9873\n",
      "Epoch 28/50\n",
      "42000/42000 [==============================] - 54s 1ms/sample - loss: 1.4689 - accuracy: 0.9923 - val_loss: 1.4735 - val_accuracy: 0.9876\n",
      "Epoch 29/50\n",
      "42000/42000 [==============================] - 54s 1ms/sample - loss: 1.4684 - accuracy: 0.9928 - val_loss: 1.4733 - val_accuracy: 0.9877\n",
      "Epoch 30/50\n",
      "42000/42000 [==============================] - 54s 1ms/sample - loss: 1.4687 - accuracy: 0.9924 - val_loss: 1.4728 - val_accuracy: 0.9883\n",
      "Epoch 31/50\n",
      "42000/42000 [==============================] - 54s 1ms/sample - loss: 1.4680 - accuracy: 0.9932 - val_loss: 1.4729 - val_accuracy: 0.9885\n",
      "Epoch 32/50\n",
      "42000/42000 [==============================] - 54s 1ms/sample - loss: 1.4678 - accuracy: 0.9933 - val_loss: 1.4731 - val_accuracy: 0.9882\n",
      "Epoch 33/50\n",
      "42000/42000 [==============================] - 54s 1ms/sample - loss: 1.4678 - accuracy: 0.9934 - val_loss: 1.4731 - val_accuracy: 0.9881\n",
      "Epoch 34/50\n",
      "42000/42000 [==============================] - 54s 1ms/sample - loss: 1.4675 - accuracy: 0.9938 - val_loss: 1.4730 - val_accuracy: 0.9881\n",
      "Epoch 35/50\n",
      "42000/42000 [==============================] - 54s 1ms/sample - loss: 1.4671 - accuracy: 0.9941 - val_loss: 1.4730 - val_accuracy: 0.9880\n",
      "Epoch 36/50\n",
      "42000/42000 [==============================] - 54s 1ms/sample - loss: 1.4672 - accuracy: 0.9942 - val_loss: 1.4723 - val_accuracy: 0.9889\n",
      "Epoch 37/50\n",
      "42000/42000 [==============================] - 54s 1ms/sample - loss: 1.4670 - accuracy: 0.9942 - val_loss: 1.4725 - val_accuracy: 0.9887\n",
      "Epoch 38/50\n",
      "42000/42000 [==============================] - 54s 1ms/sample - loss: 1.4670 - accuracy: 0.9942 - val_loss: 1.4722 - val_accuracy: 0.9889\n",
      "Epoch 39/50\n",
      "42000/42000 [==============================] - 54s 1ms/sample - loss: 1.4667 - accuracy: 0.9945 - val_loss: 1.4728 - val_accuracy: 0.9884\n",
      "Epoch 40/50\n",
      "42000/42000 [==============================] - 54s 1ms/sample - loss: 1.4668 - accuracy: 0.9944 - val_loss: 1.4724 - val_accuracy: 0.9887\n",
      "Epoch 41/50\n",
      "42000/42000 [==============================] - 54s 1ms/sample - loss: 1.4663 - accuracy: 0.9950 - val_loss: 1.4724 - val_accuracy: 0.9887\n",
      "Epoch 42/50\n",
      "42000/42000 [==============================] - 54s 1ms/sample - loss: 1.4664 - accuracy: 0.9948 - val_loss: 1.4727 - val_accuracy: 0.9886\n",
      "Epoch 43/50\n",
      "42000/42000 [==============================] - 54s 1ms/sample - loss: 1.4664 - accuracy: 0.9948 - val_loss: 1.4722 - val_accuracy: 0.9889\n",
      "Epoch 44/50\n",
      "42000/42000 [==============================] - 54s 1ms/sample - loss: 1.4659 - accuracy: 0.9954 - val_loss: 1.4727 - val_accuracy: 0.9885\n",
      "Epoch 45/50\n",
      "42000/42000 [==============================] - 54s 1ms/sample - loss: 1.4665 - accuracy: 0.9947 - val_loss: 1.4725 - val_accuracy: 0.9887\n",
      "Epoch 46/50\n",
      "42000/42000 [==============================] - 54s 1ms/sample - loss: 1.4661 - accuracy: 0.9951 - val_loss: 1.4723 - val_accuracy: 0.9890\n",
      "Epoch 47/50\n",
      "42000/42000 [==============================] - 54s 1ms/sample - loss: 1.4660 - accuracy: 0.9952 - val_loss: 1.4722 - val_accuracy: 0.9889\n",
      "Epoch 48/50\n",
      "42000/42000 [==============================] - 55s 1ms/sample - loss: 1.4658 - accuracy: 0.9955 - val_loss: 1.4723 - val_accuracy: 0.9887\n",
      "Epoch 49/50\n",
      "42000/42000 [==============================] - 56s 1ms/sample - loss: 1.4658 - accuracy: 0.9954 - val_loss: 1.4721 - val_accuracy: 0.9891\n",
      "Epoch 50/50\n",
      "42000/42000 [==============================] - 54s 1ms/sample - loss: 1.4654 - accuracy: 0.9958 - val_loss: 1.4720 - val_accuracy: 0.9891\n"
     ]
    }
   ],
   "source": [
    "history = model.fit(x_train, y_train, validation_data=(x_test, y_test), epochs=50, batch_size=200)\n"
   ]
  },
  {
   "cell_type": "code",
   "execution_count": 11,
   "metadata": {},
   "outputs": [
    {
     "name": "stderr",
     "output_type": "stream",
     "text": [
      "Using TensorFlow backend.\n"
     ]
    },
    {
     "name": "stdout",
     "output_type": "stream",
     "text": [
      "Saved model to disk\n"
     ]
    }
   ],
   "source": [
    "from keras.models import model_from_json\n",
    "# save trained model\n",
    "# serialize model to JSON\n",
    "model_json = model.to_json()\n",
    "with open(\"Q3_part2_mnist_trained_model_adam_50_epochs.json\", \"w\") as json_file:\n",
    "    json_file.write(model_json)\n",
    "# serialize weights to HDF5 and saving the weights\n",
    "model.save_weights(\"Q3_part2_mnist_trained_model_adam_50_epochs.h5\")\n",
    "print(\"Saved model to disk\")"
   ]
  },
  {
   "cell_type": "code",
   "execution_count": 12,
   "metadata": {},
   "outputs": [
    {
     "data": {
      "image/png": "[encoded data removed]",
      "text/plain": [
       "<Figure size 432x288 with 1 Axes>"
      ]
     },
     "metadata": {
      "needs_background": "light"
     },
     "output_type": "display_data"
    }
   ],
   "source": [
    "plt.plot(history.history['accuracy'])\n",
    "plt.plot(history.history['val_accuracy'])\n",
    "plt.legend(['training', 'validation'], loc = 'upper left')\n",
    "plt.show()"
   ]
  },
  {
   "cell_type": "code",
   "execution_count": 13,
   "metadata": {},
   "outputs": [
    {
     "name": "stdout",
     "output_type": "stream",
     "text": [
      "28000/28000 [==============================] - 13s 453us/sample - loss: 1.4720 - accuracy: 0.9891\n",
      "Accuracy : 98.91%\n",
      "Baseline Error: 1.09%\n"
     ]
    }
   ],
   "source": [
    "# Final evaluation of the model\n",
    "\n",
    "scores = model.evaluate(x_test, y_test)\n",
    "\n",
    "print(\"Accuracy : %.2f%%\" % (scores[1]*100))\n",
    "print(\"Baseline Error: %.2f%%\" % (100-scores[1]*100))"
   ]
  },
  {
   "cell_type": "code",
   "execution_count": 14,
   "metadata": {},
   "outputs": [
    {
     "name": "stdout",
     "output_type": "stream",
     "text": [
      "(28000, 10)\n",
      "(28000,)\n",
      "tf.Tensor(\n",
      "[[2694    2    3    0    4    1   14    1    1    4]\n",
      " [   0 3140    5    2    1    0    2    7    2    0]\n",
      " [   3    2 2718   12    1    0    0   19    6    3]\n",
      " [   1    1   13 2808    0   10    0    8    1    2]\n",
      " [   3    3    2    0 2707    0    1    0    2   11]\n",
      " [   2    0    1    5    1 2500    6    1    4    0]\n",
      " [   4    1    1    0    4    3 2731    0    3    0]\n",
      " [   0    8   21    4    2    0    0 2944    0    5]\n",
      " [   4    0    2    4    7    4    7    0 2712   12]\n",
      " [   7    2    0    0    8    4    1    8    5 2742]], shape=(10, 10), dtype=int32)\n"
     ]
    }
   ],
   "source": [
    "import tensorflow as tf\n",
    "y= model.predict(x_test)\n",
    "print(y.shape)\n",
    "y_pred = np.argmax(y, axis=1)\n",
    "print(y_pred.shape)\n",
    "\n",
    "con = tf.math.confusion_matrix(labels=y_test, predictions=y_pred )\n",
    "print(con)"
   ]
  },
  {
   "cell_type": "code",
   "execution_count": 15,
   "metadata": {},
   "outputs": [
    {
     "name": "stdout",
     "output_type": "stream",
     "text": [
      "Model: \"sequential\"\n",
      "_________________________________________________________________\n",
      "Layer (type)                 Output Shape              Param #   \n",
      "=================================================================\n",
      "conv2d (Conv2D)              multiple                  320       \n",
      "_________________________________________________________________\n",
      "batch_normalization (BatchNo multiple                  128       \n",
      "_________________________________________________________________\n",
      "max_pooling2d (MaxPooling2D) multiple                  0         \n",
      "_________________________________________________________________\n",
      "conv2d_1 (Conv2D)            multiple                  18496     \n",
      "_________________________________________________________________\n",
      "batch_normalization_1 (Batch multiple                  256       \n",
      "_________________________________________________________________\n",
      "max_pooling2d_1 (MaxPooling2 multiple                  0         \n",
      "_________________________________________________________________\n",
      "conv2d_2 (Conv2D)            multiple                  73856     \n",
      "_________________________________________________________________\n",
      "batch_normalization_2 (Batch multiple                  512       \n",
      "_________________________________________________________________\n",
      "max_pooling2d_2 (MaxPooling2 multiple                  0         \n",
      "_________________________________________________________________\n",
      "flatten (Flatten)            multiple                  0         \n",
      "_________________________________________________________________\n",
      "dropout (Dropout)            multiple                  0         \n",
      "_________________________________________________________________\n",
      "dense (Dense)                multiple                  132096    \n",
      "_________________________________________________________________\n",
      "dropout_1 (Dropout)          multiple                  0         \n",
      "_________________________________________________________________\n",
      "dense_1 (Dense)              multiple                  10250     \n",
      "=================================================================\n",
      "Total params: 235,914\n",
      "Trainable params: 235,466\n",
      "Non-trainable params: 448\n",
      "_________________________________________________________________\n"
     ]
    }
   ],
   "source": [
    "model.summary()"
   ]
  },
  {
   "cell_type": "code",
   "execution_count": null,
   "metadata": {},
   "outputs": [],
   "source": []
  }
 ],
 "metadata": {
  "kernelspec": {
   "display_name": "Python 3",
   "language": "python",
   "name": "python3"
  },
  "language_info": {
   "codemirror_mode": {
    "name": "ipython",
    "version": 3
   },
   "file_extension": ".py",
   "mimetype": "text/x-python",
   "name": "python",
   "nbconvert_exporter": "python",
   "pygments_lexer": "ipython3",
   "version": "3.6.8"
  }
 },
 "nbformat": 4,
 "nbformat_minor": 2
}
