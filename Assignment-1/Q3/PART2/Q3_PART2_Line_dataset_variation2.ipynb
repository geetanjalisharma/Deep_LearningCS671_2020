{
 "cells": [
  {
   "cell_type": "code",
   "execution_count": 1,
   "metadata": {},
   "outputs": [
    {
     "name": "stdout",
     "output_type": "stream",
     "text": [
      "['Class91', 'Class21', 'Class14', 'Class29', 'Class60', 'Class39', 'Class45', 'Class2', 'Class17', 'Class84', 'Class76', 'Class71', 'Class92', 'Class96', 'Class82', 'Class73', 'Class46', 'Class37', 'Class6', 'Class54', 'Class43', 'Class41', 'Class65', 'Class83', 'Class57', 'Class38', 'Class77', 'Class10', 'Class61', 'Class16', 'Class26', 'Class94', 'Class22', 'Class18', 'Class20', 'Class66', 'Class78', 'Class55', 'Class9', 'Class24', 'Class36', 'Class67', 'Class75', 'Class34', 'Class59', 'Class88', 'Class44', 'Class90', 'Class8', 'Class13', 'Class11', 'Class85', 'Class79', 'Class56', 'Class32', 'Class62', 'Class25', 'Class42', 'Class89', 'Class33', 'Class81', 'Class53', 'Class51', 'Class30', 'Class69', 'Class35', 'Class19', 'Class4', 'Class47', 'Class23', 'Class40', 'Class95', 'Class50', 'Class58', 'Class27', 'Class49', 'Class7', 'Class31', 'Class52', 'Class1', 'Class48', 'Class68', 'Class72', 'Class5', 'Class86', 'Class3', 'Class15', 'Class87', 'Class70', 'Class93', 'Class28', 'Class74', 'Class80', 'Class64', 'Class63', 'Class12']\n",
      "96\n",
      "[array([[ 0.,  1.,  0., ...,  0.,  0.,  0.],\n",
      "       [ 0.,  0.,  0., ...,  4.,  0.,  0.],\n",
      "       [ 0.,  4.,  0., ...,  0.,  0.,  0.],\n",
      "       ...,\n",
      "       [ 0.,  3.,  2., ...,  0.,  0.,  0.],\n",
      "       [ 0.,  0.,  0., ...,  3.,  0.,  2.],\n",
      "       [ 3.,  0., 14., ...,  0.,  0.,  0.]], dtype=float32), array([37, 67, 38, ..., 95, 72, 89])]\n",
      "number of classes 96\n"
     ]
    }
   ],
   "source": [
    "from sklearn.utils import shuffle\n",
    "from sklearn.model_selection import train_test_split\n",
    "import os\n",
    "from numpy import array\n",
    "from PIL import Image\n",
    "import numpy\n",
    "import numpy as np\n",
    "\n",
    "\n",
    "\n",
    "# input image dimensions\n",
    "img_rows, img_cols = 28, 28\n",
    "\n",
    "\n",
    "# number of channels\n",
    "img_channels = 3\n",
    "\n",
    "# number of epochs\n",
    "epochs=20\n",
    "#batch Size\n",
    "batch_size=32\n",
    "\n",
    "target_names = ['class 1', 'class 2', 'class 3', 'class 4', 'class 5', 'class 6', 'class 7', 'class 8', 'class 9', 'class10', \n",
    "                'class 11', 'class 12', 'class 13', 'class 14', 'class 15', 'class 16', 'class 17', 'class 18', 'class 19', 'class 20',\n",
    "                'class 21', 'class 22', 'class 23', 'class 24', 'class 25', 'class 26', 'class 27', 'class 28', 'class 29', 'class 30',\n",
    "                'class 31', 'class 32', 'class 33', 'class 34', 'class 35', 'class 36', 'class 37', 'class 38', 'class 39', 'class 40',\n",
    "                'class 41', 'class 42', 'class 43', 'class 44', 'class 45', 'class 46', 'class 47', 'class 48', 'class 49', 'class 50',\n",
    "                'class 51', 'class 52', 'class 53', 'class 54', 'class 55', 'class 56', 'class 57', 'class 58', 'class 59', 'class 60',\n",
    "                'class 61', 'class 62', 'class 63', 'class 64', 'class 65', 'class 66', 'class 67', 'class 68', 'class 69', 'class 70',\n",
    "                'class 71', 'class 72', 'class 73', 'class 74', 'class 75', 'class 76', 'class 77', 'class 78', 'class 79', 'class 80',\n",
    "                'class 81', 'class 82', 'class 83', 'class 84', 'class 85', 'class 86', 'class 87', 'class 88', 'class 89', 'class 90',\n",
    "                'class 91', 'class 92', 'class 93', 'class 94', 'class 95', 'class 96']\n",
    "\n",
    "# Path to the folder that is containing all the folders correspond to different class\n",
    "path = '/home/gitanjali/Desktop/Deep_learning/DL_2020/assignment1/line_data'\n",
    "\n",
    "\n",
    "list_files = os.listdir(path) # List_Files contains names of different folders inside \n",
    "print (list_files)\n",
    "number_class = len(list_files) # Number of classes\n",
    "print (number_class) \n",
    "num_samples = 0\n",
    "#Processing images for each class\n",
    "global combine_matrix # declaration of variable\n",
    "n_da_per_class = [] # create list for containing size(total number of images) of each class\n",
    "check_first = 1\n",
    "\n",
    "for class_n in list_files:\n",
    "    class_list = os.listdir(path + '/'+ class_n)\n",
    "    #print(\"class list\", class_list)\n",
    "    class_im = array(Image.open(path + '/'+ class_n + '/' + class_list[0])) # open one image to get size\n",
    "    image_m,image_n = class_im.shape[0:2] # get the size of the one image in Class\n",
    "    class_imnbr = len(class_list) # get the number of images corresponding to each class\n",
    "    #print(class_imnbr)\n",
    "    n_da_per_class.append(class_imnbr) # append size of folder in n_da_per_class list\n",
    "    num_samples = num_samples + class_imnbr\n",
    "    #print(num_samples)\n",
    "    class_immatrix_n = array([array(Image.open(path + '/'+ class_n + '/' + class_im2)).flatten()\n",
    "                            for class_im2 in class_list],'f')\n",
    "    \n",
    "    #print (os.path.getsize(class_immatrix_n))\n",
    "    if check_first == 1:\n",
    "        check_first = 0\n",
    "        combine_matrix = class_immatrix_n\n",
    "    else:\n",
    "        combine_matrix  = numpy.concatenate((combine_matrix, class_immatrix_n), axis=0)  # Combining each matrix\n",
    "    \n",
    "\n",
    "label=numpy.ones((num_samples,),dtype = int) # number of elements in label = number of samples\n",
    "class_ind = 0; # initializing class label\n",
    "number = 0\n",
    "sum_number = 0\n",
    "for data_p_c in n_da_per_class:  # for each image, label is assigned\n",
    "    number = number + int(data_p_c)\n",
    "    for i in range(sum_number, number):\n",
    "        label[i] = class_ind\n",
    "    class_ind = class_ind + 1\n",
    "    sum_number = sum_number + int(data_p_c)\n",
    "\n",
    "data,Label = shuffle(combine_matrix,label, random_state=2)\n",
    "train_data = [data,Label]\n",
    "print ((train_data)) \n",
    "(x, y) = (train_data[0],train_data[1])\n",
    "# number of output classes\n",
    "nb_classes = number_class\n",
    "print(\"number of classes\",nb_classes)\n"
   ]
  },
  {
   "cell_type": "code",
   "execution_count": 2,
   "metadata": {},
   "outputs": [
    {
     "name": "stdout",
     "output_type": "stream",
     "text": [
      "training data (57600, 28, 28, 3)\n",
      "training labels (57600,)\n",
      "testing data (38400, 28, 28, 3)\n",
      "testing labels (38400,)\n"
     ]
    }
   ],
   "source": [
    "img_rows = 28\n",
    "img_cols = 28\n",
    "\n",
    "x_train, x_test, y_train, y_test = train_test_split(x, y, test_size=0.4, random_state=2)\n",
    "x_train = x_train.reshape(x_train.shape[0], img_rows, img_cols, 3)\n",
    "x_test = x_test.reshape(x_test.shape[0], img_rows, img_cols, 3)\n",
    "\n",
    "print(\"training data\",x_train.shape)\n",
    "print(\"training labels\",y_train.shape)\n",
    "print(\"testing data\",x_test.shape)\n",
    "print(\"testing labels\",y_test.shape)"
   ]
  },
  {
   "cell_type": "code",
   "execution_count": 3,
   "metadata": {},
   "outputs": [
    {
     "name": "stdout",
     "output_type": "stream",
     "text": [
      "normalize training data (57600, 28, 28, 3)\n",
      "normalize testing data (38400, 28, 28, 3)\n",
      "training labels (57600,)\n",
      "testing labels (38400,)\n"
     ]
    }
   ],
   "source": [
    "# precise the pixel value to be 32 bit\n",
    "x_train = x_train.astype(\"float32\")\n",
    "x_test = x_test.astype(\"float32\")\n",
    "\n",
    "# normalize input from 0-255 to 0-1\n",
    "x_train = x_train / 255.\n",
    "x_test = x_test / 255.\n",
    "\n",
    "# one hot encode outputs using np_utils.to_categorical inbuilt function\n",
    "\n",
    "\n",
    "\n",
    "\n",
    "print(\"normalize training data\", x_train.shape)\n",
    "print(\"normalize testing data\", x_test.shape)\n",
    "print(\"training labels\", y_train.shape)\n",
    "print(\"testing labels\", y_test.shape)"
   ]
  },
  {
   "cell_type": "code",
   "execution_count": 4,
   "metadata": {},
   "outputs": [
    {
     "name": "stderr",
     "output_type": "stream",
     "text": [
      "Using TensorFlow backend.\n"
     ]
    }
   ],
   "source": [
    "# convert class vectors to binary class matrices\n",
    "from sklearn.utils import shuffle\n",
    "from keras.utils import np_utils\n",
    "nb_classes=96\n",
    "y_train = np_utils.to_categorical(y_train, nb_classes)\n",
    "y_test = np_utils.to_categorical(y_test, nb_classes)"
   ]
  },
  {
   "cell_type": "code",
   "execution_count": 5,
   "metadata": {},
   "outputs": [
    {
     "data": {
      "text/plain": [
       "<matplotlib.image.AxesImage at 0x7f8c596b96d8>"
      ]
     },
     "execution_count": 5,
     "metadata": {},
     "output_type": "execute_result"
    }
   ],
   "source": [
    "import numpy as np\n",
    "\n",
    "import matplotlib.pyplot as plt\n",
    "# plot 2 images\n",
    "plt.subplot(221)\n",
    "plt.imshow(x_train[0])\n",
    "plt.subplot(222)\n",
    "plt.imshow(x_train[1])"
   ]
  },
  {
   "cell_type": "code",
   "execution_count": 6,
   "metadata": {},
   "outputs": [],
   "source": [
    "import numpy as np\n",
    "from keras.layers import Conv2D, MaxPooling2D, Input, Dense, Flatten, Activation, BatchNormalization\n",
    "from keras.models import Model\n",
    "#from tensorflow.examples.tutorials.mnist import input_data\n",
    "from keras.optimizers import Adam\n",
    "import matplotlib.pyplot as plt\n",
    "from sklearn.metrics import confusion_matrix"
   ]
  },
  {
   "cell_type": "code",
   "execution_count": 7,
   "metadata": {},
   "outputs": [],
   "source": [
    "import tensorflow as tf\n",
    "from tensorflow import keras\n",
    "\n",
    "# Helper libraries\n",
    "import numpy as np\n",
    "import pandas as pd\n",
    "import matplotlib.pyplot as plt\n",
    "#from tqdm import tqdm\n",
    "from keras.preprocessing import image\n",
    "#from keras.utils import to_categorical\n",
    "from sklearn.model_selection import train_test_split"
   ]
  },
  {
   "cell_type": "code",
   "execution_count": 8,
   "metadata": {},
   "outputs": [],
   "source": [
    "model = keras.Sequential()\n",
    "model.add(keras.layers.Conv2D(16, kernel_size=(3, 3),activation='relu',input_shape=(28,28,3)))\n",
    "model.add(keras.layers.BatchNormalization(axis=2))\n",
    "model.add(keras.layers.MaxPooling2D(pool_size=(2, 2), strides=2))\n",
    "model.add(keras.layers.Conv2D(32, (3, 3), activation='relu'))\n",
    "model.add(keras.layers.MaxPooling2D(pool_size=(2, 2)))\n",
    "#model.add(keras.layers.Dropout(0.25))\n",
    "model.add(keras.layers.Flatten())\n",
    "model.add(keras.layers.Dense(512, activation='relu'))\n",
    "model.add(keras.layers.Dropout(0.5))\n",
    "model.add(keras.layers.Dense(96, activation='softmax'))"
   ]
  },
  {
   "cell_type": "code",
   "execution_count": 9,
   "metadata": {},
   "outputs": [],
   "source": [
    "#loss_fn = tf.keras.losses.SparseCategoricalCrossentropy(from_logits=True)\n",
    "#loss_fn\n",
    "\n",
    "from keras.optimizers import SGD, Adam\n",
    "\n",
    "sgd = SGD(lr = 0.001, momentum = 0.9, decay = 0.0005)"
   ]
  },
  {
   "cell_type": "code",
   "execution_count": 10,
   "metadata": {},
   "outputs": [],
   "source": [
    "model.compile(optimizer='sgd',\n",
    "              loss='categorical_crossentropy',\n",
    "              metrics=['accuracy'])"
   ]
  },
  {
   "cell_type": "code",
   "execution_count": 12,
   "metadata": {},
   "outputs": [
    {
     "name": "stdout",
     "output_type": "stream",
     "text": [
      "Model: \"sequential_1\"\n",
      "_________________________________________________________________\n",
      "Layer (type)                 Output Shape              Param #   \n",
      "=================================================================\n",
      "conv2d_2 (Conv2D)            (None, 26, 26, 16)        448       \n",
      "_________________________________________________________________\n",
      "batch_normalization_1 (Batch (None, 26, 26, 16)        104       \n",
      "_________________________________________________________________\n",
      "max_pooling2d_2 (MaxPooling2 (None, 13, 13, 16)        0         \n",
      "_________________________________________________________________\n",
      "conv2d_3 (Conv2D)            (None, 11, 11, 32)        4640      \n",
      "_________________________________________________________________\n",
      "max_pooling2d_3 (MaxPooling2 (None, 5, 5, 32)          0         \n",
      "_________________________________________________________________\n",
      "flatten_1 (Flatten)          (None, 800)               0         \n",
      "_________________________________________________________________\n",
      "dense_2 (Dense)              (None, 512)               410112    \n",
      "_________________________________________________________________\n",
      "dropout_1 (Dropout)          (None, 512)               0         \n",
      "_________________________________________________________________\n",
      "dense_3 (Dense)              (None, 96)                49248     \n",
      "=================================================================\n",
      "Total params: 464,552\n",
      "Trainable params: 464,500\n",
      "Non-trainable params: 52\n",
      "_________________________________________________________________\n"
     ]
    }
   ],
   "source": [
    "model.summary()"
   ]
  },
  {
   "cell_type": "code",
   "execution_count": 13,
   "metadata": {},
   "outputs": [
    {
     "name": "stdout",
     "output_type": "stream",
     "text": [
      "Train on 57600 samples, validate on 38400 samples\n",
      "Epoch 1/15\n",
      "57600/57600 [==============================] - 81s 1ms/sample - loss: 3.5536 - accuracy: 0.1251 - val_loss: 2.2318 - val_accuracy: 0.3919\n",
      "Epoch 2/15\n",
      "57600/57600 [==============================] - 58s 1ms/sample - loss: 1.9036 - accuracy: 0.4042 - val_loss: 1.0809 - val_accuracy: 0.6783\n",
      "Epoch 3/15\n",
      "57600/57600 [==============================] - 59s 1ms/sample - loss: 1.0843 - accuracy: 0.6214 - val_loss: 0.6135 - val_accuracy: 0.8195\n",
      "Epoch 4/15\n",
      "57600/57600 [==============================] - 59s 1ms/sample - loss: 0.7198 - accuracy: 0.7418 - val_loss: 0.3941 - val_accuracy: 0.8773\n",
      "Epoch 5/15\n",
      "57600/57600 [==============================] - 60s 1ms/sample - loss: 0.5382 - accuracy: 0.8032 - val_loss: 0.2946 - val_accuracy: 0.9127\n",
      "Epoch 6/15\n",
      "57600/57600 [==============================] - 60s 1ms/sample - loss: 0.4337 - accuracy: 0.8422 - val_loss: 0.2877 - val_accuracy: 0.9017\n",
      "Epoch 7/15\n",
      "57600/57600 [==============================] - 60s 1ms/sample - loss: 0.3715 - accuracy: 0.8638 - val_loss: 0.1994 - val_accuracy: 0.9349\n",
      "Epoch 8/15\n",
      "57600/57600 [==============================] - 60s 1ms/sample - loss: 0.3119 - accuracy: 0.8859 - val_loss: 0.2237 - val_accuracy: 0.9183\n",
      "Epoch 9/15\n",
      "57600/57600 [==============================] - 60s 1ms/sample - loss: 0.2844 - accuracy: 0.8970 - val_loss: 0.1495 - val_accuracy: 0.9518\n",
      "Epoch 10/15\n",
      "57600/57600 [==============================] - 61s 1ms/sample - loss: 0.2564 - accuracy: 0.9071 - val_loss: 0.1434 - val_accuracy: 0.9523\n",
      "Epoch 11/15\n",
      "57600/57600 [==============================] - 61s 1ms/sample - loss: 0.2419 - accuracy: 0.9147 - val_loss: 0.1396 - val_accuracy: 0.9588\n",
      "Epoch 12/15\n",
      "57600/57600 [==============================] - 61s 1ms/sample - loss: 0.2110 - accuracy: 0.9243 - val_loss: 0.1259 - val_accuracy: 0.9577\n",
      "Epoch 13/15\n",
      "57600/57600 [==============================] - 61s 1ms/sample - loss: 0.2331 - accuracy: 0.9229 - val_loss: 0.1554 - val_accuracy: 0.9539\n",
      "Epoch 14/15\n",
      "57600/57600 [==============================] - 61s 1ms/sample - loss: 0.1996 - accuracy: 0.9298 - val_loss: 0.0948 - val_accuracy: 0.9682\n",
      "Epoch 15/15\n",
      "57600/57600 [==============================] - 61s 1ms/sample - loss: 0.1687 - accuracy: 0.9402 - val_loss: 0.0825 - val_accuracy: 0.9737\n"
     ]
    }
   ],
   "source": [
    "history = model.fit(x_train, y_train, epochs=15, validation_data=(x_test, y_test))"
   ]
  },
  {
   "cell_type": "code",
   "execution_count": 14,
   "metadata": {},
   "outputs": [
    {
     "name": "stdout",
     "output_type": "stream",
     "text": [
      "dict_keys(['loss', 'accuracy', 'val_loss', 'val_accuracy'])\n"
     ]
    },
    {
     "data": {
      "image/png": "[encoded data removed]",
      "text/plain": [
       "<Figure size 432x288 with 1 Axes>"
      ]
     },
     "metadata": {
      "needs_background": "light"
     },
     "output_type": "display_data"
    }
   ],
   "source": [
    "print(history.history.keys())\n",
    "# summarize history for accuracy\n",
    "plt.plot(history.history['accuracy'])\n",
    "plt.plot(history.history['val_accuracy'])\n",
    "plt.title('model accuracy')\n",
    "plt.ylabel('accuracy')\n",
    "plt.xlabel('epoch')\n",
    "plt.legend(['train', 'test'], loc='upper left')\n",
    "plt.show()"
   ]
  },
  {
   "cell_type": "code",
   "execution_count": 15,
   "metadata": {},
   "outputs": [
    {
     "data": {
      "image/png": "[encoded data removed]",
      "text/plain": [
       "<Figure size 432x288 with 1 Axes>"
      ]
     },
     "metadata": {
      "needs_background": "light"
     },
     "output_type": "display_data"
    }
   ],
   "source": [
    "# summarize history for loss\n",
    "plt.plot(history.history['loss'])\n",
    "plt.plot(history.history['val_loss'])\n",
    "plt.title('model loss')\n",
    "plt.ylabel('loss')\n",
    "plt.xlabel('epoch')\n",
    "plt.legend(['train', 'test'], loc='upper left')\n",
    "plt.show()"
   ]
  },
  {
   "cell_type": "code",
   "execution_count": 16,
   "metadata": {},
   "outputs": [
    {
     "name": "stdout",
     "output_type": "stream",
     "text": [
      "38400/38400 [==============================] - 17s 454us/sample - loss: 0.0825 - accuracy: 0.9737\n",
      "Accuracy : 97.37%\n",
      "Baseline Error: 2.63%\n"
     ]
    }
   ],
   "source": [
    "# Final evaluation of the model\n",
    "\n",
    "scores = model.evaluate(x_test, y_test)\n",
    "\n",
    "print(\"Accuracy : %.2f%%\" % (scores[1]*100))\n",
    "print(\"Baseline Error: %.2f%%\" % (100-scores[1]*100))"
   ]
  },
  {
   "cell_type": "code",
   "execution_count": 17,
   "metadata": {},
   "outputs": [
    {
     "name": "stdout",
     "output_type": "stream",
     "text": [
      "(38400, 96)\n",
      "(38400,)\n"
     ]
    }
   ],
   "source": [
    "import tensorflow as tf\n",
    "y= model.predict(x_test)\n",
    "print(y.shape)\n",
    "y_pred = np.argmax(y, axis=1)\n",
    "print(y_pred.shape)\n",
    "\n",
    "#target=target_names = ['class0','class 1', 'class 2', 'class 3', 'class 4', 'class 5', 'class 6', 'class 7', 'class 8', 'class 9'] \n",
    "\n",
    "#con = tf.math.confusion_matrix(labels=y_test, predictions=y_pred)\n",
    "#print(con)\n",
    "\n",
    "y_pred = model.predict(x_test)\n",
    "cm = confusion_matrix(y_test.argmax(axis=1), y_pred.argmax(axis=1))"
   ]
  },
  {
   "cell_type": "code",
   "execution_count": 18,
   "metadata": {},
   "outputs": [
    {
     "name": "stdout",
     "output_type": "stream",
     "text": [
      "[[383   0   0 ...   0   0   0]\n",
      " [  0 394   0 ...   0   0   0]\n",
      " [  0   0 404 ...   0   0   0]\n",
      " ...\n",
      " [  0   0   0 ... 386   0   0]\n",
      " [  0   0   0 ...   0 390   0]\n",
      " [  0   0   0 ...   0   0 408]]\n"
     ]
    }
   ],
   "source": [
    "y_pred = model.predict(x_test)\n",
    "cm = confusion_matrix(y_test.argmax(axis=1), y_pred.argmax(axis=1))\n",
    "print(cm)"
   ]
  },
  {
   "cell_type": "code",
   "execution_count": null,
   "metadata": {},
   "outputs": [],
   "source": [
    "\n"
   ]
  },
  {
   "cell_type": "code",
   "execution_count": 19,
   "metadata": {},
   "outputs": [
    {
     "name": "stdout",
     "output_type": "stream",
     "text": [
      "Saved model to disk\n"
     ]
    }
   ],
   "source": [
    "from keras.models import model_from_json\n",
    "# save trained model\n",
    "# serialize model to JSON\n",
    "model_json = model.to_json()\n",
    "with open(\"Q3_PART2_Line_dataset_variation2.json\", \"w\") as json_file:\n",
    "    json_file.write(model_json)\n",
    "# serialize weights to HDF5 and saving the weights\n",
    "model.save_weights(\"Q3_PART2_Line_dataset_variation2.h5\")\n",
    "print(\"Saved model to disk\")"
   ]
  },
  {
   "cell_type": "code",
   "execution_count": 11,
   "metadata": {},
   "outputs": [
    {
     "name": "stdout",
     "output_type": "stream",
     "text": [
      "Model: \"sequential\"\n",
      "_________________________________________________________________\n",
      "Layer (type)                 Output Shape              Param #   \n",
      "=================================================================\n",
      "conv2d (Conv2D)              (None, 26, 26, 16)        448       \n",
      "_________________________________________________________________\n",
      "batch_normalization (BatchNo (None, 26, 26, 16)        104       \n",
      "_________________________________________________________________\n",
      "max_pooling2d (MaxPooling2D) (None, 13, 13, 16)        0         \n",
      "_________________________________________________________________\n",
      "conv2d_1 (Conv2D)            (None, 11, 11, 32)        4640      \n",
      "_________________________________________________________________\n",
      "max_pooling2d_1 (MaxPooling2 (None, 5, 5, 32)          0         \n",
      "_________________________________________________________________\n",
      "flatten (Flatten)            (None, 800)               0         \n",
      "_________________________________________________________________\n",
      "dense (Dense)                (None, 512)               410112    \n",
      "_________________________________________________________________\n",
      "dropout (Dropout)            (None, 512)               0         \n",
      "_________________________________________________________________\n",
      "dense_1 (Dense)              (None, 96)                49248     \n",
      "=================================================================\n",
      "Total params: 464,552\n",
      "Trainable params: 464,500\n",
      "Non-trainable params: 52\n",
      "_________________________________________________________________\n"
     ]
    }
   ],
   "source": [
    "model.load_weights(\"Q3_PART2_Line_dataset_variation2.h5\")\n",
    "model.summary()"
   ]
  },
  {
   "cell_type": "code",
   "execution_count": 16,
   "metadata": {},
   "outputs": [
    {
     "ename": "NameError",
     "evalue": "name 'conv2d_1' is not defined",
     "output_type": "error",
     "traceback": [
      "\u001b[0;31m---------------------------------------------------------------------------\u001b[0m",
      "\u001b[0;31mNameError\u001b[0m                                 Traceback (most recent call last)",
      "\u001b[0;32m<ipython-input-16-7e2e437e4d11>\u001b[0m in \u001b[0;36m<module>\u001b[0;34m\u001b[0m\n\u001b[1;32m      1\u001b[0m \u001b[0;32mfrom\u001b[0m \u001b[0mtensorflow\u001b[0m\u001b[0;34m.\u001b[0m\u001b[0mkeras\u001b[0m\u001b[0;34m.\u001b[0m\u001b[0mmodels\u001b[0m \u001b[0;32mimport\u001b[0m \u001b[0mModel\u001b[0m\u001b[0;34m\u001b[0m\u001b[0;34m\u001b[0m\u001b[0m\n\u001b[0;32m----> 2\u001b[0;31m \u001b[0mmodel\u001b[0m \u001b[0;34m=\u001b[0m \u001b[0mModel\u001b[0m\u001b[0;34m(\u001b[0m\u001b[0minputs\u001b[0m\u001b[0;34m=\u001b[0m\u001b[0mmodel\u001b[0m\u001b[0;34m.\u001b[0m\u001b[0minputs\u001b[0m\u001b[0;34m,\u001b[0m \u001b[0moutputs\u001b[0m\u001b[0;34m=\u001b[0m\u001b[0mmodel\u001b[0m\u001b[0;34m.\u001b[0m\u001b[0mget_layer\u001b[0m\u001b[0;34m(\u001b[0m\u001b[0mconv2d_1\u001b[0m\u001b[0;34m)\u001b[0m\u001b[0;34m.\u001b[0m\u001b[0moutput\u001b[0m\u001b[0;34m)\u001b[0m\u001b[0;34m\u001b[0m\u001b[0;34m\u001b[0m\u001b[0m\n\u001b[0m\u001b[1;32m      3\u001b[0m \u001b[0;31m#model = model.predict\u001b[0m\u001b[0;34m\u001b[0m\u001b[0;34m\u001b[0m\u001b[0;34m\u001b[0m\u001b[0m\n\u001b[1;32m      4\u001b[0m \u001b[0mprint\u001b[0m\u001b[0;34m(\u001b[0m\u001b[0mmodel\u001b[0m\u001b[0;34m.\u001b[0m\u001b[0minputs\u001b[0m\u001b[0;34m)\u001b[0m\u001b[0;34m\u001b[0m\u001b[0;34m\u001b[0m\u001b[0m\n\u001b[1;32m      5\u001b[0m \u001b[0;31m#print(model.layers[1].output)\u001b[0m\u001b[0;34m\u001b[0m\u001b[0;34m\u001b[0m\u001b[0;34m\u001b[0m\u001b[0m\n",
      "\u001b[0;31mNameError\u001b[0m: name 'conv2d_1' is not defined"
     ]
    }
   ],
   "source": [
    "from tensorflow.keras.models import Model\n",
    "model = Model(inputs=model.inputs, outputs=model.get_layer(conv2d_1).output)\n",
    "#model = model.predict\n",
    "print(model.inputs)\n",
    "#print(model.layers[1].output)"
   ]
  },
  {
   "cell_type": "code",
   "execution_count": 98,
   "metadata": {},
   "outputs": [
    {
     "name": "stdout",
     "output_type": "stream",
     "text": [
      "(1, 28, 28, 3)\n"
     ]
    },
    {
     "data": {
      "text/plain": [
       "(-0.5, 27.5, 27.5, -0.5)"
      ]
     },
     "execution_count": 98,
     "metadata": {},
     "output_type": "execute_result"
    },
    {
     "data": {
      "image/png": "[encoded data removed]",
      "text/plain": [
       "<Figure size 360x360 with 1 Axes>"
      ]
     },
     "metadata": {
      "needs_background": "light"
     },
     "output_type": "display_data"
    }
   ],
   "source": [
    "img = x_test[110].reshape(1,28,28,3)\n",
    "print(img.shape)\n",
    "figure = plt.figure(figsize=(5,5))\n",
    "plt.imshow (img[0,:,:,0])\n",
    "plt.axis('on')"
   ]
  },
  {
   "cell_type": "code",
   "execution_count": 99,
   "metadata": {},
   "outputs": [
    {
     "data": {
      "image/png": "[encoded data removed]",
      "text/plain": [
       "<Figure size 432x288 with 1 Axes>"
      ]
     },
     "metadata": {
      "needs_background": "light"
     },
     "output_type": "display_data"
    }
   ],
   "source": [
    "feature_maps = model.predict(img)\n",
    "\n",
    "# plot all 64 maps in an 8x8 squares\n",
    "square1 = 1\n",
    "square2 = 1\n",
    "ix = 1\n",
    "for _ in range(square1):\n",
    "\tfor _ in range(square2):\n",
    "\t\t# specify subplot and turn of axis\n",
    "\t\tax = plt.subplot(square1, square2, ix)\n",
    "\t\tax.set_xticks([])\n",
    "\t\t#ax.set_yticks([])\n",
    "\t\t# plot filter channel in grayscale\n",
    "\t\tplt.imshow(feature_maps[0, :, :, ix-15], cmap='viridis')\n",
    "\t\tix += 1\n",
    "# show the figure\n",
    "plt.savefig('featuremap_disp_Q3_part1.png')"
   ]
  },
  {
   "cell_type": "code",
   "execution_count": 101,
   "metadata": {},
   "outputs": [
    {
     "name": "stdout",
     "output_type": "stream",
     "text": [
      "(3, 3, 3, 16)\n"
     ]
    },
    {
     "ename": "IndexError",
     "evalue": "index 32 is out of bounds for axis 3 with size 16",
     "output_type": "error",
     "traceback": [
      "\u001b[0;31m---------------------------------------------------------------------------\u001b[0m",
      "\u001b[0;31mIndexError\u001b[0m                                Traceback (most recent call last)",
      "\u001b[0;32m<ipython-input-101-a585a0dd23e8>\u001b[0m in \u001b[0;36m<module>\u001b[0;34m\u001b[0m\n\u001b[1;32m     18\u001b[0m \u001b[0;34m\u001b[0m\u001b[0m\n\u001b[1;32m     19\u001b[0m \u001b[0;32mfor\u001b[0m \u001b[0mi\u001b[0m \u001b[0;32min\u001b[0m \u001b[0mrange\u001b[0m\u001b[0;34m(\u001b[0m\u001b[0mn_filters\u001b[0m\u001b[0;34m)\u001b[0m\u001b[0;34m:\u001b[0m\u001b[0;34m\u001b[0m\u001b[0;34m\u001b[0m\u001b[0m\n\u001b[0;32m---> 20\u001b[0;31m     \u001b[0mf\u001b[0m \u001b[0;34m=\u001b[0m \u001b[0mfilters\u001b[0m\u001b[0;34m[\u001b[0m\u001b[0;34m:\u001b[0m\u001b[0;34m,\u001b[0m \u001b[0;34m:\u001b[0m\u001b[0;34m,\u001b[0m \u001b[0;34m:\u001b[0m\u001b[0;34m,\u001b[0m \u001b[0;36m32\u001b[0m\u001b[0;34m]\u001b[0m\u001b[0;34m\u001b[0m\u001b[0;34m\u001b[0m\u001b[0m\n\u001b[0m\u001b[1;32m     21\u001b[0m     \u001b[0;31m#plot each channel seperately\u001b[0m\u001b[0;34m\u001b[0m\u001b[0;34m\u001b[0m\u001b[0;34m\u001b[0m\u001b[0m\n\u001b[1;32m     22\u001b[0m     \u001b[0;32mfor\u001b[0m \u001b[0mj\u001b[0m \u001b[0;32min\u001b[0m \u001b[0mrange\u001b[0m\u001b[0;34m(\u001b[0m\u001b[0;36m1\u001b[0m\u001b[0;34m)\u001b[0m\u001b[0;34m:\u001b[0m\u001b[0;34m\u001b[0m\u001b[0;34m\u001b[0m\u001b[0m\n",
      "\u001b[0;31mIndexError\u001b[0m: index 32 is out of bounds for axis 3 with size 16"
     ]
    }
   ],
   "source": [
    "for layer in model.layers:\n",
    "    if 'conv' not in layer.name:\n",
    "        continue\n",
    "    #filters, biases = layer.get_weights()\n",
    "    #print(layer.name, filters.shape)\n",
    "    \n",
    "filters, biases = model.layers[1].get_weights()\n",
    "filters1 = filters\n",
    "f_min, f_max = filters.min(), filters.max()\n",
    "filters = (filters - f_min)/(f_max - f_min)\n",
    "#print(filters.shape, biases.shape)\n",
    "print(filters1.shape)\n",
    "#plt.imshow(filters[1, :, :, 0], cmap='viridis')\n",
    "#plt.show()\n",
    "# plot all 64 maps in an 8x8 squares\n",
    "n_filters = 1\n",
    "ix = 1\n",
    "\n",
    "for i in range(n_filters):\n",
    "    f = filters[:, :, :, 32]\n",
    "    #plot each channel seperately\n",
    "    for j in range(1):\n",
    "\t\t# specify subplot and turn of axis\n",
    "        ax = plt.subplot(n_filters, 1, ix)\n",
    "        ax.set_xticks([])\n",
    "        ax.set_yticks([])\n",
    "        # plot filter channel in grayscale\n",
    "        plt.imshow(f[:, :, j], cmap='viridis') \n",
    "        ix += 1\n",
    "# show the figure\n",
    "plt.savefig('featuremap_disp_filter.png')\n",
    "plt.show()\n",
    "#plt.axis()"
   ]
  },
  {
   "cell_type": "code",
   "execution_count": null,
   "metadata": {},
   "outputs": [],
   "source": []
  }
 ],
 "metadata": {
  "kernelspec": {
   "display_name": "Python 3",
   "language": "python",
   "name": "python3"
  },
  "language_info": {
   "codemirror_mode": {
    "name": "ipython",
    "version": 3
   },
   "file_extension": ".py",
   "mimetype": "text/x-python",
   "name": "python",
   "nbconvert_exporter": "python",
   "pygments_lexer": "ipython3",
   "version": "3.6.8"
  }
 },
 "nbformat": 4,
 "nbformat_minor": 2
}
