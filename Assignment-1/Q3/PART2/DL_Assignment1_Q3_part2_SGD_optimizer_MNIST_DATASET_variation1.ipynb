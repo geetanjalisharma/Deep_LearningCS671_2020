{
 "cells": [
  {
   "cell_type": "code",
   "execution_count": 1,
   "metadata": {},
   "outputs": [],
   "source": [
    "import numpy as np\n",
    "\n",
    "import matplotlib.pyplot as plt\n",
    "\n",
    "#%tensorflow_version 2.x\n",
    "\n",
    "import tensorflow as tf\n",
    "\n",
    "from tensorflow.keras.models import Model\n",
    "\n",
    "from tensorflow.keras.layers import Dense , Conv2D, Flatten, MaxPooling2D, BatchNormalization\n",
    "\n",
    "from tensorflow.keras import utils\n",
    "\n",
    "from tensorflow.keras.datasets import mnist"
   ]
  },
  {
   "cell_type": "code",
   "execution_count": 2,
   "metadata": {},
   "outputs": [],
   "source": [
    "(x_train, y_train), (x_test, y_test)=mnist.load_data()"
   ]
  },
  {
   "cell_type": "code",
   "execution_count": 3,
   "metadata": {},
   "outputs": [
    {
     "name": "stdout",
     "output_type": "stream",
     "text": [
      "dataset shape (70000, 28, 28)\n",
      "labels shape (70000,)\n",
      "training data (42000, 28, 28)\n",
      "training labels (42000,)\n",
      "testing data (28000, 28, 28)\n",
      "testing labels (28000,)\n"
     ]
    },
    {
     "name": "stderr",
     "output_type": "stream",
     "text": [
      "/home/gitanjali/anaconda3/envs/intel_python/lib/python3.6/site-packages/sklearn/model_selection/_split.py:2179: FutureWarning: From version 0.21, test_size will always complement train_size unless both are specified.\n",
      "  FutureWarning)\n"
     ]
    }
   ],
   "source": [
    "from sklearn.model_selection import train_test_split\n",
    "x=np.concatenate((x_train, x_test))\n",
    "y=np.concatenate((y_train, y_test))\n",
    "print(\"dataset shape\",x.shape)\n",
    "print(\"labels shape\",y.shape)\n",
    "train_size=0.6\n",
    "x_train, x_test, y_train, y_test = train_test_split(x,y, train_size=train_size)\n",
    "print(\"training data\",x_train.shape)\n",
    "print(\"training labels\",y_train.shape)\n",
    "print(\"testing data\",x_test.shape)\n",
    "print(\"testing labels\",y_test.shape)"
   ]
  },
  {
   "cell_type": "code",
   "execution_count": 4,
   "metadata": {},
   "outputs": [
    {
     "data": {
      "text/plain": [
       "<matplotlib.image.AxesImage at 0x7f12e8ed7e10>"
      ]
     },
     "execution_count": 4,
     "metadata": {},
     "output_type": "execute_result"
    },
    {
     "data": {
      "image/png": "[encoded data removed]",
      "text/plain": [
       "<Figure size 432x288 with 2 Axes>"
      ]
     },
     "metadata": {
      "needs_background": "light"
     },
     "output_type": "display_data"
    }
   ],
   "source": [
    "# plot 4 images as gray scale\n",
    "plt.subplot(221)\n",
    "plt.imshow(x_train[0], cmap=plt.get_cmap('gray'))\n",
    "plt.subplot(222)\n",
    "plt.imshow(x_train[1], cmap=plt.get_cmap('gray'))"
   ]
  },
  {
   "cell_type": "code",
   "execution_count": 5,
   "metadata": {},
   "outputs": [
    {
     "name": "stdout",
     "output_type": "stream",
     "text": [
      "input_shape (28, 28, 1)\n",
      "normalize training data (42000, 28, 28, 1)\n",
      "normalize testing data (28000, 28, 28, 1)\n",
      "training labels (42000,)\n",
      "testing labels (28000,)\n"
     ]
    }
   ],
   "source": [
    "x_train=np.expand_dims(x_train, axis=3)\n",
    "x_test=np.expand_dims(x_test, axis=3)\n",
    "\n",
    "input_shape=(x_train.shape[1], x_train.shape[2], x_train.shape[3])\n",
    "print(\"input_shape\",input_shape)\n",
    "\n",
    "# precise the pixel value to be 32 bit\n",
    "x_train = x_train.astype(\"float32\")\n",
    "x_test = x_test.astype(\"float32\")\n",
    "\n",
    "# normalize input from 0-255 to 0-1\n",
    "x_train = x_train / 255.\n",
    "x_test = x_test / 255.\n",
    "\n",
    "print(\"normalize training data\", x_train.shape)\n",
    "print(\"normalize testing data\", x_test.shape)\n",
    "print(\"training labels\", y_train.shape)\n",
    "print(\"testing labels\", y_test.shape)"
   ]
  },
  {
   "cell_type": "code",
   "execution_count": 8,
   "metadata": {},
   "outputs": [],
   "source": [
    "model = tf.keras.models.Sequential([\n",
    "  tf.keras.layers.Conv2D(32, 3, strides=(1,1), activation='relu'),\n",
    "  tf.keras.layers.BatchNormalization(),\n",
    "  tf.keras.layers.MaxPooling2D(pool_size=(2,2), strides=2),\n",
    "  tf.keras.layers.Conv2D(64, 3, strides=(1,1), activation='relu'),\n",
    "  tf.keras.layers.BatchNormalization(),\n",
    "  tf.keras.layers.MaxPooling2D(pool_size=(2,2), strides=2),\n",
    "  tf.keras.layers.Conv2D(128, 3, strides=(1,1), activation='relu'),\n",
    "  tf.keras.layers.BatchNormalization(),\n",
    "  tf.keras.layers.MaxPooling2D(pool_size=(2,2), strides=2),\n",
    "  tf.keras.layers.Flatten(),\n",
    "  tf.keras.layers.Dropout(0.5),\n",
    "  tf.keras.layers.Dense(2048, activation='relu'),\n",
    "  tf.keras.layers.Dropout(0.5),\n",
    "  tf.keras.layers.Dense(10, activation='softmax')\n",
    "])"
   ]
  },
  {
   "cell_type": "code",
   "execution_count": 9,
   "metadata": {},
   "outputs": [],
   "source": [
    "loss_fn = tf.keras.losses.SparseCategoricalCrossentropy(from_logits=True)\n",
    "loss_fn\n",
    "\n",
    "from tensorflow.keras.optimizers import SGD, Adam\n",
    "\n",
    "sgd = SGD(lr = 0.001, momentum = 0.9, decay = 1e-6)"
   ]
  },
  {
   "cell_type": "code",
   "execution_count": 10,
   "metadata": {},
   "outputs": [],
   "source": [
    "model.compile(optimizer=sgd,\n",
    "              loss=loss_fn,\n",
    "              metrics=['accuracy'])"
   ]
  },
  {
   "cell_type": "code",
   "execution_count": 11,
   "metadata": {},
   "outputs": [
    {
     "name": "stdout",
     "output_type": "stream",
     "text": [
      "Train on 42000 samples, validate on 28000 samples\n",
      "Epoch 1/50\n",
      "42000/42000 [==============================] - 64s 2ms/sample - loss: 2.1527 - accuracy: 0.3405 - val_loss: 2.2570 - val_accuracy: 0.1105\n",
      "Epoch 2/50\n",
      "42000/42000 [==============================] - 58s 1ms/sample - loss: 1.8620 - accuracy: 0.6651 - val_loss: 1.9253 - val_accuracy: 0.6317\n",
      "Epoch 3/50\n",
      "42000/42000 [==============================] - 58s 1ms/sample - loss: 1.7472 - accuracy: 0.7595 - val_loss: 1.6775 - val_accuracy: 0.8201\n",
      "Epoch 4/50\n",
      "42000/42000 [==============================] - 63s 1ms/sample - loss: 1.6876 - accuracy: 0.8060 - val_loss: 1.6281 - val_accuracy: 0.8445\n",
      "Epoch 5/50\n",
      "42000/42000 [==============================] - 59s 1ms/sample - loss: 1.6518 - accuracy: 0.8402 - val_loss: 1.5740 - val_accuracy: 0.9213\n",
      "Epoch 6/50\n",
      "42000/42000 [==============================] - 59s 1ms/sample - loss: 1.6067 - accuracy: 0.8902 - val_loss: 1.5439 - val_accuracy: 0.9355\n",
      "Epoch 7/50\n",
      "42000/42000 [==============================] - 57s 1ms/sample - loss: 1.5807 - accuracy: 0.9074 - val_loss: 1.5316 - val_accuracy: 0.9420\n",
      "Epoch 8/50\n",
      "42000/42000 [==============================] - 60s 1ms/sample - loss: 1.5633 - accuracy: 0.9183 - val_loss: 1.5231 - val_accuracy: 0.9483\n",
      "Epoch 9/50\n",
      "42000/42000 [==============================] - 57s 1ms/sample - loss: 1.5545 - accuracy: 0.9249 - val_loss: 1.5178 - val_accuracy: 0.9506\n",
      "Epoch 10/50\n",
      "42000/42000 [==============================] - 57s 1ms/sample - loss: 1.5453 - accuracy: 0.9316 - val_loss: 1.5127 - val_accuracy: 0.9545\n",
      "Epoch 11/50\n",
      "42000/42000 [==============================] - 58s 1ms/sample - loss: 1.5403 - accuracy: 0.9350 - val_loss: 1.5094 - val_accuracy: 0.9573\n",
      "Epoch 12/50\n",
      "42000/42000 [==============================] - 60s 1ms/sample - loss: 1.5346 - accuracy: 0.9406 - val_loss: 1.5063 - val_accuracy: 0.9601\n",
      "Epoch 13/50\n",
      "42000/42000 [==============================] - 57s 1ms/sample - loss: 1.5321 - accuracy: 0.9407 - val_loss: 1.5039 - val_accuracy: 0.9616\n",
      "Epoch 14/50\n",
      "42000/42000 [==============================] - 56s 1ms/sample - loss: 1.5280 - accuracy: 0.9440 - val_loss: 1.5018 - val_accuracy: 0.9639\n",
      "Epoch 15/50\n",
      "42000/42000 [==============================] - 57s 1ms/sample - loss: 1.5238 - accuracy: 0.9473 - val_loss: 1.5004 - val_accuracy: 0.9655\n",
      "Epoch 16/50\n",
      "42000/42000 [==============================] - 30304s 722ms/sample - loss: 1.5217 - accuracy: 0.9497 - val_loss: 1.4987 - val_accuracy: 0.9662\n",
      "Epoch 17/50\n",
      "42000/42000 [==============================] - 57s 1ms/sample - loss: 1.5200 - accuracy: 0.9501 - val_loss: 1.4970 - val_accuracy: 0.9682\n",
      "Epoch 18/50\n",
      "42000/42000 [==============================] - 57s 1ms/sample - loss: 1.5177 - accuracy: 0.9520 - val_loss: 1.4957 - val_accuracy: 0.9688\n",
      "Epoch 19/50\n",
      "42000/42000 [==============================] - 57s 1ms/sample - loss: 1.5148 - accuracy: 0.9549 - val_loss: 1.4952 - val_accuracy: 0.9696\n",
      "Epoch 20/50\n",
      "42000/42000 [==============================] - 57s 1ms/sample - loss: 1.5141 - accuracy: 0.9549 - val_loss: 1.4941 - val_accuracy: 0.9701\n",
      "Epoch 21/50\n",
      "42000/42000 [==============================] - 57s 1ms/sample - loss: 1.5116 - accuracy: 0.9570 - val_loss: 1.4927 - val_accuracy: 0.9716\n",
      "Epoch 22/50\n",
      "42000/42000 [==============================] - 57s 1ms/sample - loss: 1.5104 - accuracy: 0.9582 - val_loss: 1.4923 - val_accuracy: 0.9714\n",
      "Epoch 23/50\n",
      "42000/42000 [==============================] - 56s 1ms/sample - loss: 1.5091 - accuracy: 0.9599 - val_loss: 1.4907 - val_accuracy: 0.9737\n",
      "Epoch 24/50\n",
      "42000/42000 [==============================] - 56s 1ms/sample - loss: 1.5069 - accuracy: 0.9612 - val_loss: 1.4910 - val_accuracy: 0.9730\n",
      "Epoch 25/50\n",
      "42000/42000 [==============================] - 56s 1ms/sample - loss: 1.5080 - accuracy: 0.9591 - val_loss: 1.4904 - val_accuracy: 0.9739\n",
      "Epoch 26/50\n",
      "42000/42000 [==============================] - 56s 1ms/sample - loss: 1.5052 - accuracy: 0.9628 - val_loss: 1.4897 - val_accuracy: 0.9741\n",
      "Epoch 27/50\n",
      "42000/42000 [==============================] - 56s 1ms/sample - loss: 1.5050 - accuracy: 0.9619 - val_loss: 1.4898 - val_accuracy: 0.9742\n",
      "Epoch 28/50\n",
      "42000/42000 [==============================] - 56s 1ms/sample - loss: 1.5039 - accuracy: 0.9637 - val_loss: 1.4885 - val_accuracy: 0.9754\n",
      "Epoch 29/50\n",
      "42000/42000 [==============================] - 56s 1ms/sample - loss: 1.5024 - accuracy: 0.9647 - val_loss: 1.4883 - val_accuracy: 0.9752\n",
      "Epoch 30/50\n",
      "42000/42000 [==============================] - 56s 1ms/sample - loss: 1.5018 - accuracy: 0.9651 - val_loss: 1.4879 - val_accuracy: 0.9753\n",
      "Epoch 31/50\n",
      "42000/42000 [==============================] - 56s 1ms/sample - loss: 1.5007 - accuracy: 0.9655 - val_loss: 1.4874 - val_accuracy: 0.9761\n",
      "Epoch 32/50\n",
      "42000/42000 [==============================] - 56s 1ms/sample - loss: 1.4996 - accuracy: 0.9672 - val_loss: 1.4872 - val_accuracy: 0.9761\n",
      "Epoch 33/50\n",
      "42000/42000 [==============================] - 56s 1ms/sample - loss: 1.4997 - accuracy: 0.9667 - val_loss: 1.4865 - val_accuracy: 0.9764\n",
      "Epoch 34/50\n",
      "42000/42000 [==============================] - 56s 1ms/sample - loss: 1.4996 - accuracy: 0.9669 - val_loss: 1.4863 - val_accuracy: 0.9769\n",
      "Epoch 35/50\n",
      "42000/42000 [==============================] - 56s 1ms/sample - loss: 1.4983 - accuracy: 0.9679 - val_loss: 1.4858 - val_accuracy: 0.9771\n",
      "Epoch 36/50\n",
      "42000/42000 [==============================] - 57s 1ms/sample - loss: 1.4967 - accuracy: 0.9698 - val_loss: 1.4860 - val_accuracy: 0.9770\n",
      "Epoch 37/50\n",
      "42000/42000 [==============================] - 57s 1ms/sample - loss: 1.4977 - accuracy: 0.9683 - val_loss: 1.4855 - val_accuracy: 0.9778\n",
      "Epoch 38/50\n",
      "42000/42000 [==============================] - 57s 1ms/sample - loss: 1.4960 - accuracy: 0.9697 - val_loss: 1.4852 - val_accuracy: 0.9780\n",
      "Epoch 39/50\n",
      "42000/42000 [==============================] - 57s 1ms/sample - loss: 1.4953 - accuracy: 0.9701 - val_loss: 1.4848 - val_accuracy: 0.9783\n",
      "Epoch 40/50\n",
      "42000/42000 [==============================] - 57s 1ms/sample - loss: 1.4944 - accuracy: 0.9714 - val_loss: 1.4847 - val_accuracy: 0.9783\n",
      "Epoch 41/50\n",
      "42000/42000 [==============================] - 57s 1ms/sample - loss: 1.4944 - accuracy: 0.9714 - val_loss: 1.4844 - val_accuracy: 0.9782\n",
      "Epoch 42/50\n",
      "42000/42000 [==============================] - 57s 1ms/sample - loss: 1.4940 - accuracy: 0.9716 - val_loss: 1.4837 - val_accuracy: 0.9790\n",
      "Epoch 43/50\n",
      "42000/42000 [==============================] - 57s 1ms/sample - loss: 1.4929 - accuracy: 0.9729 - val_loss: 1.4843 - val_accuracy: 0.9784\n",
      "Epoch 44/50\n",
      "42000/42000 [==============================] - 57s 1ms/sample - loss: 1.4926 - accuracy: 0.9729 - val_loss: 1.4836 - val_accuracy: 0.9790\n",
      "Epoch 45/50\n",
      "42000/42000 [==============================] - 57s 1ms/sample - loss: 1.4930 - accuracy: 0.9723 - val_loss: 1.4835 - val_accuracy: 0.9794\n",
      "Epoch 46/50\n",
      "42000/42000 [==============================] - 60s 1ms/sample - loss: 1.4923 - accuracy: 0.9733 - val_loss: 1.4835 - val_accuracy: 0.9792\n",
      "Epoch 47/50\n",
      "42000/42000 [==============================] - 64s 2ms/sample - loss: 1.4921 - accuracy: 0.9728 - val_loss: 1.4832 - val_accuracy: 0.9794\n",
      "Epoch 48/50\n",
      "42000/42000 [==============================] - 62s 1ms/sample - loss: 1.4914 - accuracy: 0.9737 - val_loss: 1.4829 - val_accuracy: 0.9801\n",
      "Epoch 49/50\n",
      "42000/42000 [==============================] - 67s 2ms/sample - loss: 1.4913 - accuracy: 0.9742 - val_loss: 1.4828 - val_accuracy: 0.9801\n",
      "Epoch 50/50\n",
      "42000/42000 [==============================] - 59s 1ms/sample - loss: 1.4908 - accuracy: 0.9740 - val_loss: 1.4827 - val_accuracy: 0.9801\n"
     ]
    }
   ],
   "source": [
    "history = model.fit(x_train, y_train, validation_data=(x_test, y_test), epochs=50, batch_size=200)\n"
   ]
  },
  {
   "cell_type": "code",
   "execution_count": 12,
   "metadata": {},
   "outputs": [
    {
     "name": "stdout",
     "output_type": "stream",
     "text": [
      "Model: \"sequential\"\n",
      "_________________________________________________________________\n",
      "Layer (type)                 Output Shape              Param #   \n",
      "=================================================================\n",
      "conv2d (Conv2D)              multiple                  320       \n",
      "_________________________________________________________________\n",
      "batch_normalization (BatchNo multiple                  128       \n",
      "_________________________________________________________________\n",
      "max_pooling2d (MaxPooling2D) multiple                  0         \n",
      "_________________________________________________________________\n",
      "conv2d_1 (Conv2D)            multiple                  18496     \n",
      "_________________________________________________________________\n",
      "batch_normalization_1 (Batch multiple                  256       \n",
      "_________________________________________________________________\n",
      "max_pooling2d_1 (MaxPooling2 multiple                  0         \n",
      "_________________________________________________________________\n",
      "conv2d_2 (Conv2D)            multiple                  73856     \n",
      "_________________________________________________________________\n",
      "batch_normalization_2 (Batch multiple                  512       \n",
      "_________________________________________________________________\n",
      "max_pooling2d_2 (MaxPooling2 multiple                  0         \n",
      "_________________________________________________________________\n",
      "flatten (Flatten)            multiple                  0         \n",
      "_________________________________________________________________\n",
      "dropout (Dropout)            multiple                  0         \n",
      "_________________________________________________________________\n",
      "dense (Dense)                multiple                  264192    \n",
      "_________________________________________________________________\n",
      "dropout_1 (Dropout)          multiple                  0         \n",
      "_________________________________________________________________\n",
      "dense_1 (Dense)              multiple                  20490     \n",
      "=================================================================\n",
      "Total params: 378,250\n",
      "Trainable params: 377,802\n",
      "Non-trainable params: 448\n",
      "_________________________________________________________________\n"
     ]
    }
   ],
   "source": [
    "model.summary()"
   ]
  },
  {
   "cell_type": "code",
   "execution_count": 17,
   "metadata": {},
   "outputs": [
    {
     "name": "stderr",
     "output_type": "stream",
     "text": [
      "Using TensorFlow backend.\n"
     ]
    },
    {
     "name": "stdout",
     "output_type": "stream",
     "text": [
      "Saved model to disk\n"
     ]
    }
   ],
   "source": [
    "from keras.models import model_from_json\n",
    "# save trained model\n",
    "# serialize model to JSON\n",
    "model_json = model.to_json()\n",
    "with open(\"Q3_part2_mnist_trained_model_sgd_50_epochs_variation1.json\", \"w\") as json_file:\n",
    "    json_file.write(model_json)\n",
    "# serialize weights to HDF5 and saving the weights\n",
    "model.save_weights(\"Q3_part2_mnist_trained_model_sgd_50_epochs_variation1.h5\")\n",
    "print(\"Saved model to disk\")"
   ]
  },
  {
   "cell_type": "code",
   "execution_count": null,
   "metadata": {},
   "outputs": [],
   "source": []
  },
  {
   "cell_type": "code",
   "execution_count": 15,
   "metadata": {},
   "outputs": [
    {
     "name": "stdout",
     "output_type": "stream",
     "text": [
      "dict_keys(['loss', 'accuracy', 'val_loss', 'val_accuracy'])\n"
     ]
    },
    {
     "data": {
      "image/png": "[encoded data removed]",
      "text/plain": [
       "<Figure size 432x288 with 1 Axes>"
      ]
     },
     "metadata": {
      "needs_background": "light"
     },
     "output_type": "display_data"
    }
   ],
   "source": [
    "print(history.history.keys())\n",
    "# summarize history for accuracy\n",
    "plt.plot(history.history['accuracy'])\n",
    "plt.plot(history.history['val_accuracy'])\n",
    "plt.title('model accuracy')\n",
    "plt.ylabel('accuracy')\n",
    "plt.xlabel('epoch')\n",
    "plt.legend(['train', 'test'], loc='upper left')\n",
    "plt.show()"
   ]
  },
  {
   "cell_type": "code",
   "execution_count": 16,
   "metadata": {},
   "outputs": [
    {
     "data": {
      "image/png": "[encoded data removed]",
      "text/plain": [
       "<Figure size 432x288 with 1 Axes>"
      ]
     },
     "metadata": {
      "needs_background": "light"
     },
     "output_type": "display_data"
    }
   ],
   "source": [
    "# summarize history for loss\n",
    "plt.plot(history.history['loss'])\n",
    "plt.plot(history.history['val_loss'])\n",
    "plt.title('model loss')\n",
    "plt.ylabel('loss')\n",
    "plt.xlabel('epoch')\n",
    "plt.legend(['train', 'test'], loc='upper left')\n",
    "plt.show()"
   ]
  },
  {
   "cell_type": "code",
   "execution_count": 18,
   "metadata": {},
   "outputs": [
    {
     "name": "stdout",
     "output_type": "stream",
     "text": [
      "28000/28000 [==============================] - 22s 786us/sample - loss: 1.4827 - accuracy: 0.9801\n",
      "Accuracy : 98.01%\n",
      "Baseline Error: 1.99%\n"
     ]
    }
   ],
   "source": [
    "# Final evaluation of the model\n",
    "\n",
    "scores = model.evaluate(x_test, y_test)\n",
    "\n",
    "print(\"Accuracy : %.2f%%\" % (scores[1]*100))\n",
    "print(\"Baseline Error: %.2f%%\" % (100-scores[1]*100))"
   ]
  },
  {
   "cell_type": "code",
   "execution_count": 19,
   "metadata": {},
   "outputs": [
    {
     "name": "stdout",
     "output_type": "stream",
     "text": [
      "(28000, 10)\n",
      "(28000,)\n",
      "tf.Tensor(\n",
      "[[2709    3    4    0    1    8    5    4    7    4]\n",
      " [   0 3037   11    4    0    2    1   12    3    0]\n",
      " [   5    5 2776   12    6    2    1   45   11    4]\n",
      " [   1    2   16 2786    0   13    0   18    4    7]\n",
      " [   6    2    2    0 2683    0   19    0    7   25]\n",
      " [   6    1    4    6    4 2472   11    4   10    2]\n",
      " [   9    4    0    0    6   10 2663    0    2    2]\n",
      " [   4    6   23    6    5    1    0 2887    2   13]\n",
      " [   1    1    7    1    8   12   13    7 2736   14]\n",
      " [   8    3    0    2   13   19    1   15    9 2694]], shape=(10, 10), dtype=int32)\n"
     ]
    }
   ],
   "source": [
    "import tensorflow as tf\n",
    "y= model.predict(x_test)\n",
    "print(y.shape)\n",
    "y_pred = np.argmax(y, axis=1)\n",
    "print(y_pred.shape)\n",
    "\n",
    "con = tf.math.confusion_matrix(labels=y_test, predictions=y_pred )\n",
    "print(con)"
   ]
  },
  {
   "cell_type": "code",
   "execution_count": 21,
   "metadata": {},
   "outputs": [
    {
     "name": "stdout",
     "output_type": "stream",
     "text": [
      "              precision    recall  f1-score   support\n",
      "\n",
      "           0       0.99      0.99      0.99      2745\n",
      "           1       0.99      0.99      0.99      3070\n",
      "           2       0.98      0.97      0.97      2867\n",
      "           3       0.99      0.98      0.98      2847\n",
      "           4       0.98      0.98      0.98      2744\n",
      "           5       0.97      0.98      0.98      2520\n",
      "           6       0.98      0.99      0.98      2696\n",
      "           7       0.96      0.98      0.97      2947\n",
      "           8       0.98      0.98      0.98      2800\n",
      "           9       0.97      0.97      0.97      2764\n",
      "\n",
      "   micro avg       0.98      0.98      0.98     28000\n",
      "   macro avg       0.98      0.98      0.98     28000\n",
      "weighted avg       0.98      0.98      0.98     28000\n",
      "\n"
     ]
    }
   ],
   "source": [
    "from sklearn.metrics import classification_report\n",
    "print(classification_report(y_test, y_pred))"
   ]
  }
 ],
 "metadata": {
  "kernelspec": {
   "display_name": "Python 3",
   "language": "python",
   "name": "python3"
  },
  "language_info": {
   "codemirror_mode": {
    "name": "ipython",
    "version": 3
   },
   "file_extension": ".py",
   "mimetype": "text/x-python",
   "name": "python",
   "nbconvert_exporter": "python",
   "pygments_lexer": "ipython3",
   "version": "3.6.8"
  }
 },
 "nbformat": 4,
 "nbformat_minor": 2
}
