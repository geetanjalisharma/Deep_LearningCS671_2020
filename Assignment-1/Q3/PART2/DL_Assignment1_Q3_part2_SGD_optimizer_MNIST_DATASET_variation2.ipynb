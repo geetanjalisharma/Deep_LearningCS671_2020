{
 "cells": [
  {
   "cell_type": "code",
   "execution_count": 1,
   "metadata": {},
   "outputs": [],
   "source": [
    "import numpy as np\n",
    "\n",
    "import matplotlib.pyplot as plt\n",
    "\n",
    "#%tensorflow_version 2.x\n",
    "\n",
    "import tensorflow as tf\n",
    "\n",
    "from tensorflow.keras.models import Model\n",
    "\n",
    "from tensorflow.keras.layers import Dense , Conv2D, Flatten, MaxPooling2D, BatchNormalization\n",
    "\n",
    "from tensorflow.keras import utils\n",
    "\n",
    "from tensorflow.keras.datasets import mnist"
   ]
  },
  {
   "cell_type": "code",
   "execution_count": 10,
   "metadata": {},
   "outputs": [],
   "source": [
    "(x_train, y_train), (x_test, y_test)=mnist.load_data()"
   ]
  },
  {
   "cell_type": "code",
   "execution_count": 11,
   "metadata": {},
   "outputs": [
    {
     "name": "stdout",
     "output_type": "stream",
     "text": [
      "dataset shape (70000, 28, 28)\n",
      "labels shape (70000,)\n",
      "training data (42000, 28, 28)\n",
      "training labels (42000,)\n",
      "testing data (28000, 28, 28)\n",
      "testing labels (28000,)\n"
     ]
    },
    {
     "name": "stderr",
     "output_type": "stream",
     "text": [
      "/home/gitanjali/anaconda3/envs/intel_python/lib/python3.6/site-packages/sklearn/model_selection/_split.py:2179: FutureWarning: From version 0.21, test_size will always complement train_size unless both are specified.\n",
      "  FutureWarning)\n"
     ]
    }
   ],
   "source": [
    "from sklearn.model_selection import train_test_split\n",
    "x=np.concatenate((x_train, x_test))\n",
    "y=np.concatenate((y_train, y_test))\n",
    "print(\"dataset shape\",x.shape)\n",
    "print(\"labels shape\",y.shape)\n",
    "train_size=0.6\n",
    "x_train, x_test, y_train, y_test = train_test_split(x,y, train_size=train_size)\n",
    "print(\"training data\",x_train.shape)\n",
    "print(\"training labels\",y_train.shape)\n",
    "print(\"testing data\",x_test.shape)\n",
    "print(\"testing labels\",y_test.shape)"
   ]
  },
  {
   "cell_type": "code",
   "execution_count": 12,
   "metadata": {},
   "outputs": [
    {
     "data": {
      "text/plain": [
       "<matplotlib.image.AxesImage at 0x7f5ec815e080>"
      ]
     },
     "execution_count": 12,
     "metadata": {},
     "output_type": "execute_result"
    },
    {
     "data": {
      "image/png": "[encoded data removed]",
      "text/plain": [
       "<Figure size 432x288 with 2 Axes>"
      ]
     },
     "metadata": {
      "needs_background": "light"
     },
     "output_type": "display_data"
    }
   ],
   "source": [
    "# plot 4 images as gray scale\n",
    "plt.subplot(221)\n",
    "plt.imshow(x_train[0], cmap=plt.get_cmap('gray'))\n",
    "plt.subplot(222)\n",
    "plt.imshow(x_train[1], cmap=plt.get_cmap('gray'))"
   ]
  },
  {
   "cell_type": "code",
   "execution_count": 13,
   "metadata": {},
   "outputs": [
    {
     "name": "stdout",
     "output_type": "stream",
     "text": [
      "input_shape (28, 28, 1)\n",
      "normalize training data (42000, 28, 28, 1)\n",
      "normalize testing data (28000, 28, 28, 1)\n",
      "training labels (42000,)\n",
      "testing labels (28000,)\n"
     ]
    }
   ],
   "source": [
    "x_train=np.expand_dims(x_train, axis=3)\n",
    "x_test=np.expand_dims(x_test, axis=3)\n",
    "\n",
    "input_shape=(x_train.shape[1], x_train.shape[2], x_train.shape[3])\n",
    "print(\"input_shape\",input_shape)\n",
    "\n",
    "# precise the pixel value to be 32 bit\n",
    "x_train = x_train.astype(\"float32\")\n",
    "x_test = x_test.astype(\"float32\")\n",
    "\n",
    "# normalize input from 0-255 to 0-1\n",
    "x_train = x_train / 255.\n",
    "x_test = x_test / 255.\n",
    "\n",
    "print(\"normalize training data\", x_train.shape)\n",
    "print(\"normalize testing data\", x_test.shape)\n",
    "print(\"training labels\", y_train.shape)\n",
    "print(\"testing labels\", y_test.shape)"
   ]
  },
  {
   "cell_type": "code",
   "execution_count": 4,
   "metadata": {},
   "outputs": [],
   "source": [
    "model = tf.keras.models.Sequential([\n",
    "    tf.keras.Input(shape=(28,28,1)),\n",
    "                   tf.keras.layers.Conv2D(32, 3, strides=(1,1), activation='relu'),\n",
    "                   tf.keras.layers.BatchNormalization(),\n",
    "                   tf.keras.layers.MaxPooling2D(pool_size=(2,2), strides=2),\n",
    "                   tf.keras.layers.Conv2D(64, 3, strides=(1,1), activation='relu'),\n",
    "                   tf.keras.layers.BatchNormalization(),\n",
    "                   tf.keras.layers.MaxPooling2D(pool_size=(2,2), strides=2),\n",
    "                   tf.keras.layers.Conv2D(128, 3, strides=(1,1), activation='relu'),\n",
    "                   tf.keras.layers.BatchNormalization(),\n",
    "                   tf.keras.layers.MaxPooling2D(pool_size=(2,2), strides=2),\n",
    "                   tf.keras.layers.Flatten(),\n",
    "                   tf.keras.layers.Dropout(0.25),\n",
    "                   tf.keras.layers.Dense(2048, activation='relu'),\n",
    "                   tf.keras.layers.Dropout(0.25),\n",
    "                   tf.keras.layers.Dense(10, activation='softmax')\n",
    "                   ])\n"
   ]
  },
  {
   "cell_type": "code",
   "execution_count": 5,
   "metadata": {},
   "outputs": [],
   "source": [
    "loss_fn = tf.keras.losses.SparseCategoricalCrossentropy(from_logits=True)\n",
    "loss_fn\n",
    "\n",
    "from tensorflow.keras.optimizers import SGD, Adam\n",
    "\n",
    "sgd = SGD(lr = 0.001, momentum = 0.9, decay = 1e-6)"
   ]
  },
  {
   "cell_type": "code",
   "execution_count": 6,
   "metadata": {},
   "outputs": [],
   "source": [
    "model.compile(optimizer=sgd,\n",
    "              loss=loss_fn,\n",
    "              metrics=['accuracy'])"
   ]
  },
  {
   "cell_type": "code",
   "execution_count": 9,
   "metadata": {},
   "outputs": [
    {
     "name": "stdout",
     "output_type": "stream",
     "text": [
      "Train on 42000 samples, validate on 28000 samples\n",
      "Epoch 1/20\n",
      "42000/42000 [==============================] - 64s 2ms/sample - loss: 2.1472 - accuracy: 0.3779 - val_loss: 2.2644 - val_accuracy: 0.1180\n",
      "Epoch 2/20\n",
      "42000/42000 [==============================] - 72s 2ms/sample - loss: 1.8332 - accuracy: 0.6927 - val_loss: 1.9461 - val_accuracy: 0.6646\n",
      "Epoch 3/20\n",
      "42000/42000 [==============================] - 59s 1ms/sample - loss: 1.6599 - accuracy: 0.8790 - val_loss: 1.6127 - val_accuracy: 0.9166\n",
      "Epoch 4/20\n",
      "42000/42000 [==============================] - 58s 1ms/sample - loss: 1.5856 - accuracy: 0.9163 - val_loss: 1.5452 - val_accuracy: 0.9445\n",
      "Epoch 5/20\n",
      "42000/42000 [==============================] - 58s 1ms/sample - loss: 1.5588 - accuracy: 0.9314 - val_loss: 1.5286 - val_accuracy: 0.9506\n",
      "Epoch 6/20\n",
      "42000/42000 [==============================] - 59s 1ms/sample - loss: 1.5429 - accuracy: 0.9404 - val_loss: 1.5203 - val_accuracy: 0.9563\n",
      "Epoch 7/20\n",
      "42000/42000 [==============================] - 57s 1ms/sample - loss: 1.5334 - accuracy: 0.9465 - val_loss: 1.5132 - val_accuracy: 0.9606\n",
      "Epoch 8/20\n",
      "42000/42000 [==============================] - 58s 1ms/sample - loss: 1.5259 - accuracy: 0.9517 - val_loss: 1.5086 - val_accuracy: 0.9631\n",
      "Epoch 9/20\n",
      "42000/42000 [==============================] - 54s 1ms/sample - loss: 1.5202 - accuracy: 0.9540 - val_loss: 1.5051 - val_accuracy: 0.9658\n",
      "Epoch 10/20\n",
      "42000/42000 [==============================] - 62s 1ms/sample - loss: 1.5163 - accuracy: 0.9577 - val_loss: 1.5022 - val_accuracy: 0.9675\n",
      "Epoch 11/20\n",
      "42000/42000 [==============================] - 56s 1ms/sample - loss: 1.5124 - accuracy: 0.9609 - val_loss: 1.5003 - val_accuracy: 0.9682\n",
      "Epoch 12/20\n",
      "42000/42000 [==============================] - 54s 1ms/sample - loss: 1.5101 - accuracy: 0.9621 - val_loss: 1.4976 - val_accuracy: 0.9701\n",
      "Epoch 13/20\n",
      "42000/42000 [==============================] - 59s 1ms/sample - loss: 1.5067 - accuracy: 0.9651 - val_loss: 1.4963 - val_accuracy: 0.9713\n",
      "Epoch 14/20\n",
      "42000/42000 [==============================] - 57s 1ms/sample - loss: 1.5049 - accuracy: 0.9655 - val_loss: 1.4946 - val_accuracy: 0.9721\n",
      "Epoch 15/20\n",
      "42000/42000 [==============================] - 62s 1ms/sample - loss: 1.5030 - accuracy: 0.9669 - val_loss: 1.4936 - val_accuracy: 0.9734\n",
      "Epoch 16/20\n",
      "42000/42000 [==============================] - 59s 1ms/sample - loss: 1.5008 - accuracy: 0.9691 - val_loss: 1.4931 - val_accuracy: 0.9739\n",
      "Epoch 17/20\n",
      "42000/42000 [==============================] - 60s 1ms/sample - loss: 1.4992 - accuracy: 0.9701 - val_loss: 1.4920 - val_accuracy: 0.9737\n",
      "Epoch 18/20\n",
      "42000/42000 [==============================] - 59s 1ms/sample - loss: 1.4972 - accuracy: 0.9721 - val_loss: 1.4910 - val_accuracy: 0.9748\n",
      "Epoch 19/20\n",
      "42000/42000 [==============================] - 63s 2ms/sample - loss: 1.4968 - accuracy: 0.9718 - val_loss: 1.4900 - val_accuracy: 0.9758\n",
      "Epoch 20/20\n",
      "42000/42000 [==============================] - 57s 1ms/sample - loss: 1.4951 - accuracy: 0.9730 - val_loss: 1.4893 - val_accuracy: 0.9764\n"
     ]
    }
   ],
   "source": [
    "history = model.fit(x_train, y_train, validation_data=(x_test, y_test), epochs=20, batch_size=200)\n"
   ]
  },
  {
   "cell_type": "code",
   "execution_count": 7,
   "metadata": {},
   "outputs": [
    {
     "name": "stdout",
     "output_type": "stream",
     "text": [
      "Model: \"sequential\"\n",
      "_________________________________________________________________\n",
      "Layer (type)                 Output Shape              Param #   \n",
      "=================================================================\n",
      "conv2d (Conv2D)              (None, 26, 26, 32)        320       \n",
      "_________________________________________________________________\n",
      "batch_normalization (BatchNo (None, 26, 26, 32)        128       \n",
      "_________________________________________________________________\n",
      "max_pooling2d (MaxPooling2D) (None, 13, 13, 32)        0         \n",
      "_________________________________________________________________\n",
      "conv2d_1 (Conv2D)            (None, 11, 11, 64)        18496     \n",
      "_________________________________________________________________\n",
      "batch_normalization_1 (Batch (None, 11, 11, 64)        256       \n",
      "_________________________________________________________________\n",
      "max_pooling2d_1 (MaxPooling2 (None, 5, 5, 64)          0         \n",
      "_________________________________________________________________\n",
      "conv2d_2 (Conv2D)            (None, 3, 3, 128)         73856     \n",
      "_________________________________________________________________\n",
      "batch_normalization_2 (Batch (None, 3, 3, 128)         512       \n",
      "_________________________________________________________________\n",
      "max_pooling2d_2 (MaxPooling2 (None, 1, 1, 128)         0         \n",
      "_________________________________________________________________\n",
      "flatten (Flatten)            (None, 128)               0         \n",
      "_________________________________________________________________\n",
      "dropout (Dropout)            (None, 128)               0         \n",
      "_________________________________________________________________\n",
      "dense (Dense)                (None, 2048)              264192    \n",
      "_________________________________________________________________\n",
      "dropout_1 (Dropout)          (None, 2048)              0         \n",
      "_________________________________________________________________\n",
      "dense_1 (Dense)              (None, 10)                20490     \n",
      "=================================================================\n",
      "Total params: 378,250\n",
      "Trainable params: 377,802\n",
      "Non-trainable params: 448\n",
      "_________________________________________________________________\n"
     ]
    }
   ],
   "source": [
    "model.summary()"
   ]
  },
  {
   "cell_type": "code",
   "execution_count": 18,
   "metadata": {},
   "outputs": [
    {
     "name": "stderr",
     "output_type": "stream",
     "text": [
      "Using TensorFlow backend.\n"
     ]
    },
    {
     "name": "stdout",
     "output_type": "stream",
     "text": [
      "Saved model to disk\n"
     ]
    }
   ],
   "source": [
    "from keras.models import model_from_json\n",
    "# save trained model\n",
    "# serialize model to JSON\n",
    "model_json = model.to_json()\n",
    "with open(\"Q3_part2_mnist_trained_model_sgd_20_epochs_variation2.json\", \"w\") as json_file:\n",
    "    json_file.write(model_json)\n",
    "# serialize weights to HDF5 and saving the weights\n",
    "model.save_weights(\"Q3_part2_mnist_trained_model_sgd_20_epochs_variation2.h5\")\n",
    "print(\"Saved model to disk\")"
   ]
  },
  {
   "cell_type": "code",
   "execution_count": null,
   "metadata": {},
   "outputs": [],
   "source": []
  },
  {
   "cell_type": "code",
   "execution_count": 12,
   "metadata": {},
   "outputs": [
    {
     "name": "stdout",
     "output_type": "stream",
     "text": [
      "dict_keys(['loss', 'accuracy', 'val_loss', 'val_accuracy'])\n"
     ]
    },
    {
     "data": {
      "image/png": "[encoded data removed]",
      "text/plain": [
       "<Figure size 432x288 with 1 Axes>"
      ]
     },
     "metadata": {
      "needs_background": "light"
     },
     "output_type": "display_data"
    }
   ],
   "source": [
    "print(history.history.keys())\n",
    "# summarize history for accuracy\n",
    "plt.plot(history.history['accuracy'])\n",
    "plt.plot(history.history['val_accuracy'])\n",
    "plt.title('model accuracy')\n",
    "plt.ylabel('accuracy')\n",
    "plt.xlabel('epoch')\n",
    "plt.legend(['train', 'test'], loc='upper left')\n",
    "plt.show()"
   ]
  },
  {
   "cell_type": "code",
   "execution_count": 13,
   "metadata": {},
   "outputs": [
    {
     "data": {
      "image/png": "[encoded data removed]",
      "text/plain": [
       "<Figure size 432x288 with 1 Axes>"
      ]
     },
     "metadata": {
      "needs_background": "light"
     },
     "output_type": "display_data"
    }
   ],
   "source": [
    "# summarize history for loss\n",
    "plt.plot(history.history['loss'])\n",
    "plt.plot(history.history['val_loss'])\n",
    "plt.title('model loss')\n",
    "plt.ylabel('loss')\n",
    "plt.xlabel('epoch')\n",
    "plt.legend(['train', 'test'], loc='upper left')\n",
    "plt.show()"
   ]
  },
  {
   "cell_type": "code",
   "execution_count": 14,
   "metadata": {},
   "outputs": [
    {
     "name": "stdout",
     "output_type": "stream",
     "text": [
      "28000/28000 [==============================] - 20s 707us/sample - loss: 1.4893 - accuracy: 0.9764\n",
      "Accuracy : 97.64%\n",
      "Baseline Error: 2.36%\n"
     ]
    }
   ],
   "source": [
    "# Final evaluation of the model\n",
    "\n",
    "scores = model.evaluate(x_test, y_test)\n",
    "\n",
    "print(\"Accuracy : %.2f%%\" % (scores[1]*100))\n",
    "print(\"Baseline Error: %.2f%%\" % (100-scores[1]*100))"
   ]
  },
  {
   "cell_type": "code",
   "execution_count": null,
   "metadata": {},
   "outputs": [],
   "source": []
  },
  {
   "cell_type": "code",
   "execution_count": 8,
   "metadata": {},
   "outputs": [],
   "source": [
    "model.load_weights(\"Q3_part2_mnist_trained_model_sgd_20_epochs_variation2.h5\")\n"
   ]
  },
  {
   "cell_type": "code",
   "execution_count": 14,
   "metadata": {},
   "outputs": [
    {
     "name": "stdout",
     "output_type": "stream",
     "text": [
      "(28000, 10)\n",
      "(28000,)\n",
      "tf.Tensor(\n",
      "[[2750    2    6    0    7    3    8    0    9    5]\n",
      " [   0 3143   15    2    1    1    1   10    1    1]\n",
      " [   2    6 2736   15    5    1    3   33   11    2]\n",
      " [   0    6   23 2808    0    9    0   25    7    7]\n",
      " [   4    3    0    0 2671    0   12    1    7   22]\n",
      " [   4    6    1   12    3 2494    1    4    4    3]\n",
      " [  13    3    3    0   11    7 2701    0    3    1]\n",
      " [   4    6   27   13    9    0    0 2847    1    8]\n",
      " [   2    5    7    3   13   15    8    1 2670   22]\n",
      " [  16    2    0    3   14   19    1   10    8 2608]], shape=(10, 10), dtype=int32)\n"
     ]
    }
   ],
   "source": [
    "import tensorflow as tf\n",
    "y= model.predict(x_test)\n",
    "print(y.shape)\n",
    "y_pred = np.argmax(y, axis=1)\n",
    "print(y_pred.shape)\n",
    "\n",
    "con = tf.math.confusion_matrix(labels=y_test, predictions=y_pred )\n",
    "print(con)"
   ]
  },
  {
   "cell_type": "code",
   "execution_count": 15,
   "metadata": {
    "scrolled": true
   },
   "outputs": [
    {
     "name": "stdout",
     "output_type": "stream",
     "text": [
      "              precision    recall  f1-score   support\n",
      "\n",
      "           0       0.98      0.99      0.98      2790\n",
      "           1       0.99      0.99      0.99      3175\n",
      "           2       0.97      0.97      0.97      2814\n",
      "           3       0.98      0.97      0.98      2885\n",
      "           4       0.98      0.98      0.98      2720\n",
      "           5       0.98      0.98      0.98      2532\n",
      "           6       0.99      0.99      0.99      2742\n",
      "           7       0.97      0.98      0.97      2915\n",
      "           8       0.98      0.97      0.98      2746\n",
      "           9       0.97      0.97      0.97      2681\n",
      "\n",
      "   micro avg       0.98      0.98      0.98     28000\n",
      "   macro avg       0.98      0.98      0.98     28000\n",
      "weighted avg       0.98      0.98      0.98     28000\n",
      "\n"
     ]
    }
   ],
   "source": [
    "from sklearn.metrics import classification_report\n",
    "print(classification_report(y_test, y_pred))"
   ]
  },
  {
   "cell_type": "code",
   "execution_count": null,
   "metadata": {},
   "outputs": [],
   "source": []
  },
  {
   "cell_type": "code",
   "execution_count": null,
   "metadata": {},
   "outputs": [],
   "source": []
  },
  {
   "cell_type": "code",
   "execution_count": null,
   "metadata": {},
   "outputs": [],
   "source": []
  },
  {
   "cell_type": "code",
   "execution_count": null,
   "metadata": {},
   "outputs": [],
   "source": []
  }
 ],
 "metadata": {
  "kernelspec": {
   "display_name": "Python 3",
   "language": "python",
   "name": "python3"
  },
  "language_info": {
   "codemirror_mode": {
    "name": "ipython",
    "version": 3
   },
   "file_extension": ".py",
   "mimetype": "text/x-python",
   "name": "python",
   "nbconvert_exporter": "python",
   "pygments_lexer": "ipython3",
   "version": "3.6.8"
  }
 },
 "nbformat": 4,
 "nbformat_minor": 2
}
