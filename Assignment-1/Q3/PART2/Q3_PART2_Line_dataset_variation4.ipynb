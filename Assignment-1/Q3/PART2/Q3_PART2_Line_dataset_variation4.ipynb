{
 "cells": [
  {
   "cell_type": "code",
   "execution_count": 1,
   "metadata": {},
   "outputs": [
    {
     "name": "stdout",
     "output_type": "stream",
     "text": [
      "['Class91', 'Class21', 'Class14', 'Class29', 'Class60', 'Class39', 'Class45', 'Class2', 'Class17', 'Class84', 'Class76', 'Class71', 'Class92', 'Class96', 'Class82', 'Class73', 'Class46', 'Class37', 'Class6', 'Class54', 'Class43', 'Class41', 'Class65', 'Class83', 'Class57', 'Class38', 'Class77', 'Class10', 'Class61', 'Class16', 'Class26', 'Class94', 'Class22', 'Class18', 'Class20', 'Class66', 'Class78', 'Class55', 'Class9', 'Class24', 'Class36', 'Class67', 'Class75', 'Class34', 'Class59', 'Class88', 'Class44', 'Class90', 'Class8', 'Class13', 'Class11', 'Class85', 'Class79', 'Class56', 'Class32', 'Class62', 'Class25', 'Class42', 'Class89', 'Class33', 'Class81', 'Class53', 'Class51', 'Class30', 'Class69', 'Class35', 'Class19', 'Class4', 'Class47', 'Class23', 'Class40', 'Class95', 'Class50', 'Class58', 'Class27', 'Class49', 'Class7', 'Class31', 'Class52', 'Class1', 'Class48', 'Class68', 'Class72', 'Class5', 'Class86', 'Class3', 'Class15', 'Class87', 'Class70', 'Class93', 'Class28', 'Class74', 'Class80', 'Class64', 'Class63', 'Class12']\n",
      "96\n",
      "[array([[ 0.,  1.,  0., ...,  0.,  0.,  0.],\n",
      "       [ 0.,  0.,  0., ...,  4.,  0.,  0.],\n",
      "       [ 0.,  4.,  0., ...,  0.,  0.,  0.],\n",
      "       ...,\n",
      "       [ 0.,  3.,  2., ...,  0.,  0.,  0.],\n",
      "       [ 0.,  0.,  0., ...,  3.,  0.,  2.],\n",
      "       [ 3.,  0., 14., ...,  0.,  0.,  0.]], dtype=float32), array([37, 67, 38, ..., 95, 72, 89])]\n",
      "number of classes 96\n"
     ]
    }
   ],
   "source": [
    "from sklearn.utils import shuffle\n",
    "from sklearn.model_selection import train_test_split\n",
    "import os\n",
    "from numpy import array\n",
    "from PIL import Image\n",
    "import numpy\n",
    "import numpy as np\n",
    "\n",
    "\n",
    "\n",
    "# input image dimensions\n",
    "img_rows, img_cols = 28, 28\n",
    "\n",
    "\n",
    "# number of channels\n",
    "img_channels = 3\n",
    "\n",
    "# number of epochs\n",
    "epochs=20\n",
    "#batch Size\n",
    "batch_size=32\n",
    "\n",
    "target_names = ['class 1', 'class 2', 'class 3', 'class 4', 'class 5', 'class 6', 'class 7', 'class 8', 'class 9', 'class10', \n",
    "                'class 11', 'class 12', 'class 13', 'class 14', 'class 15', 'class 16', 'class 17', 'class 18', 'class 19', 'class 20',\n",
    "                'class 21', 'class 22', 'class 23', 'class 24', 'class 25', 'class 26', 'class 27', 'class 28', 'class 29', 'class 30',\n",
    "                'class 31', 'class 32', 'class 33', 'class 34', 'class 35', 'class 36', 'class 37', 'class 38', 'class 39', 'class 40',\n",
    "                'class 41', 'class 42', 'class 43', 'class 44', 'class 45', 'class 46', 'class 47', 'class 48', 'class 49', 'class 50',\n",
    "                'class 51', 'class 52', 'class 53', 'class 54', 'class 55', 'class 56', 'class 57', 'class 58', 'class 59', 'class 60',\n",
    "                'class 61', 'class 62', 'class 63', 'class 64', 'class 65', 'class 66', 'class 67', 'class 68', 'class 69', 'class 70',\n",
    "                'class 71', 'class 72', 'class 73', 'class 74', 'class 75', 'class 76', 'class 77', 'class 78', 'class 79', 'class 80',\n",
    "                'class 81', 'class 82', 'class 83', 'class 84', 'class 85', 'class 86', 'class 87', 'class 88', 'class 89', 'class 90',\n",
    "                'class 91', 'class 92', 'class 93', 'class 94', 'class 95', 'class 96']\n",
    "\n",
    "# Path to the folder that is containing all the folders correspond to different class\n",
    "path = '/home/gitanjali/Desktop/Deep_learning/DL_2020/assignment1/line_data'\n",
    "\n",
    "\n",
    "list_files = os.listdir(path) # List_Files contains names of different folders inside \n",
    "print (list_files)\n",
    "number_class = len(list_files) # Number of classes\n",
    "print (number_class) \n",
    "num_samples = 0\n",
    "#Processing images for each class\n",
    "global combine_matrix # declaration of variable\n",
    "n_da_per_class = [] # create list for containing size(total number of images) of each class\n",
    "check_first = 1\n",
    "\n",
    "for class_n in list_files:\n",
    "    class_list = os.listdir(path + '/'+ class_n)\n",
    "    #print(\"class list\", class_list)\n",
    "    class_im = array(Image.open(path + '/'+ class_n + '/' + class_list[0])) # open one image to get size\n",
    "    image_m,image_n = class_im.shape[0:2] # get the size of the one image in Class\n",
    "    class_imnbr = len(class_list) # get the number of images corresponding to each class\n",
    "    #print(class_imnbr)\n",
    "    n_da_per_class.append(class_imnbr) # append size of folder in n_da_per_class list\n",
    "    num_samples = num_samples + class_imnbr\n",
    "    #print(num_samples)\n",
    "    class_immatrix_n = array([array(Image.open(path + '/'+ class_n + '/' + class_im2)).flatten()\n",
    "                            for class_im2 in class_list],'f')\n",
    "    \n",
    "    #print (os.path.getsize(class_immatrix_n))\n",
    "    if check_first == 1:\n",
    "        check_first = 0\n",
    "        combine_matrix = class_immatrix_n\n",
    "    else:\n",
    "        combine_matrix  = numpy.concatenate((combine_matrix, class_immatrix_n), axis=0)  # Combining each matrix\n",
    "    \n",
    "\n",
    "label=numpy.ones((num_samples,),dtype = int) # number of elements in label = number of samples\n",
    "class_ind = 0; # initializing class label\n",
    "number = 0\n",
    "sum_number = 0\n",
    "for data_p_c in n_da_per_class:  # for each image, label is assigned\n",
    "    number = number + int(data_p_c)\n",
    "    for i in range(sum_number, number):\n",
    "        label[i] = class_ind\n",
    "    class_ind = class_ind + 1\n",
    "    sum_number = sum_number + int(data_p_c)\n",
    "\n",
    "data,Label = shuffle(combine_matrix,label, random_state=2)\n",
    "train_data = [data,Label]\n",
    "print ((train_data)) \n",
    "(x, y) = (train_data[0],train_data[1])\n",
    "# number of output classes\n",
    "nb_classes = number_class\n",
    "print(\"number of classes\",nb_classes)\n"
   ]
  },
  {
   "cell_type": "code",
   "execution_count": 2,
   "metadata": {},
   "outputs": [
    {
     "name": "stdout",
     "output_type": "stream",
     "text": [
      "training data (57600, 28, 28, 3)\n",
      "training labels (57600,)\n",
      "testing data (38400, 28, 28, 3)\n",
      "testing labels (38400,)\n"
     ]
    }
   ],
   "source": [
    "img_rows = 28\n",
    "img_cols = 28\n",
    "\n",
    "x_train, x_test, y_train, y_test = train_test_split(x, y, test_size=0.4, random_state=2)\n",
    "x_train = x_train.reshape(x_train.shape[0], img_rows, img_cols, 3)\n",
    "x_test = x_test.reshape(x_test.shape[0], img_rows, img_cols, 3)\n",
    "\n",
    "print(\"training data\",x_train.shape)\n",
    "print(\"training labels\",y_train.shape)\n",
    "print(\"testing data\",x_test.shape)\n",
    "print(\"testing labels\",y_test.shape)"
   ]
  },
  {
   "cell_type": "code",
   "execution_count": 3,
   "metadata": {},
   "outputs": [
    {
     "name": "stdout",
     "output_type": "stream",
     "text": [
      "normalize training data (57600, 28, 28, 3)\n",
      "normalize testing data (38400, 28, 28, 3)\n",
      "training labels (57600,)\n",
      "testing labels (38400,)\n"
     ]
    }
   ],
   "source": [
    "# precise the pixel value to be 32 bit\n",
    "x_train = x_train.astype(\"float32\")\n",
    "x_test = x_test.astype(\"float32\")\n",
    "\n",
    "# normalize input from 0-255 to 0-1\n",
    "x_train = x_train / 255.\n",
    "x_test = x_test / 255.\n",
    "\n",
    "# one hot encode outputs using np_utils.to_categorical inbuilt function\n",
    "\n",
    "\n",
    "\n",
    "\n",
    "print(\"normalize training data\", x_train.shape)\n",
    "print(\"normalize testing data\", x_test.shape)\n",
    "print(\"training labels\", y_train.shape)\n",
    "print(\"testing labels\", y_test.shape)"
   ]
  },
  {
   "cell_type": "code",
   "execution_count": 4,
   "metadata": {},
   "outputs": [
    {
     "name": "stderr",
     "output_type": "stream",
     "text": [
      "Using TensorFlow backend.\n"
     ]
    }
   ],
   "source": [
    "# convert class vectors to binary class matrices\n",
    "from sklearn.utils import shuffle\n",
    "from keras.utils import np_utils\n",
    "nb_classes=96\n",
    "y_train = np_utils.to_categorical(y_train, nb_classes)\n",
    "y_test = np_utils.to_categorical(y_test, nb_classes)"
   ]
  },
  {
   "cell_type": "code",
   "execution_count": 5,
   "metadata": {},
   "outputs": [
    {
     "data": {
      "text/plain": [
       "<matplotlib.image.AxesImage at 0x7f65df9a05f8>"
      ]
     },
     "execution_count": 5,
     "metadata": {},
     "output_type": "execute_result"
    }
   ],
   "source": [
    "import numpy as np\n",
    "\n",
    "import matplotlib.pyplot as plt\n",
    "# plot 2 images\n",
    "plt.subplot(221)\n",
    "plt.imshow(x_train[0])\n",
    "plt.subplot(222)\n",
    "plt.imshow(x_train[1])"
   ]
  },
  {
   "cell_type": "code",
   "execution_count": 6,
   "metadata": {},
   "outputs": [],
   "source": [
    "import numpy as np\n",
    "from keras.layers import Conv2D, MaxPooling2D, Input, Dense, Flatten, Activation, BatchNormalization\n",
    "from keras.models import Model\n",
    "#from tensorflow.examples.tutorials.mnist import input_data\n",
    "from keras.optimizers import Adam\n",
    "import matplotlib.pyplot as plt\n",
    "from sklearn.metrics import confusion_matrix"
   ]
  },
  {
   "cell_type": "code",
   "execution_count": 7,
   "metadata": {},
   "outputs": [],
   "source": [
    "import tensorflow as tf\n",
    "from tensorflow import keras\n",
    "\n",
    "# Helper libraries\n",
    "import numpy as np\n",
    "import pandas as pd\n",
    "import matplotlib.pyplot as plt\n",
    "#from tqdm import tqdm\n",
    "from keras.preprocessing import image\n",
    "#from keras.utils import to_categorical\n",
    "from sklearn.model_selection import train_test_split"
   ]
  },
  {
   "cell_type": "code",
   "execution_count": 18,
   "metadata": {},
   "outputs": [],
   "source": [
    "model = keras.Sequential()\n",
    "model.add(keras.layers.Conv2D(32, kernel_size=(7, 7),activation='relu',input_shape=(28,28,3)))\n",
    "model.add(keras.layers.BatchNormalization(axis=2))\n",
    "model.add(keras.layers.MaxPooling2D(pool_size=(2, 2), strides=2))\n",
    "model.add(keras.layers.Conv2D(64, (3, 3), activation='relu'))\n",
    "model.add(keras.layers.MaxPooling2D(pool_size=(2, 2)))\n",
    "model.add(keras.layers.Conv2D(128, (3, 3), activation='relu'))\n",
    "model.add(keras.layers.MaxPooling2D(pool_size=(2, 2)))\n",
    "\n",
    "#model.add(keras.layers.Dropout(0.25))\n",
    "model.add(keras.layers.Flatten())\n",
    "model.add(keras.layers.Dense(1024, activation='relu'))\n",
    "model.add(keras.layers.Dropout(0.25))\n",
    "model.add(keras.layers.Dense(96, activation='softmax'))"
   ]
  },
  {
   "cell_type": "code",
   "execution_count": 19,
   "metadata": {},
   "outputs": [],
   "source": [
    "#loss_fn = tf.keras.losses.SparseCategoricalCrossentropy(from_logits=True)\n",
    "#loss_fn\n",
    "\n",
    "from keras.optimizers import SGD, Adam\n",
    "\n",
    "#sgd = SGD(lr = 0.001, momentum = 0.9, decay = 0.0005)\n",
    "adam = Adam(lr=0.001, beta_1=0.9, beta_2=0.99, decay=0.0005)"
   ]
  },
  {
   "cell_type": "code",
   "execution_count": 20,
   "metadata": {},
   "outputs": [],
   "source": [
    "model.compile(optimizer='sgd',\n",
    "              loss='categorical_crossentropy',\n",
    "              metrics=['accuracy'])"
   ]
  },
  {
   "cell_type": "code",
   "execution_count": 21,
   "metadata": {},
   "outputs": [
    {
     "name": "stdout",
     "output_type": "stream",
     "text": [
      "Model: \"sequential_10\"\n",
      "_________________________________________________________________\n",
      "Layer (type)                 Output Shape              Param #   \n",
      "=================================================================\n",
      "conv2d_33 (Conv2D)           (None, 22, 22, 32)        4736      \n",
      "_________________________________________________________________\n",
      "batch_normalization_9 (Batch (None, 22, 22, 32)        88        \n",
      "_________________________________________________________________\n",
      "max_pooling2d_24 (MaxPooling (None, 11, 11, 32)        0         \n",
      "_________________________________________________________________\n",
      "conv2d_34 (Conv2D)           (None, 9, 9, 64)          18496     \n",
      "_________________________________________________________________\n",
      "max_pooling2d_25 (MaxPooling (None, 4, 4, 64)          0         \n",
      "_________________________________________________________________\n",
      "conv2d_35 (Conv2D)           (None, 2, 2, 128)         73856     \n",
      "_________________________________________________________________\n",
      "max_pooling2d_26 (MaxPooling (None, 1, 1, 128)         0         \n",
      "_________________________________________________________________\n",
      "flatten (Flatten)            (None, 128)               0         \n",
      "_________________________________________________________________\n",
      "dense (Dense)                (None, 1024)              132096    \n",
      "_________________________________________________________________\n",
      "dropout (Dropout)            (None, 1024)              0         \n",
      "_________________________________________________________________\n",
      "dense_1 (Dense)              (None, 96)                98400     \n",
      "=================================================================\n",
      "Total params: 327,672\n",
      "Trainable params: 327,628\n",
      "Non-trainable params: 44\n",
      "_________________________________________________________________\n"
     ]
    }
   ],
   "source": [
    "model.summary()"
   ]
  },
  {
   "cell_type": "code",
   "execution_count": 22,
   "metadata": {},
   "outputs": [
    {
     "name": "stdout",
     "output_type": "stream",
     "text": [
      "Train on 57600 samples, validate on 38400 samples\n",
      "Epoch 1/30\n",
      "57600/57600 [==============================] - 151s 3ms/sample - loss: 2.5136 - accuracy: 0.3194 - val_loss: 0.8949 - val_accuracy: 0.7287\n",
      "Epoch 2/30\n",
      "57600/57600 [==============================] - 102s 2ms/sample - loss: 0.6763 - accuracy: 0.7756 - val_loss: 0.3127 - val_accuracy: 0.9111\n",
      "Epoch 3/30\n",
      "57600/57600 [==============================] - 102s 2ms/sample - loss: 0.3419 - accuracy: 0.8909 - val_loss: 0.1788 - val_accuracy: 0.9474\n",
      "Epoch 4/30\n",
      "57600/57600 [==============================] - 103s 2ms/sample - loss: 0.2408 - accuracy: 0.9253 - val_loss: 0.1456 - val_accuracy: 0.9507\n",
      "Epoch 5/30\n",
      "57600/57600 [==============================] - 104s 2ms/sample - loss: 0.1605 - accuracy: 0.9467 - val_loss: 0.1109 - val_accuracy: 0.9656\n",
      "Epoch 6/30\n",
      "57600/57600 [==============================] - 105s 2ms/sample - loss: 0.1560 - accuracy: 0.9522 - val_loss: 0.0860 - val_accuracy: 0.9725\n",
      "Epoch 7/30\n",
      "57600/57600 [==============================] - 105s 2ms/sample - loss: 0.1254 - accuracy: 0.9619 - val_loss: 0.0875 - val_accuracy: 0.9691\n",
      "Epoch 8/30\n",
      "57600/57600 [==============================] - 105s 2ms/sample - loss: 0.1270 - accuracy: 0.9657 - val_loss: 0.0658 - val_accuracy: 0.9800\n",
      "Epoch 9/30\n",
      "57600/57600 [==============================] - 105s 2ms/sample - loss: 0.0755 - accuracy: 0.9743 - val_loss: 0.0568 - val_accuracy: 0.9817\n",
      "Epoch 10/30\n",
      "57600/57600 [==============================] - 104s 2ms/sample - loss: 0.0760 - accuracy: 0.9767 - val_loss: 0.0519 - val_accuracy: 0.9836\n",
      "Epoch 11/30\n",
      "57600/57600 [==============================] - 106s 2ms/sample - loss: 0.1243 - accuracy: 0.9710 - val_loss: 0.0488 - val_accuracy: 0.9861\n",
      "Epoch 12/30\n",
      "57600/57600 [==============================] - 109s 2ms/sample - loss: 0.0753 - accuracy: 0.9791 - val_loss: 0.0453 - val_accuracy: 0.9876\n",
      "Epoch 13/30\n",
      "57600/57600 [==============================] - 107s 2ms/sample - loss: 0.0506 - accuracy: 0.9838 - val_loss: 0.0376 - val_accuracy: 0.9885\n",
      "Epoch 14/30\n",
      "57600/57600 [==============================] - 107s 2ms/sample - loss: 0.0725 - accuracy: 0.9811 - val_loss: 0.0484 - val_accuracy: 0.9835\n",
      "Epoch 15/30\n",
      "57600/57600 [==============================] - 107s 2ms/sample - loss: 0.0410 - accuracy: 0.9868 - val_loss: 0.0316 - val_accuracy: 0.9901\n",
      "Epoch 16/30\n",
      "57600/57600 [==============================] - 107s 2ms/sample - loss: 0.0669 - accuracy: 0.9843 - val_loss: 0.0442 - val_accuracy: 0.9865\n",
      "Epoch 17/30\n",
      "57600/57600 [==============================] - 108s 2ms/sample - loss: 0.0349 - accuracy: 0.9887 - val_loss: 0.0275 - val_accuracy: 0.9919\n",
      "Epoch 18/30\n",
      "57600/57600 [==============================] - 109s 2ms/sample - loss: 0.0375 - accuracy: 0.9886 - val_loss: 0.0253 - val_accuracy: 0.9913\n",
      "Epoch 19/30\n",
      "57600/57600 [==============================] - 109s 2ms/sample - loss: 0.0309 - accuracy: 0.9895 - val_loss: 0.0266 - val_accuracy: 0.9907\n",
      "Epoch 20/30\n",
      "57600/57600 [==============================] - 109s 2ms/sample - loss: 0.0451 - accuracy: 0.9882 - val_loss: 0.0228 - val_accuracy: 0.9935\n",
      "Epoch 21/30\n",
      "57600/57600 [==============================] - 109s 2ms/sample - loss: 0.0268 - accuracy: 0.9911 - val_loss: 0.0215 - val_accuracy: 0.9942\n",
      "Epoch 22/30\n",
      "57600/57600 [==============================] - 109s 2ms/sample - loss: 0.0256 - accuracy: 0.9913 - val_loss: 0.1171 - val_accuracy: 0.9648\n",
      "Epoch 23/30\n",
      "57600/57600 [==============================] - 109s 2ms/sample - loss: 0.0309 - accuracy: 0.9909 - val_loss: 0.0189 - val_accuracy: 0.9942\n",
      "Epoch 24/30\n",
      "57600/57600 [==============================] - 110s 2ms/sample - loss: 0.0211 - accuracy: 0.9928 - val_loss: 0.0172 - val_accuracy: 0.9944\n",
      "Epoch 25/30\n",
      "57600/57600 [==============================] - 110s 2ms/sample - loss: 0.0213 - accuracy: 0.9928 - val_loss: 0.0181 - val_accuracy: 0.9937\n",
      "Epoch 26/30\n",
      "57600/57600 [==============================] - 110s 2ms/sample - loss: 0.0302 - accuracy: 0.9916 - val_loss: 0.0163 - val_accuracy: 0.9949\n",
      "Epoch 27/30\n",
      "57600/57600 [==============================] - 110s 2ms/sample - loss: 0.0426 - accuracy: 0.9907 - val_loss: 0.0236 - val_accuracy: 0.9923\n",
      "Epoch 28/30\n",
      "57600/57600 [==============================] - 110s 2ms/sample - loss: 0.0193 - accuracy: 0.9936 - val_loss: 0.0165 - val_accuracy: 0.9948\n",
      "Epoch 29/30\n",
      "57600/57600 [==============================] - 110s 2ms/sample - loss: 0.0177 - accuracy: 0.9939 - val_loss: 0.0145 - val_accuracy: 0.9954\n",
      "Epoch 30/30\n",
      "57600/57600 [==============================] - 110s 2ms/sample - loss: 0.0221 - accuracy: 0.9931 - val_loss: 0.0306 - val_accuracy: 0.9889\n"
     ]
    }
   ],
   "source": [
    "history = model.fit(x_train, y_train, epochs=30, validation_data=(x_test, y_test))"
   ]
  },
  {
   "cell_type": "code",
   "execution_count": 23,
   "metadata": {},
   "outputs": [
    {
     "name": "stdout",
     "output_type": "stream",
     "text": [
      "dict_keys(['loss', 'accuracy', 'val_loss', 'val_accuracy'])\n"
     ]
    },
    {
     "data": {
      "image/png": "[encoded data removed]",
      "text/plain": [
       "<Figure size 432x288 with 1 Axes>"
      ]
     },
     "metadata": {
      "needs_background": "light"
     },
     "output_type": "display_data"
    }
   ],
   "source": [
    "print(history.history.keys())\n",
    "# summarize history for accuracy\n",
    "plt.plot(history.history['accuracy'])\n",
    "plt.plot(history.history['val_accuracy'])\n",
    "plt.title('model accuracy')\n",
    "plt.ylabel('accuracy')\n",
    "plt.xlabel('epoch')\n",
    "plt.legend(['train', 'test'], loc='upper left')\n",
    "plt.show()"
   ]
  },
  {
   "cell_type": "code",
   "execution_count": 24,
   "metadata": {},
   "outputs": [
    {
     "data": {
      "image/png": "[encoded data removed]",
      "text/plain": [
       "<Figure size 432x288 with 1 Axes>"
      ]
     },
     "metadata": {
      "needs_background": "light"
     },
     "output_type": "display_data"
    }
   ],
   "source": [
    "# summarize history for loss\n",
    "plt.plot(history.history['loss'])\n",
    "plt.plot(history.history['val_loss'])\n",
    "plt.title('model loss')\n",
    "plt.ylabel('loss')\n",
    "plt.xlabel('epoch')\n",
    "plt.legend(['train', 'test'], loc='upper left')\n",
    "plt.show()"
   ]
  },
  {
   "cell_type": "code",
   "execution_count": 25,
   "metadata": {},
   "outputs": [
    {
     "name": "stdout",
     "output_type": "stream",
     "text": [
      "38400/38400 [==============================] - 18s 479us/sample - loss: 0.0306 - accuracy: 0.9889\n",
      "Accuracy : 98.89%\n",
      "Baseline Error: 1.11%\n"
     ]
    }
   ],
   "source": [
    "# Final evaluation of the model\n",
    "\n",
    "scores = model.evaluate(x_test, y_test)\n",
    "\n",
    "print(\"Accuracy : %.2f%%\" % (scores[1]*100))\n",
    "print(\"Baseline Error: %.2f%%\" % (100-scores[1]*100))"
   ]
  },
  {
   "cell_type": "code",
   "execution_count": 26,
   "metadata": {},
   "outputs": [
    {
     "name": "stdout",
     "output_type": "stream",
     "text": [
      "(38400, 96)\n",
      "(38400,)\n"
     ]
    }
   ],
   "source": [
    "import tensorflow as tf\n",
    "y= model.predict(x_test)\n",
    "print(y.shape)\n",
    "y_pred = np.argmax(y, axis=1)\n",
    "print(y_pred.shape)\n",
    "\n",
    "#target=target_names = ['class0','class 1', 'class 2', 'class 3', 'class 4', 'class 5', 'class 6', 'class 7', 'class 8', 'class 9'] \n",
    "\n",
    "#con = tf.math.confusion_matrix(labels=y_test, predictions=y_pred)\n",
    "#print(con)\n",
    "\n",
    "y_pred = model.predict(x_test)\n",
    "cm = confusion_matrix(y_test.argmax(axis=1), y_pred.argmax(axis=1))"
   ]
  },
  {
   "cell_type": "code",
   "execution_count": 28,
   "metadata": {},
   "outputs": [
    {
     "name": "stdout",
     "output_type": "stream",
     "text": [
      "[[382   0   0 ...   0   0   0]\n",
      " [  0 411   0 ...   0   0   0]\n",
      " [  0   0 404 ...   0   0   0]\n",
      " ...\n",
      " [  0   0   0 ... 386   0   0]\n",
      " [  0   0   0 ...   0 390   0]\n",
      " [  0   0   0 ...   0   0 408]]\n"
     ]
    }
   ],
   "source": [
    "y_pred = model.predict(x_test)\n",
    "cm = confusion_matrix(y_test.argmax(axis=1), y_pred.argmax(axis=1))\n",
    "print(cm)"
   ]
  },
  {
   "cell_type": "code",
   "execution_count": null,
   "metadata": {},
   "outputs": [],
   "source": [
    "\n"
   ]
  },
  {
   "cell_type": "code",
   "execution_count": 27,
   "metadata": {},
   "outputs": [
    {
     "name": "stdout",
     "output_type": "stream",
     "text": [
      "Saved model to disk\n"
     ]
    }
   ],
   "source": [
    "from keras.models import model_from_json\n",
    "# save trained model\n",
    "# serialize model to JSON\n",
    "model_json = model.to_json()\n",
    "with open(\"Q3_PART2_Line_dataset_variation4.json\", \"w\") as json_file:\n",
    "    json_file.write(model_json)\n",
    "# serialize weights to HDF5 and saving the weights\n",
    "model.save_weights(\"Q3_PART2_Line_dataset_variation4.h5\")\n",
    "print(\"Saved model to disk\")"
   ]
  },
  {
   "cell_type": "code",
   "execution_count": 29,
   "metadata": {},
   "outputs": [
    {
     "name": "stdout",
     "output_type": "stream",
     "text": [
      "Model: \"sequential_10\"\n",
      "_________________________________________________________________\n",
      "Layer (type)                 Output Shape              Param #   \n",
      "=================================================================\n",
      "conv2d_33 (Conv2D)           (None, 22, 22, 32)        4736      \n",
      "_________________________________________________________________\n",
      "batch_normalization_9 (Batch (None, 22, 22, 32)        88        \n",
      "_________________________________________________________________\n",
      "max_pooling2d_24 (MaxPooling (None, 11, 11, 32)        0         \n",
      "_________________________________________________________________\n",
      "conv2d_34 (Conv2D)           (None, 9, 9, 64)          18496     \n",
      "_________________________________________________________________\n",
      "max_pooling2d_25 (MaxPooling (None, 4, 4, 64)          0         \n",
      "_________________________________________________________________\n",
      "conv2d_35 (Conv2D)           (None, 2, 2, 128)         73856     \n",
      "_________________________________________________________________\n",
      "max_pooling2d_26 (MaxPooling (None, 1, 1, 128)         0         \n",
      "_________________________________________________________________\n",
      "flatten (Flatten)            (None, 128)               0         \n",
      "_________________________________________________________________\n",
      "dense (Dense)                (None, 1024)              132096    \n",
      "_________________________________________________________________\n",
      "dropout (Dropout)            (None, 1024)              0         \n",
      "_________________________________________________________________\n",
      "dense_1 (Dense)              (None, 96)                98400     \n",
      "=================================================================\n",
      "Total params: 327,672\n",
      "Trainable params: 327,628\n",
      "Non-trainable params: 44\n",
      "_________________________________________________________________\n"
     ]
    }
   ],
   "source": [
    "model.load_weights(\"Q3_PART2_Line_dataset_variation4.h5\")\n",
    "model.summary()"
   ]
  },
  {
   "cell_type": "code",
   "execution_count": 159,
   "metadata": {},
   "outputs": [
    {
     "name": "stdout",
     "output_type": "stream",
     "text": [
      "[<tf.Tensor 'conv2d_33_input:0' shape=(None, 28, 28, 3) dtype=float32>]\n",
      "Tensor(\"conv2d_33/Identity:0\", shape=(None, 22, 22, 32), dtype=float32)\n"
     ]
    }
   ],
   "source": [
    "from tensorflow.keras.models import Model\n",
    "model = Model(inputs=model.inputs, outputs=model.layers[1].output)\n",
    "#model = model.predict\n",
    "print(model.inputs)\n",
    "print(model.layers[1].output)"
   ]
  },
  {
   "cell_type": "code",
   "execution_count": 161,
   "metadata": {},
   "outputs": [
    {
     "name": "stdout",
     "output_type": "stream",
     "text": [
      "(1, 28, 28, 3)\n"
     ]
    },
    {
     "data": {
      "text/plain": [
       "(-0.5, 27.5, 27.5, -0.5)"
      ]
     },
     "execution_count": 161,
     "metadata": {},
     "output_type": "execute_result"
    },
    {
     "data": {
      "image/png": "[encoded data removed]",
      "text/plain": [
       "<Figure size 360x360 with 1 Axes>"
      ]
     },
     "metadata": {
      "needs_background": "light"
     },
     "output_type": "display_data"
    }
   ],
   "source": [
    "img = x_test[2500].reshape(1,28,28,3)\n",
    "print(img.shape)\n",
    "figure = plt.figure(figsize=(5,5))\n",
    "plt.imshow (img[0,:,:,0])\n",
    "plt.axis('on')"
   ]
  },
  {
   "cell_type": "code",
   "execution_count": 177,
   "metadata": {},
   "outputs": [
    {
     "data": {
      "image/png": "[encoded data removed]",
      "text/plain": [
       "<Figure size 432x288 with 1 Axes>"
      ]
     },
     "metadata": {
      "needs_background": "light"
     },
     "output_type": "display_data"
    }
   ],
   "source": [
    "feature_maps = model.predict(img)\n",
    "\n",
    "# plot all 64 maps in an 8x8 squares\n",
    "square1 = 1\n",
    "square2 = 1\n",
    "ix = 1\n",
    "for _ in range(square1):\n",
    "\tfor _ in range(square2):\n",
    "\t\t# specify subplot and turn of axis\n",
    "\t\tax = plt.subplot(square1, square2, ix)\n",
    "\t\tax.set_xticks([])\n",
    "\t\t#ax.set_yticks([])\n",
    "\t\t# plot filter channel in grayscale\n",
    "\t\tplt.imshow(feature_maps[0, :, :, ix-31], cmap='viridis')\n",
    "\t\tix += 1\n",
    "# show the figure\n",
    "plt.savefig('featuremap_disp_Q3_part1.png')"
   ]
  },
  {
   "cell_type": "code",
   "execution_count": 178,
   "metadata": {},
   "outputs": [
    {
     "name": "stdout",
     "output_type": "stream",
     "text": [
      "(7, 7, 3, 32)\n"
     ]
    },
    {
     "data": {
      "image/png": "[encoded data removed]",
      "text/plain": [
       "<Figure size 432x288 with 1 Axes>"
      ]
     },
     "metadata": {},
     "output_type": "display_data"
    }
   ],
   "source": [
    "for layer in model.layers:\n",
    "    if 'conv' not in layer.name:\n",
    "        continue\n",
    "    #filters, biases = layer.get_weights()\n",
    "    #print(layer.name, filters.shape)\n",
    "    \n",
    "filters, biases = model.layers[1].get_weights()\n",
    "filters1 = filters\n",
    "f_min, f_max = filters.min(), filters.max()\n",
    "filters = (filters - f_min)/(f_max - f_min)\n",
    "#print(filters.shape, biases.shape)\n",
    "print(filters1.shape)\n",
    "#plt.imshow(filters[1, :, :, 0], cmap='viridis')\n",
    "#plt.show()\n",
    "# plot all 64 maps in an 8x8 squares\n",
    "n_filters = 1\n",
    "ix = 1\n",
    "\n",
    "for i in range(n_filters):\n",
    "    f = filters[:, :, :, 31]\n",
    "    #plot each channel seperately\n",
    "    for j in range(1):\n",
    "\t\t# specify subplot and turn of axis\n",
    "        ax = plt.subplot(n_filters, 1, ix)\n",
    "        ax.set_xticks([])\n",
    "        ax.set_yticks([])\n",
    "        # plot filter channel in grayscale\n",
    "        plt.imshow(f[:, :, j], cmap='viridis') \n",
    "        ix += 1\n",
    "# show the figure\n",
    "plt.savefig('featuremap_disp_filter.png')\n",
    "plt.show()\n",
    "#plt.axis()"
   ]
  },
  {
   "cell_type": "code",
   "execution_count": null,
   "metadata": {},
   "outputs": [],
   "source": []
  }
 ],
 "metadata": {
  "kernelspec": {
   "display_name": "Python 3",
   "language": "python",
   "name": "python3"
  },
  "language_info": {
   "codemirror_mode": {
    "name": "ipython",
    "version": 3
   },
   "file_extension": ".py",
   "mimetype": "text/x-python",
   "name": "python",
   "nbconvert_exporter": "python",
   "pygments_lexer": "ipython3",
   "version": "3.6.8"
  }
 },
 "nbformat": 4,
 "nbformat_minor": 2
}
